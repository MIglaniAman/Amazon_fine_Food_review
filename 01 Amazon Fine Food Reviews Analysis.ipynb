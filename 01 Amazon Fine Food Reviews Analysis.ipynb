{
 "cells": [
  {
   "cell_type": "markdown",
   "metadata": {},
   "source": [
    "# Amazon Fine Food Reviews Analysis\n",
    "\n",
    "This dataset consists of reviews of fine foods from amazon. \n",
    "\n",
    "Number of reviews : 568,454\n",
    "    \n",
    "No. of users : 256,059\n",
    "    \n",
    "No. of Products: 74,258 \n",
    "    \n",
    "Reviews from Oct 1999 - Oct 2012\n",
    "    \n",
    "Number of Attributes/Columns in data: 10\n",
    "    \n",
    "\n",
    "Attributes info :\n",
    "\n",
    "1. Id\n",
    "2. ProductId : Unique identifier for the product\n",
    "3. UserId : Unqiue identifier for the user\n",
    "4. ProfileName: Profile name of the user\n",
    "5. HelpfulnessNumerator: Number of users who found the review helpful\n",
    "6. HelpfulnessDenominator : Number of users who indicated whether they found the review helpful or not\n",
    "7. Score : Rating between 1 and 5\n",
    "8. Time : Timestamp for the review\n",
    "9. Summary : Brief summary of the review\n",
    "10. Text : Text of the review\n",
    "\n",
    "Objective of Task:\n",
    "1. Given a review , determine whether a review is positive(rating between 4and 5)  or negative (rating between 1 and 2) \n",
    "\n",
    "\n",
    "\n",
    "Q. How to determine if a review is positive or negative? \n",
    "\n",
    "Ans. W could use the Score/Rating attribute . \n",
    "    A Score of 4 or 5 could be considered as postive review.\n",
    "    A Score 1 or 3 could be considered as neagtive review.\n",
    "    A review of 3 is neutral and can be ignored.\n",
    "    This is an apporximate and proxy way of determining  the polarity (postive/negative) of a review."
   ]
  },
  {
   "cell_type": "markdown",
   "metadata": {},
   "source": [
    "# Loading the Data\n",
    "The dataset if available in two forms \n",
    "1. csv file\n",
    "2. SQLITE Database\n",
    "In order to load the data ,We have used the SQLITE dataset as it easier to query the data and visualize the data efficienctly.\n",
    "\n",
    "Here as we only want to get the global sentiment of the recomendation (positive or negative),we will purposefully ignore all scores equal to 3 ,If the Score_id above 3,then the recommendation will be set to \"positve\" .Otheriwse ,it will be set to \"negative\""
   ]
  },
  {
   "cell_type": "code",
   "execution_count": 1,
   "metadata": {},
   "outputs": [],
   "source": [
    "# importing imp libraries that we will need\n",
    "import warnings\n",
    "warnings.filterwarnings('ignore')#It ignores the warning present in the code once you executed it\n",
    "#%matplotlib inline #sets the backend of matplotlib to the 'inline' backend: \n",
    "                    #With this backend, the output of plotting commands is displayed inline within frontends \n",
    "                    #like the Jupyter notebook, directly below the code cell that produced it.\n",
    "                    #The resulting plots will then also be stored in the notebook document\n",
    "import sqlite3\n",
    "import pandas as pd\n",
    "import numpy as np \n",
    "import string\n",
    "import matplotlib.pyplot as plt\n",
    "import seaborn as sns\n",
    "from sklearn.feature_extraction.text import TfidfTransformer\n",
    "from sklearn.feature_extraction.text import TfidfVectorizer\n",
    "from sklearn.feature_extraction.text import CountVectorizer\n",
    "from sklearn import metrics\n",
    "from sklearn.metrics import confusion_matrix\n",
    "from sklearn.metrics import roc_curve ,auc\n",
    "\n",
    "import nltk \n",
    "from nltk.stem.porter import PorterStemmer\n",
    "import re\n",
    "from nltk.stem.wordnet import WordNetLemmatizer\n",
    "from nltk.corpus import stopwords\n",
    "from gensim.models import Word2Vec\n",
    "from gensim.models import KeyedVectors\n",
    "import pickle\n",
    "from tqdm import tqdm"
   ]
  },
  {
   "cell_type": "markdown",
   "metadata": {},
   "source": [
    "# 1. Reading Data"
   ]
  },
  {
   "cell_type": "code",
   "execution_count": 2,
   "metadata": {},
   "outputs": [
    {
     "name": "stdout",
     "output_type": "stream",
     "text": [
      "No. of data points in our dataset (525814, 10)\n"
     ]
    },
    {
     "data": {
      "text/html": [
       "<div>\n",
       "<style scoped>\n",
       "    .dataframe tbody tr th:only-of-type {\n",
       "        vertical-align: middle;\n",
       "    }\n",
       "\n",
       "    .dataframe tbody tr th {\n",
       "        vertical-align: top;\n",
       "    }\n",
       "\n",
       "    .dataframe thead th {\n",
       "        text-align: right;\n",
       "    }\n",
       "</style>\n",
       "<table border=\"1\" class=\"dataframe\">\n",
       "  <thead>\n",
       "    <tr style=\"text-align: right;\">\n",
       "      <th></th>\n",
       "      <th>Id</th>\n",
       "      <th>ProductId</th>\n",
       "      <th>UserId</th>\n",
       "      <th>ProfileName</th>\n",
       "      <th>HelpfulnessNumerator</th>\n",
       "      <th>HelpfulnessDenominator</th>\n",
       "      <th>Score</th>\n",
       "      <th>Time</th>\n",
       "      <th>Summary</th>\n",
       "      <th>Text</th>\n",
       "    </tr>\n",
       "  </thead>\n",
       "  <tbody>\n",
       "    <tr>\n",
       "      <th>0</th>\n",
       "      <td>1</td>\n",
       "      <td>B001E4KFG0</td>\n",
       "      <td>A3SGXH7AUHU8GW</td>\n",
       "      <td>delmartian</td>\n",
       "      <td>1</td>\n",
       "      <td>1</td>\n",
       "      <td>1</td>\n",
       "      <td>1303862400</td>\n",
       "      <td>Good Quality Dog Food</td>\n",
       "      <td>I have bought several of the Vitality canned d...</td>\n",
       "    </tr>\n",
       "    <tr>\n",
       "      <th>1</th>\n",
       "      <td>2</td>\n",
       "      <td>B00813GRG4</td>\n",
       "      <td>A1D87F6ZCVE5NK</td>\n",
       "      <td>dll pa</td>\n",
       "      <td>0</td>\n",
       "      <td>0</td>\n",
       "      <td>0</td>\n",
       "      <td>1346976000</td>\n",
       "      <td>Not as Advertised</td>\n",
       "      <td>Product arrived labeled as Jumbo Salted Peanut...</td>\n",
       "    </tr>\n",
       "    <tr>\n",
       "      <th>2</th>\n",
       "      <td>3</td>\n",
       "      <td>B000LQOCH0</td>\n",
       "      <td>ABXLMWJIXXAIN</td>\n",
       "      <td>Natalia Corres \"Natalia Corres\"</td>\n",
       "      <td>1</td>\n",
       "      <td>1</td>\n",
       "      <td>1</td>\n",
       "      <td>1219017600</td>\n",
       "      <td>\"Delight\" says it all</td>\n",
       "      <td>This is a confection that has been around a fe...</td>\n",
       "    </tr>\n",
       "  </tbody>\n",
       "</table>\n",
       "</div>"
      ],
      "text/plain": [
       "   Id   ProductId          UserId                      ProfileName  \\\n",
       "0   1  B001E4KFG0  A3SGXH7AUHU8GW                       delmartian   \n",
       "1   2  B00813GRG4  A1D87F6ZCVE5NK                           dll pa   \n",
       "2   3  B000LQOCH0   ABXLMWJIXXAIN  Natalia Corres \"Natalia Corres\"   \n",
       "\n",
       "   HelpfulnessNumerator  HelpfulnessDenominator  Score        Time  \\\n",
       "0                     1                       1      1  1303862400   \n",
       "1                     0                       0      0  1346976000   \n",
       "2                     1                       1      1  1219017600   \n",
       "\n",
       "                 Summary                                               Text  \n",
       "0  Good Quality Dog Food  I have bought several of the Vitality canned d...  \n",
       "1      Not as Advertised  Product arrived labeled as Jumbo Salted Peanut...  \n",
       "2  \"Delight\" says it all  This is a confection that has been around a fe...  "
      ]
     },
     "execution_count": 2,
     "metadata": {},
     "output_type": "execute_result"
    }
   ],
   "source": [
    "# using the SQLITE table to read data.\n",
    "con =sqlite3.connect('database.sqlite')\n",
    "#filtering only positive and negative reviews and not taking into consideration those reviews with Score=3\n",
    "\n",
    "filtered_data=pd.read_sql_query(\"\"\" SELECT  * FROM Reviews WHERE Score !=3 LIMIT 568454\"\"\",con)\n",
    "# print(filtered_data.shape)\n",
    "def partition(x):\n",
    "    if x<3:\n",
    "        return 0\n",
    "    return 1\n",
    "\n",
    "#changing reviews with score less than 3 to be negative and vice versa\n",
    "actualScore=filtered_data['Score']  # it will give only score attributes\n",
    "##posNeg = actual_score.map(lambda x : 'Positive' if x > '3' else 'Negative')\n",
    "Positive_negative = actualScore.map(partition)  \n",
    "# it will use the partion func we have created and chang the score in 1 or 0and \n",
    "#save in variable \"Positive_negative\"\n",
    "#print(filtered_data)\n",
    "filtered_data['Score']=Positive_negative  # it will replace  the score column with 0 and 1 (from 1,2&4,5 to 0 &1)\n",
    "\n",
    "print('No. of data points in our dataset',filtered_data.shape)\n",
    "filtered_data.head(3)"
   ]
  },
  {
   "cell_type": "code",
   "execution_count": 6,
   "metadata": {},
   "outputs": [
    {
     "name": "stdout",
     "output_type": "stream",
     "text": [
      "<class 'pandas.core.frame.DataFrame'>\n",
      "RangeIndex: 525814 entries, 0 to 525813\n",
      "Data columns (total 10 columns):\n",
      " #   Column                  Non-Null Count   Dtype \n",
      "---  ------                  --------------   ----- \n",
      " 0   Id                      525814 non-null  int64 \n",
      " 1   ProductId               525814 non-null  object\n",
      " 2   UserId                  525814 non-null  object\n",
      " 3   ProfileName             525814 non-null  object\n",
      " 4   HelpfulnessNumerator    525814 non-null  int64 \n",
      " 5   HelpfulnessDenominator  525814 non-null  int64 \n",
      " 6   Score                   525814 non-null  int64 \n",
      " 7   Time                    525814 non-null  int64 \n",
      " 8   Summary                 525814 non-null  object\n",
      " 9   Text                    525814 non-null  object\n",
      "dtypes: int64(5), object(5)\n",
      "memory usage: 40.1+ MB\n"
     ]
    }
   ],
   "source": [
    "filtered_data.info()"
   ]
  },
  {
   "cell_type": "code",
   "execution_count": 3,
   "metadata": {},
   "outputs": [],
   "source": [
    "# counting the no. of time the same user has given the review\n",
    "display = pd.read_sql_query(\"\"\"\n",
    "            SELECT UserId, ProductId, ProfileName, Time, Score, Text, COUNT(*)\n",
    "            FROM Reviews\n",
    "            GROUP BY UserId \n",
    "            HAVING COUNT(*)>1\n",
    "            \"\"\",con)"
   ]
  },
  {
   "cell_type": "code",
   "execution_count": 4,
   "metadata": {},
   "outputs": [
    {
     "name": "stdout",
     "output_type": "stream",
     "text": [
      "(80668, 7)\n"
     ]
    },
    {
     "data": {
      "text/html": [
       "<div>\n",
       "<style scoped>\n",
       "    .dataframe tbody tr th:only-of-type {\n",
       "        vertical-align: middle;\n",
       "    }\n",
       "\n",
       "    .dataframe tbody tr th {\n",
       "        vertical-align: top;\n",
       "    }\n",
       "\n",
       "    .dataframe thead th {\n",
       "        text-align: right;\n",
       "    }\n",
       "</style>\n",
       "<table border=\"1\" class=\"dataframe\">\n",
       "  <thead>\n",
       "    <tr style=\"text-align: right;\">\n",
       "      <th></th>\n",
       "      <th>UserId</th>\n",
       "      <th>ProductId</th>\n",
       "      <th>ProfileName</th>\n",
       "      <th>Time</th>\n",
       "      <th>Score</th>\n",
       "      <th>Text</th>\n",
       "      <th>COUNT(*)</th>\n",
       "    </tr>\n",
       "  </thead>\n",
       "  <tbody>\n",
       "    <tr>\n",
       "      <th>0</th>\n",
       "      <td>#oc-R115TNMSPFT9I7</td>\n",
       "      <td>B005ZBZLT4</td>\n",
       "      <td>Breyton</td>\n",
       "      <td>1331510400</td>\n",
       "      <td>2</td>\n",
       "      <td>Overall its just OK when considering the price...</td>\n",
       "      <td>2</td>\n",
       "    </tr>\n",
       "    <tr>\n",
       "      <th>1</th>\n",
       "      <td>#oc-R11D9D7SHXIJB9</td>\n",
       "      <td>B005HG9ESG</td>\n",
       "      <td>Louis E. Emory \"hoppy\"</td>\n",
       "      <td>1342396800</td>\n",
       "      <td>5</td>\n",
       "      <td>My wife has recurring extreme muscle spasms, u...</td>\n",
       "      <td>3</td>\n",
       "    </tr>\n",
       "    <tr>\n",
       "      <th>2</th>\n",
       "      <td>#oc-R11DNU2NBKQ23Z</td>\n",
       "      <td>B005ZBZLT4</td>\n",
       "      <td>Kim Cieszykowski</td>\n",
       "      <td>1348531200</td>\n",
       "      <td>1</td>\n",
       "      <td>This coffee is horrible and unfortunately not ...</td>\n",
       "      <td>2</td>\n",
       "    </tr>\n",
       "    <tr>\n",
       "      <th>3</th>\n",
       "      <td>#oc-R11O5J5ZVQE25C</td>\n",
       "      <td>B005HG9ESG</td>\n",
       "      <td>Penguin Chick</td>\n",
       "      <td>1346889600</td>\n",
       "      <td>5</td>\n",
       "      <td>This will be the bottle that you grab from the...</td>\n",
       "      <td>3</td>\n",
       "    </tr>\n",
       "    <tr>\n",
       "      <th>4</th>\n",
       "      <td>#oc-R12KPBODL2B5ZD</td>\n",
       "      <td>B007OSBEV0</td>\n",
       "      <td>Christopher P. Presta</td>\n",
       "      <td>1348617600</td>\n",
       "      <td>1</td>\n",
       "      <td>I didnt like this coffee. Instead of telling y...</td>\n",
       "      <td>2</td>\n",
       "    </tr>\n",
       "  </tbody>\n",
       "</table>\n",
       "</div>"
      ],
      "text/plain": [
       "               UserId   ProductId             ProfileName        Time  Score  \\\n",
       "0  #oc-R115TNMSPFT9I7  B005ZBZLT4                 Breyton  1331510400      2   \n",
       "1  #oc-R11D9D7SHXIJB9  B005HG9ESG  Louis E. Emory \"hoppy\"  1342396800      5   \n",
       "2  #oc-R11DNU2NBKQ23Z  B005ZBZLT4        Kim Cieszykowski  1348531200      1   \n",
       "3  #oc-R11O5J5ZVQE25C  B005HG9ESG           Penguin Chick  1346889600      5   \n",
       "4  #oc-R12KPBODL2B5ZD  B007OSBEV0   Christopher P. Presta  1348617600      1   \n",
       "\n",
       "                                                Text  COUNT(*)  \n",
       "0  Overall its just OK when considering the price...         2  \n",
       "1  My wife has recurring extreme muscle spasms, u...         3  \n",
       "2  This coffee is horrible and unfortunately not ...         2  \n",
       "3  This will be the bottle that you grab from the...         3  \n",
       "4  I didnt like this coffee. Instead of telling y...         2  "
      ]
     },
     "execution_count": 4,
     "metadata": {},
     "output_type": "execute_result"
    }
   ],
   "source": [
    "print(display.shape)\n",
    "display.head()"
   ]
  },
  {
   "cell_type": "code",
   "execution_count": 5,
   "metadata": {},
   "outputs": [
    {
     "data": {
      "text/html": [
       "<div>\n",
       "<style scoped>\n",
       "    .dataframe tbody tr th:only-of-type {\n",
       "        vertical-align: middle;\n",
       "    }\n",
       "\n",
       "    .dataframe tbody tr th {\n",
       "        vertical-align: top;\n",
       "    }\n",
       "\n",
       "    .dataframe thead th {\n",
       "        text-align: right;\n",
       "    }\n",
       "</style>\n",
       "<table border=\"1\" class=\"dataframe\">\n",
       "  <thead>\n",
       "    <tr style=\"text-align: right;\">\n",
       "      <th></th>\n",
       "      <th>UserId</th>\n",
       "      <th>ProductId</th>\n",
       "      <th>ProfileName</th>\n",
       "      <th>Time</th>\n",
       "      <th>Score</th>\n",
       "      <th>Text</th>\n",
       "      <th>COUNT(*)</th>\n",
       "    </tr>\n",
       "  </thead>\n",
       "  <tbody>\n",
       "  </tbody>\n",
       "</table>\n",
       "</div>"
      ],
      "text/plain": [
       "Empty DataFrame\n",
       "Columns: [UserId, ProductId, ProfileName, Time, Score, Text, COUNT(*)]\n",
       "Index: []"
      ]
     },
     "execution_count": 5,
     "metadata": {},
     "output_type": "execute_result"
    }
   ],
   "source": [
    "display[display['UserId']=='A2S8CZX8Y19QQX']"
   ]
  },
  {
   "cell_type": "code",
   "execution_count": 6,
   "metadata": {},
   "outputs": [
    {
     "data": {
      "text/plain": [
       "393063"
      ]
     },
     "execution_count": 6,
     "metadata": {},
     "output_type": "execute_result"
    }
   ],
   "source": [
    "display['COUNT(*)'].sum() #total no. of distinct user give the reviews"
   ]
  },
  {
   "cell_type": "markdown",
   "metadata": {},
   "source": [
    "# Exploratory Data Analysis \n",
    "### 2. Data Cleaning Deduplication:\n",
    "    It is observed (as shown in the data below)that reviews data had many duplicates entries . Hence it was necessary to remove dupicates in order to get unbaised results for the analysis of the data ."
   ]
  },
  {
   "cell_type": "code",
   "execution_count": 7,
   "metadata": {},
   "outputs": [
    {
     "data": {
      "text/html": [
       "<div>\n",
       "<style scoped>\n",
       "    .dataframe tbody tr th:only-of-type {\n",
       "        vertical-align: middle;\n",
       "    }\n",
       "\n",
       "    .dataframe tbody tr th {\n",
       "        vertical-align: top;\n",
       "    }\n",
       "\n",
       "    .dataframe thead th {\n",
       "        text-align: right;\n",
       "    }\n",
       "</style>\n",
       "<table border=\"1\" class=\"dataframe\">\n",
       "  <thead>\n",
       "    <tr style=\"text-align: right;\">\n",
       "      <th></th>\n",
       "      <th>Id</th>\n",
       "      <th>ProductId</th>\n",
       "      <th>UserId</th>\n",
       "      <th>ProfileName</th>\n",
       "      <th>HelpfulnessNumerator</th>\n",
       "      <th>HelpfulnessDenominator</th>\n",
       "      <th>Score</th>\n",
       "      <th>Time</th>\n",
       "      <th>Summary</th>\n",
       "      <th>Text</th>\n",
       "    </tr>\n",
       "  </thead>\n",
       "  <tbody>\n",
       "    <tr>\n",
       "      <th>0</th>\n",
       "      <td>78445</td>\n",
       "      <td>B000HDL1RQ</td>\n",
       "      <td>AR5J8UI46CURR</td>\n",
       "      <td>Geetha Krishnan</td>\n",
       "      <td>2</td>\n",
       "      <td>2</td>\n",
       "      <td>5</td>\n",
       "      <td>1199577600</td>\n",
       "      <td>LOACKER QUADRATINI VANILLA WAFERS</td>\n",
       "      <td>DELICIOUS WAFERS. I FIND THAT EUROPEAN WAFERS ...</td>\n",
       "    </tr>\n",
       "    <tr>\n",
       "      <th>1</th>\n",
       "      <td>138317</td>\n",
       "      <td>B000HDOPYC</td>\n",
       "      <td>AR5J8UI46CURR</td>\n",
       "      <td>Geetha Krishnan</td>\n",
       "      <td>2</td>\n",
       "      <td>2</td>\n",
       "      <td>5</td>\n",
       "      <td>1199577600</td>\n",
       "      <td>LOACKER QUADRATINI VANILLA WAFERS</td>\n",
       "      <td>DELICIOUS WAFERS. I FIND THAT EUROPEAN WAFERS ...</td>\n",
       "    </tr>\n",
       "    <tr>\n",
       "      <th>2</th>\n",
       "      <td>138277</td>\n",
       "      <td>B000HDOPYM</td>\n",
       "      <td>AR5J8UI46CURR</td>\n",
       "      <td>Geetha Krishnan</td>\n",
       "      <td>2</td>\n",
       "      <td>2</td>\n",
       "      <td>5</td>\n",
       "      <td>1199577600</td>\n",
       "      <td>LOACKER QUADRATINI VANILLA WAFERS</td>\n",
       "      <td>DELICIOUS WAFERS. I FIND THAT EUROPEAN WAFERS ...</td>\n",
       "    </tr>\n",
       "    <tr>\n",
       "      <th>3</th>\n",
       "      <td>73791</td>\n",
       "      <td>B000HDOPZG</td>\n",
       "      <td>AR5J8UI46CURR</td>\n",
       "      <td>Geetha Krishnan</td>\n",
       "      <td>2</td>\n",
       "      <td>2</td>\n",
       "      <td>5</td>\n",
       "      <td>1199577600</td>\n",
       "      <td>LOACKER QUADRATINI VANILLA WAFERS</td>\n",
       "      <td>DELICIOUS WAFERS. I FIND THAT EUROPEAN WAFERS ...</td>\n",
       "    </tr>\n",
       "    <tr>\n",
       "      <th>4</th>\n",
       "      <td>155049</td>\n",
       "      <td>B000PAQ75C</td>\n",
       "      <td>AR5J8UI46CURR</td>\n",
       "      <td>Geetha Krishnan</td>\n",
       "      <td>2</td>\n",
       "      <td>2</td>\n",
       "      <td>5</td>\n",
       "      <td>1199577600</td>\n",
       "      <td>LOACKER QUADRATINI VANILLA WAFERS</td>\n",
       "      <td>DELICIOUS WAFERS. I FIND THAT EUROPEAN WAFERS ...</td>\n",
       "    </tr>\n",
       "  </tbody>\n",
       "</table>\n",
       "</div>"
      ],
      "text/plain": [
       "       Id   ProductId         UserId      ProfileName  HelpfulnessNumerator  \\\n",
       "0   78445  B000HDL1RQ  AR5J8UI46CURR  Geetha Krishnan                     2   \n",
       "1  138317  B000HDOPYC  AR5J8UI46CURR  Geetha Krishnan                     2   \n",
       "2  138277  B000HDOPYM  AR5J8UI46CURR  Geetha Krishnan                     2   \n",
       "3   73791  B000HDOPZG  AR5J8UI46CURR  Geetha Krishnan                     2   \n",
       "4  155049  B000PAQ75C  AR5J8UI46CURR  Geetha Krishnan                     2   \n",
       "\n",
       "   HelpfulnessDenominator  Score        Time  \\\n",
       "0                       2      5  1199577600   \n",
       "1                       2      5  1199577600   \n",
       "2                       2      5  1199577600   \n",
       "3                       2      5  1199577600   \n",
       "4                       2      5  1199577600   \n",
       "\n",
       "                             Summary  \\\n",
       "0  LOACKER QUADRATINI VANILLA WAFERS   \n",
       "1  LOACKER QUADRATINI VANILLA WAFERS   \n",
       "2  LOACKER QUADRATINI VANILLA WAFERS   \n",
       "3  LOACKER QUADRATINI VANILLA WAFERS   \n",
       "4  LOACKER QUADRATINI VANILLA WAFERS   \n",
       "\n",
       "                                                Text  \n",
       "0  DELICIOUS WAFERS. I FIND THAT EUROPEAN WAFERS ...  \n",
       "1  DELICIOUS WAFERS. I FIND THAT EUROPEAN WAFERS ...  \n",
       "2  DELICIOUS WAFERS. I FIND THAT EUROPEAN WAFERS ...  \n",
       "3  DELICIOUS WAFERS. I FIND THAT EUROPEAN WAFERS ...  \n",
       "4  DELICIOUS WAFERS. I FIND THAT EUROPEAN WAFERS ...  "
      ]
     },
     "execution_count": 7,
     "metadata": {},
     "output_type": "execute_result"
    }
   ],
   "source": [
    "display=pd.read_sql_query(\"\"\"\n",
    "SELECT * \n",
    "FROM Reviews\n",
    "WHERE Score !=3 AND UserId=\"AR5J8UI46CURR\"\n",
    "ORDER BY ProductId\n",
    "\"\"\",con)\n",
    "display.head()"
   ]
  },
  {
   "cell_type": "markdown",
   "metadata": {},
   "source": [
    "As can be seen above the same user has multiple reviews of the with the same values for HelpfulnessNumerator, HelpfulnessDenominator, Score, Time, Summary and Text and on doing analysis it was found that\n",
    "\n",
    "ProductId=B000HDOPZG was Loacker Quadratini Vanilla Wafer Cookies,8.82-Ounce Packages (Pack of 8)\n",
    "\n",
    "ProductId=B000HDL1RQ was Loacker Quadratini Lemon Wafer Cookies, 8.82-Ounce Packages (Pack of 8) and so on\n",
    "\n",
    "It was inferred after analysis that reviews with same parameters other than ProductId belonged to the same product just having different flavour or quantity. Hence inorder to reduce reduntancy it was decided to eleminate the rows having same parameters.\n",
    "\n",
    "The method used for the same was that we first sort the data according to ProductId and then just keep the first similiar product reviews and delete the others .This method ensures that there is only one representatives for each product and deduplication without sorting would lead to possibility of different reprsentatives still existing for the same product."
   ]
  },
  {
   "cell_type": "code",
   "execution_count": 8,
   "metadata": {},
   "outputs": [
    {
     "data": {
      "text/plain": [
       "(525814, 10)"
      ]
     },
     "execution_count": 8,
     "metadata": {},
     "output_type": "execute_result"
    }
   ],
   "source": [
    "# sorting data according to Productid in ascending order \n",
    "sorted_data= filtered_data.sort_values('ProductId',axis=0 ,ascending=True,inplace=False,kind='quicksort',na_position='last')\n",
    "sorted_data.shape"
   ]
  },
  {
   "cell_type": "code",
   "execution_count": 9,
   "metadata": {},
   "outputs": [
    {
     "data": {
      "text/plain": [
       "(364173, 10)"
      ]
     },
     "execution_count": 9,
     "metadata": {},
     "output_type": "execute_result"
    }
   ],
   "source": [
    "final_data=sorted_data.drop_duplicates(subset={\"UserId\",\"ProfileName\" , \"Time\",\"Text\"},keep=\"first\",inplace=False)\n",
    "final_data.shape"
   ]
  },
  {
   "cell_type": "code",
   "execution_count": 10,
   "metadata": {},
   "outputs": [
    {
     "data": {
      "text/plain": [
       "69.25890143662969"
      ]
     },
     "execution_count": 10,
     "metadata": {},
     "output_type": "execute_result"
    }
   ],
   "source": [
    "# Checking how much % of data still remains \n",
    "(final_data['Id'].size*1.0)/(filtered_data['Id'].size*1.0)*100"
   ]
  },
  {
   "cell_type": "markdown",
   "metadata": {},
   "source": [
    "<b>Observation:-</b> It was also seen that in few rows given below the value of HelpfulnessNumerator is greater than HelpfulnessDenominator which is practically impossible hence these rows are too removed from calculations."
   ]
  },
  {
   "cell_type": "code",
   "execution_count": 11,
   "metadata": {},
   "outputs": [
    {
     "data": {
      "text/html": [
       "<div>\n",
       "<style scoped>\n",
       "    .dataframe tbody tr th:only-of-type {\n",
       "        vertical-align: middle;\n",
       "    }\n",
       "\n",
       "    .dataframe tbody tr th {\n",
       "        vertical-align: top;\n",
       "    }\n",
       "\n",
       "    .dataframe thead th {\n",
       "        text-align: right;\n",
       "    }\n",
       "</style>\n",
       "<table border=\"1\" class=\"dataframe\">\n",
       "  <thead>\n",
       "    <tr style=\"text-align: right;\">\n",
       "      <th></th>\n",
       "      <th>Id</th>\n",
       "      <th>ProductId</th>\n",
       "      <th>UserId</th>\n",
       "      <th>ProfileName</th>\n",
       "      <th>HelpfulnessNumerator</th>\n",
       "      <th>HelpfulnessDenominator</th>\n",
       "      <th>Score</th>\n",
       "      <th>Time</th>\n",
       "      <th>Summary</th>\n",
       "      <th>Text</th>\n",
       "    </tr>\n",
       "  </thead>\n",
       "  <tbody>\n",
       "    <tr>\n",
       "      <th>0</th>\n",
       "      <td>64422</td>\n",
       "      <td>B000MIDROQ</td>\n",
       "      <td>A161DK06JJMCYF</td>\n",
       "      <td>J. E. Stephens \"Jeanne\"</td>\n",
       "      <td>3</td>\n",
       "      <td>1</td>\n",
       "      <td>5</td>\n",
       "      <td>1224892800</td>\n",
       "      <td>Bought This for My Son at College</td>\n",
       "      <td>My son loves spaghetti so I didn't hesitate or...</td>\n",
       "    </tr>\n",
       "    <tr>\n",
       "      <th>1</th>\n",
       "      <td>44737</td>\n",
       "      <td>B001EQ55RW</td>\n",
       "      <td>A2V0I904FH7ABY</td>\n",
       "      <td>Ram</td>\n",
       "      <td>3</td>\n",
       "      <td>2</td>\n",
       "      <td>4</td>\n",
       "      <td>1212883200</td>\n",
       "      <td>Pure cocoa taste with crunchy almonds inside</td>\n",
       "      <td>It was almost a 'love at first bite' - the per...</td>\n",
       "    </tr>\n",
       "  </tbody>\n",
       "</table>\n",
       "</div>"
      ],
      "text/plain": [
       "      Id   ProductId          UserId              ProfileName  \\\n",
       "0  64422  B000MIDROQ  A161DK06JJMCYF  J. E. Stephens \"Jeanne\"   \n",
       "1  44737  B001EQ55RW  A2V0I904FH7ABY                      Ram   \n",
       "\n",
       "   HelpfulnessNumerator  HelpfulnessDenominator  Score        Time  \\\n",
       "0                     3                       1      5  1224892800   \n",
       "1                     3                       2      4  1212883200   \n",
       "\n",
       "                                        Summary  \\\n",
       "0             Bought This for My Son at College   \n",
       "1  Pure cocoa taste with crunchy almonds inside   \n",
       "\n",
       "                                                Text  \n",
       "0  My son loves spaghetti so I didn't hesitate or...  \n",
       "1  It was almost a 'love at first bite' - the per...  "
      ]
     },
     "execution_count": 11,
     "metadata": {},
     "output_type": "execute_result"
    }
   ],
   "source": [
    "display=pd.read_sql_query(\"\"\"\n",
    "SELECT *\n",
    "FROM Reviews \n",
    "    WHERE SCORE !=3  AND Id=44737 OR Id=64422\n",
    "ORDER BY ProductId \n",
    "\"\"\",con)\n",
    "display.head()"
   ]
  },
  {
   "cell_type": "code",
   "execution_count": 12,
   "metadata": {},
   "outputs": [],
   "source": [
    "final_data=final_data[final_data['HelpfulnessNumerator']<=final_data['HelpfulnessDenominator']]"
   ]
  },
  {
   "cell_type": "code",
   "execution_count": 13,
   "metadata": {},
   "outputs": [
    {
     "name": "stdout",
     "output_type": "stream",
     "text": [
      "(364171, 10)\n"
     ]
    }
   ],
   "source": [
    "#Before starting the next phase of preprocessing lets see the number of entries left\n",
    "print(final_data.shape)"
   ]
  },
  {
   "cell_type": "code",
   "execution_count": 14,
   "metadata": {},
   "outputs": [
    {
     "data": {
      "text/plain": [
       "1    307061\n",
       "0     57110\n",
       "Name: Score, dtype: int64"
      ]
     },
     "execution_count": 14,
     "metadata": {},
     "output_type": "execute_result"
    }
   ],
   "source": [
    "#How many positive and negative reviews are present in our datatset?\n",
    "final_data['Score'].value_counts()"
   ]
  },
  {
   "cell_type": "markdown",
   "metadata": {},
   "source": [
    "### 3. Text Preprocessing.\n",
    "Till we have finished data deduplication ,now we will to preprocessing part before we  go for further analysis and making the prediction models .\n",
    "\n",
    "Hence in Preprocessing part we will do the the following things:\n",
    "1. Removing of HTML tags.\n",
    "2. Removing any punctuation or spme special character like , or . or # etc.\n",
    "3. Check the word is made of made up of english letter and is not alpha-numeric \n",
    "4. Check to see if the length of the word is greater than 2(as it was research that there is no adjective in 2 letters).\n",
    "5. Convert the words to lowercase .\n",
    "6. Remove the stopwords \n",
    "7. Using Snowball Stemming the word (now using Porter Stemming as Snowball Stemming is better than Porter Stemming)."
   ]
  },
  {
   "cell_type": "code",
   "execution_count": 15,
   "metadata": {},
   "outputs": [
    {
     "name": "stdout",
     "output_type": "stream",
     "text": [
      "6\n",
      "I set aside at least an hour each day to read to my son (3 y/o). At this point, I consider myself a connoisseur of children's books and this is one of the best. Santa Clause put this under the tree. Since then, we've read it perpetually and he loves it.<br /><br />First, this book taught him the months of the year.<br /><br />Second, it's a pleasure to read. Well suited to 1.5 y/o old to 4+.<br /><br />Very few children's books are worth owning. Most should be borrowed from the library. This book, however, deserves a permanent spot on your shelf. Sendak's best.\n"
     ]
    }
   ],
   "source": [
    "# finding html tag in sentences \n",
    "i=0\n",
    "for review in final_data['Text'].values:\n",
    "    if (len(re.findall('<.*?>',review))):\n",
    "        print(i)\n",
    "        print(review)\n",
    "        break\n",
    "    i=i+1"
   ]
  },
  {
   "cell_type": "code",
   "execution_count": 16,
   "metadata": {},
   "outputs": [
    {
     "name": "stdout",
     "output_type": "stream",
     "text": [
      "{\"you've\", 'the', 'more', 'before', 'd', 'shan', 'very', \"won't\", 'here', 'each', 'both', 'been', \"that'll\", 'if', 'out', 'had', 'than', 'any', 'that', 'but', 't', 'were', 'ma', 'all', 'is', \"don't\", 'other', \"should've\", 'our', \"didn't\", 'your', 'we', 'down', 'isn', 'doing', 'where', \"you'd\", 'its', 'this', 's', 'himself', 'these', 'up', 'their', 'while', 'ain', 'not', 'will', 'hadn', 'doesn', 'o', 'shouldn', 'you', \"weren't\", 'in', 'same', 'yourselves', 'her', 'itself', \"hadn't\", 'll', 'she', 'and', 'on', 'mightn', 'don', 'those', 'was', 'what', \"haven't\", 'his', 'then', 'hasn', \"wasn't\", 'only', 'haven', 'after', 'can', 'theirs', 'under', 'or', 'few', 'they', 'off', 'didn', \"mustn't\", \"wouldn't\", 'until', 'some', 'me', 'won', 'he', 'wouldn', 'i', 'with', 'over', 'ourselves', 'ours', 'above', 'yourself', \"it's\", 'themselves', 'are', 'aren', 'weren', 'once', 'herself', 'how', \"you're\", 'couldn', \"mightn't\", 'yours', 'do', 'between', 'should', 'as', 'myself', 'which', 'most', 'when', 'just', 'whom', \"isn't\", 'being', 'to', 'so', 'having', 'further', 'no', \"needn't\", 'through', \"doesn't\", 'needn', 'hers', 'from', 'why', \"shan't\", 'too', 'm', 'y', 'am', 'nor', \"aren't\", 'for', 'did', 'such', 'there', 'wasn', 'an', 'because', 'into', 'has', 'by', 'my', 'have', \"she's\", 'below', 'him', 'during', \"hasn't\", 'who', 'be', 'of', 'a', \"you'll\", 'does', 're', 'at', 'mustn', \"couldn't\", \"shouldn't\", 'own', 'it', 've', 'them', 'about', 'against', 'again', 'now'}\n",
      "************************************************************\n",
      " \n",
      "[\"you've\", 'the', 'more', 'before', 'd', 'shan', 'very', 'here', 'each', 'both', 'been', \"that'll\", 'if', 'out', 'had', 'than', 'any', 'that', 'but', 't', 'were', 'ma', 'all', 'is', 'other', \"should've\", 'our', 'your', 'we', 'down', 'doing', 'where', \"you'd\", 'its', 'this', 's', 'himself', 'these', 'up', 'their', 'while', 'will', 'o', 'you', 'in', 'same', 'yourselves', 'her', 'itself', 'll', 'she', 'and', 'on', 'those', 'was', 'what', 'his', 'then', 'only', 'after', 'can', 'theirs', 'under', 'or', 'few', 'they', 'off', 'until', 'some', 'me', 'he', 'i', 'with', 'over', 'ourselves', 'ours', 'above', 'yourself', \"it's\", 'themselves', 'are', 'once', 'herself', 'how', \"you're\", 'yours', 'do', 'between', 'should', 'as', 'myself', 'which', 'most', 'when', 'just', 'whom', 'being', 'to', 'so', 'having', 'further', 'no', 'through', 'hers', 'from', 'why', \"shan't\", 'too', 'm', 'y', 'am', 'nor', 'for', 'did', 'such', 'there', 'an', 'because', 'into', 'has', 'by', 'my', 'have', \"she's\", 'below', 'him', 'during', 'who', 'be', 'of', 'a', \"you'll\", 'does', 're', 'at', 'own', 'it', 've', 'them', 'about', 'again', 'now']\n",
      " \n",
      "************************************************************\n",
      "base_word of tasty: tasti\n"
     ]
    }
   ],
   "source": [
    "    import re\n",
    "    import string\n",
    "    from nltk.corpus import stopwords\n",
    "    from nltk.stem import PorterStemmer\n",
    "    from nltk.stem.wordnet import WordNetLemmatizer\n",
    "\n",
    "    stop = set(stopwords.words('english')) # creating set of stopwords\n",
    "    print(stop) # it will to show all the stopwords in NLTK\n",
    "    excluding_stop = ['against','not','don', \"don't\",'ain', 'aren', \"aren't\", 'couldn', \"couldn't\", 'didn', \"didn't\",\n",
    "                 'doesn', \"doesn't\", 'hadn', \"hadn't\", 'hasn', \"hasn't\", 'haven', \"haven't\", 'isn', \"isn't\", \n",
    "                 'mightn', \"mightn't\", 'mustn', \"mustn't\", 'needn', \"needn't\",'shouldn', \"shouldn't\", 'wasn',\n",
    "                 \"wasn't\", 'weren', \"weren't\", 'won', \"won't\", 'wouldn', \"wouldn't\"]\n",
    "    print('****'*15)\n",
    "\n",
    "    stop = [word for word in stop if word not in excluding_stop]\n",
    "    print(' ')\n",
    "    print(stop)\n",
    "    snowstem=nltk.stem.SnowballStemmer('english') # intialising the snowball stemmer\n",
    "    print(' ')\n",
    "    print('****'*15)\n",
    "    print(\"base_word of tasty:\", snowstem.stem('tasty')) # it will tell us the base word or do stemming\n",
    "\n",
    "    # creating a function to clean the word of any html-tags. The function will remove the html tag and evrything between them with \"1\" space \n",
    "    def cleanhtml(sentence):\n",
    "        cleanr = re.compile('<.*?>')\n",
    "        cleantext = re.sub(cleanr, ' ', sentence)\n",
    "        return cleantext\n",
    "    # creating a function to clean the punctuation or special characters .The function will create the punctuation with empty string\n",
    "    def cleanpunc(sentence):\n",
    "        cleaned= re.sub(r'[?|!|\\'|\"|#]',r'',sentence)\n",
    "        cleaned= re.sub(r'[.|,|)|(|\\|/]',r'',cleaned)\n",
    "        return cleaned\n"
   ]
  },
  {
   "cell_type": "code",
   "execution_count": 18,
   "metadata": {},
   "outputs": [
    {
     "name": "stdout",
     "output_type": "stream",
     "text": [
      "Print some random reviews\n",
      " \n",
      "this witty little book makes my son laugh at loud. i recite it in the car as we're driving along and he always can sing the refrain. he's learned about whales, India, drooping roses:  i love all the new words this book  introduces and the silliness of it all.  this is a classic book i am  willing to bet my son will STILL be able to recite from memory when he is  in college\n",
      "**************************************************\n",
      "My teething puppy loves this toy.  The nubs that protrude all over the toy are wonderful on his gums.  It it smaller than I thought and my large breed puppy has outgrown it before his teething phase is over.  I still let him chew on it, but only when he is supervised.\n",
      "**************************************************\n",
      "Great ingredients although, chicken should have been 1st rather than chicken broth, the only thing I do not think belongs in it is Canola oil. Canola or rapeseed is not someting a dog would ever find in nature and if it did find rapeseed in nature and eat it, it would poison them. Today's Food industries have convinced the masses that Canola oil is a safe and even better oil than olive or virgin coconut, facts though say otherwise. Until the late 70's it was poisonous until they figured out a way to fix that. I still like it but it could be better.\n",
      "**************************************************\n",
      "late delivered, I paid extra charge for faster delivery but is not delivered on the time i've expected it.\n",
      "**************************************************\n",
      "These are the real deal. Pepper Companie has made these black jacks the same way since the 1800s. They are all hand pulled and delightfully irregular in size. The flavor is really strong of molasses. DELISH! They have a fabulous texture similar to a candy cane. Not super dense like a jolly rancher, they're more airy so you can bite them and chomp them down if you want.. (and trust me, you WILL want to) All of the pepper candy companie products are fabulous but these are my absolute favorite. I always stock up when I'm in Salem.\n",
      "**************************************************\n"
     ]
    }
   ],
   "source": [
    "print('Print some random reviews')\n",
    "\n",
    "print(\" \")\n",
    "review_0=final_data['Text'].values[0]\n",
    "print(review_0)\n",
    "print(\"*\"*50)\n",
    "\n",
    "review_1239=final_data['Text'].values[1239]\n",
    "print(review_1239)\n",
    "print(\"*\"*50)\n",
    "\n",
    "review_1500=final_data['Text'].values[1500]\n",
    "print(review_1500)\n",
    "print(\"*\"*50)\n",
    "\n",
    "review_5000=final_data['Text'].values[5000]\n",
    "print(review_5000)\n",
    "print(\"*\"*50)\n",
    "\n",
    "review_25000=final_data['Text'].values[25000]\n",
    "print(review_25000)\n",
    "print(\"*\"*50)\n"
   ]
  },
  {
   "cell_type": "code",
   "execution_count": 19,
   "metadata": {},
   "outputs": [
    {
     "name": "stdout",
     "output_type": "stream",
     "text": [
      "this witty little book makes my son laugh at loud. i recite it in the car as we're driving along and he always can sing the refrain. he's learned about whales, India, drooping roses:  i love all the new words this book  introduces and the silliness of it all.  this is a classic book i am  willing to bet my son will STILL be able to recite from memory when he is  in college\n"
     ]
    }
   ],
   "source": [
    "# Remove urls from tetx python code:\n",
    "review_0 = re.sub(r\"http\\S+\", \"\", review_0)\n",
    "review_1239 = re.sub(r\"http\\S+\", \"\", review_1239)\n",
    "review_1500 = re.sub(r\"http\\S+\", \"\", review_1500)\n",
    "review_5000 = re.sub(r\"http\\S+\", \"\", review_5000)\n",
    "\n",
    "print(review_0)"
   ]
  },
  {
   "cell_type": "code",
   "execution_count": 1,
   "metadata": {},
   "outputs": [
    {
     "name": "stdout",
     "output_type": "stream",
     "text": [
      "Requirement already satisfied: lxml in c:\\users\\rainbowcomputer\\anaconda3\\envs\\tensml\\lib\\site-packages (4.6.2)\n",
      "Note: you may need to restart the kernel to use updated packages.\n"
     ]
    }
   ],
   "source": [
    "pip install lxml\n"
   ]
  },
  {
   "cell_type": "code",
   "execution_count": 20,
   "metadata": {},
   "outputs": [
    {
     "name": "stdout",
     "output_type": "stream",
     "text": [
      "this witty little book makes my son laugh at loud. i recite it in the car as we're driving along and he always can sing the refrain. he's learned about whales, India, drooping roses:  i love all the new words this book  introduces and the silliness of it all.  this is a classic book i am  willing to bet my son will STILL be able to recite from memory when he is  in college\n",
      "==================================================\n",
      "My teething puppy loves this toy.  The nubs that protrude all over the toy are wonderful on his gums.  It it smaller than I thought and my large breed puppy has outgrown it before his teething phase is over.  I still let him chew on it, but only when he is supervised.\n",
      "==================================================\n",
      "Great ingredients although, chicken should have been 1st rather than chicken broth, the only thing I do not think belongs in it is Canola oil. Canola or rapeseed is not someting a dog would ever find in nature and if it did find rapeseed in nature and eat it, it would poison them. Today's Food industries have convinced the masses that Canola oil is a safe and even better oil than olive or virgin coconut, facts though say otherwise. Until the late 70's it was poisonous until they figured out a way to fix that. I still like it but it could be better.\n",
      "==================================================\n",
      "late delivered, I paid extra charge for faster delivery but is not delivered on the time i've expected it.\n",
      "==================================================\n"
     ]
    }
   ],
   "source": [
    "## https://stackoverflow.com/questions/16206380/python-beautifulsoup-how-to-remove-all-tags-from-an-element\n",
    "from bs4 import BeautifulSoup\n",
    "soup = BeautifulSoup(review_0,'lxml')\n",
    "text=soup.get_text()\n",
    "print(text)\n",
    "print(\"=\"*50)\n",
    "\n",
    "soup = BeautifulSoup(review_1239,'lxml')\n",
    "text=soup.get_text()\n",
    "print(text)\n",
    "print(\"=\"*50)\n",
    "\n",
    "soup = BeautifulSoup(review_1500,'lxml')\n",
    "text=soup.get_text()\n",
    "print(text)\n",
    "print(\"=\"*50)\n",
    "\n",
    "soup = BeautifulSoup(review_5000,'lxml')\n",
    "text=soup.get_text()\n",
    "print(text)\n",
    "print(\"=\"*50)"
   ]
  },
  {
   "cell_type": "code",
   "execution_count": 21,
   "metadata": {},
   "outputs": [],
   "source": [
    "import os\n",
    "import re\n",
    "def decontracted(phrase): #https://stackoverflow.com/questions/19790188/expanding-english-language-contractions-in-python\n",
    "    # specific\n",
    "    phrase = re.sub(r\"won't\", \"will not\", phrase)\n",
    "    phrase = re.sub(r\"can\\'t\", \"can not\", phrase)\n",
    "\n",
    "    # general\n",
    "    phrase = re.sub(r\"n\\'t\", \" not\", phrase)\n",
    "    phrase = re.sub(r\"\\'re\", \" are\", phrase)\n",
    "    phrase = re.sub(r\"\\'s\", \" is\", phrase)\n",
    "    phrase = re.sub(r\"\\'d\", \" would\", phrase)\n",
    "    phrase = re.sub(r\"\\'ll\", \" will\", phrase)\n",
    "    phrase = re.sub(r\"\\'t\", \" not\", phrase)\n",
    "    phrase = re.sub(r\"\\'ve\", \" have\", phrase)\n",
    "    phrase = re.sub(r\"\\'m\", \" am\", phrase)\n",
    "    return phrase"
   ]
  },
  {
   "cell_type": "code",
   "execution_count": 23,
   "metadata": {},
   "outputs": [
    {
     "name": "stdout",
     "output_type": "stream",
     "text": [
      "this witty little book makes my son laugh at loud. i recite it in the car as we're driving along and he always can sing the refrain. he's learned about whales, India, drooping roses:  i love all the new words this book  introduces and the silliness of it all.  this is a classic book i am  willing to bet my son will STILL be able to recite from memory when he is  in college\n"
     ]
    }
   ],
   "source": [
    "#rremove words_with_no. python   # https://stackoverflow.com/a/18082370/4084039\n",
    "review_0=re.sub(\"\\S\\d\\S\",\"\",review_0).strip()\n",
    "print(review_0)"
   ]
  },
  {
   "cell_type": "code",
   "execution_count": 24,
   "metadata": {},
   "outputs": [
    {
     "name": "stdout",
     "output_type": "stream",
     "text": [
      "Great ingredients although chicken should have been 1st rather than chicken broth the only thing I do not think belongs in it is Canola oil Canola or rapeseed is not someting a dog would ever find in nature and if it did find rapeseed in nature and eat it it would poison them Today s Food industries have convinced the masses that Canola oil is a safe and even better oil than olive or virgin coconut facts though say otherwise Until the late 70 s it was poisonous until they figured out a way to fix that I still like it but it could be better \n"
     ]
    }
   ],
   "source": [
    "#remove specail charachter # https://stackoverflow.com/a/5843547/4084039\n",
    "review_1500 = re.sub('[^A-Za-z0-9]+', ' ', review_1500)\n",
    "print(review_1500)"
   ]
  },
  {
   "cell_type": "code",
   "execution_count": 30,
   "metadata": {},
   "outputs": [
    {
     "data": {
      "text/html": [
       "<div>\n",
       "<style scoped>\n",
       "    .dataframe tbody tr th:only-of-type {\n",
       "        vertical-align: middle;\n",
       "    }\n",
       "\n",
       "    .dataframe tbody tr th {\n",
       "        vertical-align: top;\n",
       "    }\n",
       "\n",
       "    .dataframe thead th {\n",
       "        text-align: right;\n",
       "    }\n",
       "</style>\n",
       "<table border=\"1\" class=\"dataframe\">\n",
       "  <thead>\n",
       "    <tr style=\"text-align: right;\">\n",
       "      <th></th>\n",
       "      <th>Id</th>\n",
       "      <th>ProductId</th>\n",
       "      <th>UserId</th>\n",
       "      <th>ProfileName</th>\n",
       "      <th>HelpfulnessNumerator</th>\n",
       "      <th>HelpfulnessDenominator</th>\n",
       "      <th>Score</th>\n",
       "      <th>Time</th>\n",
       "      <th>Summary</th>\n",
       "      <th>Text</th>\n",
       "    </tr>\n",
       "  </thead>\n",
       "  <tbody>\n",
       "    <tr>\n",
       "      <th>138706</th>\n",
       "      <td>150524</td>\n",
       "      <td>0006641040</td>\n",
       "      <td>ACITT7DI6IDDL</td>\n",
       "      <td>shari zychinski</td>\n",
       "      <td>0</td>\n",
       "      <td>0</td>\n",
       "      <td>1</td>\n",
       "      <td>939340800</td>\n",
       "      <td>EVERY book is educational</td>\n",
       "      <td>this witty little book makes my son laugh at l...</td>\n",
       "    </tr>\n",
       "    <tr>\n",
       "      <th>138688</th>\n",
       "      <td>150506</td>\n",
       "      <td>0006641040</td>\n",
       "      <td>A2IW4PEEKO2R0U</td>\n",
       "      <td>Tracy</td>\n",
       "      <td>1</td>\n",
       "      <td>1</td>\n",
       "      <td>1</td>\n",
       "      <td>1194739200</td>\n",
       "      <td>Love the book, miss the hard cover version</td>\n",
       "      <td>I grew up reading these Sendak books, and watc...</td>\n",
       "    </tr>\n",
       "    <tr>\n",
       "      <th>138689</th>\n",
       "      <td>150507</td>\n",
       "      <td>0006641040</td>\n",
       "      <td>A1S4A3IQ2MU7V4</td>\n",
       "      <td>sally sue \"sally sue\"</td>\n",
       "      <td>1</td>\n",
       "      <td>1</td>\n",
       "      <td>1</td>\n",
       "      <td>1191456000</td>\n",
       "      <td>chicken soup with rice months</td>\n",
       "      <td>This is a fun way for children to learn their ...</td>\n",
       "    </tr>\n",
       "    <tr>\n",
       "      <th>138690</th>\n",
       "      <td>150508</td>\n",
       "      <td>0006641040</td>\n",
       "      <td>AZGXZ2UUK6X</td>\n",
       "      <td>Catherine Hallberg \"(Kate)\"</td>\n",
       "      <td>1</td>\n",
       "      <td>1</td>\n",
       "      <td>1</td>\n",
       "      <td>1076025600</td>\n",
       "      <td>a good swingy rhythm for reading aloud</td>\n",
       "      <td>This is a great little book to read aloud- it ...</td>\n",
       "    </tr>\n",
       "    <tr>\n",
       "      <th>138691</th>\n",
       "      <td>150509</td>\n",
       "      <td>0006641040</td>\n",
       "      <td>A3CMRKGE0P909G</td>\n",
       "      <td>Teresa</td>\n",
       "      <td>3</td>\n",
       "      <td>4</td>\n",
       "      <td>1</td>\n",
       "      <td>1018396800</td>\n",
       "      <td>A great way to learn the months</td>\n",
       "      <td>This is a book of poetry about the months of t...</td>\n",
       "    </tr>\n",
       "  </tbody>\n",
       "</table>\n",
       "</div>"
      ],
      "text/plain": [
       "            Id   ProductId          UserId                  ProfileName  \\\n",
       "138706  150524  0006641040   ACITT7DI6IDDL              shari zychinski   \n",
       "138688  150506  0006641040  A2IW4PEEKO2R0U                        Tracy   \n",
       "138689  150507  0006641040  A1S4A3IQ2MU7V4        sally sue \"sally sue\"   \n",
       "138690  150508  0006641040     AZGXZ2UUK6X  Catherine Hallberg \"(Kate)\"   \n",
       "138691  150509  0006641040  A3CMRKGE0P909G                       Teresa   \n",
       "\n",
       "        HelpfulnessNumerator  HelpfulnessDenominator  Score        Time  \\\n",
       "138706                     0                       0      1   939340800   \n",
       "138688                     1                       1      1  1194739200   \n",
       "138689                     1                       1      1  1191456000   \n",
       "138690                     1                       1      1  1076025600   \n",
       "138691                     3                       4      1  1018396800   \n",
       "\n",
       "                                           Summary  \\\n",
       "138706                   EVERY book is educational   \n",
       "138688  Love the book, miss the hard cover version   \n",
       "138689               chicken soup with rice months   \n",
       "138690      a good swingy rhythm for reading aloud   \n",
       "138691             A great way to learn the months   \n",
       "\n",
       "                                                     Text  \n",
       "138706  this witty little book makes my son laugh at l...  \n",
       "138688  I grew up reading these Sendak books, and watc...  \n",
       "138689  This is a fun way for children to learn their ...  \n",
       "138690  This is a great little book to read aloud- it ...  \n",
       "138691  This is a book of poetry about the months of t...  "
      ]
     },
     "execution_count": 30,
     "metadata": {},
     "output_type": "execute_result"
    }
   ],
   "source": [
    "final_data.head()"
   ]
  },
  {
   "cell_type": "code",
   "execution_count": 32,
   "metadata": {},
   "outputs": [
    {
     "name": "stderr",
     "output_type": "stream",
     "text": [
      "100%|████████████████████████████████████████████████████████████████████████| 364171/364171 [05:52<00:00, 1034.13it/s]\n"
     ]
    }
   ],
   "source": [
    "#Combining all the statement above\n",
    "from tqdm import tqdm\n",
    "preprocessed_review=[]\n",
    "# tqdm is for printing the status bar\n",
    "for sentence in tqdm(final_data['Text'].values):\n",
    "    sentence=re.sub(r\"http\\S+\", \"\",sentence)\n",
    "    sentence=BeautifulSoup(sentence,'lxml').get_text()\n",
    "    sentence=decontracted(sentence)\n",
    "    sentence=re.sub(\"\\S*\\d\\S*\",\"\",sentence).strip()\n",
    "    sentence=re.sub('[^A-Za-z]+', ' ', sentence)\n",
    "    # https://gist.github.com/sebleier/554280\n",
    "    sentence=' '.join(e.lower() for e in sentence.split() if e.lower() not in stop)\n",
    "    preprocessed_review.append(sentence.strip())\n",
    "    "
   ]
  },
  {
   "cell_type": "markdown",
   "metadata": {},
   "source": [
    "# Another way of doing preprocessing\n",
    "if not os.path.isfile('final.sqlite'):\n",
    "    final_string=[]\n",
    "    all_positive_words=[]   # storing all the words from +ve review .\n",
    "    all_negative_words=[]   \n",
    "    \n",
    "    for i ,review in enumerate(tqdm(final_data['Text'].values)):\n",
    "        filter_sentence=[]\n",
    "        #print(review)\n",
    "        review=cleanhtml(review) # remove the html tags and data within tags with \"1\" space\n",
    "        for word in review.split():\n",
    "            #Using cleanpunc(w).split(),, one more split function here example:w=\"abc.def\" ,cleanpunc will return \"abc def\"\n",
    "            #if we dont use .split() function then we will be considering \"abc def\" as a single word, \n",
    "            #but if we use .split() function we will get \"abc\",def\n",
    "            for cleaned_words in cleanpunc(word).split():\n",
    "                if((cleaned_words.isalpha()) & (len(cleaned_words)>2)):\n",
    "                    if (cleaned_words.lower() not in stop):\n",
    "                        # using snowballstemmer ex: tasty or tasteful = \"tasti\"\n",
    "                        s=(snowstem.stem(cleaned_words.lower())).encode('utf8')\n",
    "                        filter_sentence.append(s)\n",
    "                        if (final_data['Score'].values[i])==1:\n",
    "                            all_positive_words.append(s)  #list of all words used to describe positive reviews\n",
    "                        if (final_data['Score'].values[i])==0:\n",
    "                            all_negative_words.append(s) #list of all words used to describe negative reviews \n",
    "                    else :\n",
    "                        continue\n",
    "                else :\n",
    "                    continue\n",
    "        #print(filter_sentence)\n",
    "        str1 = b\" \".join(filter_sentence)  # final words of cleaned words\n",
    "        #print('*'*20)\n",
    "        final_string.append(str1)\n",
    "        i+1\n"
   ]
  },
  {
   "cell_type": "code",
   "execution_count": 38,
   "metadata": {},
   "outputs": [],
   "source": [
    "final_data['Cleaned_text']=preprocessed_review#adding column of Clean_text which display the data after pre-processing of the review.\n",
    "#print(final_data[['Text','Clean_text']])"
   ]
  },
  {
   "cell_type": "code",
   "execution_count": 39,
   "metadata": {},
   "outputs": [
    {
     "data": {
      "text/html": [
       "<div>\n",
       "<style scoped>\n",
       "    .dataframe tbody tr th:only-of-type {\n",
       "        vertical-align: middle;\n",
       "    }\n",
       "\n",
       "    .dataframe tbody tr th {\n",
       "        vertical-align: top;\n",
       "    }\n",
       "\n",
       "    .dataframe thead th {\n",
       "        text-align: right;\n",
       "    }\n",
       "</style>\n",
       "<table border=\"1\" class=\"dataframe\">\n",
       "  <thead>\n",
       "    <tr style=\"text-align: right;\">\n",
       "      <th></th>\n",
       "      <th>Id</th>\n",
       "      <th>ProductId</th>\n",
       "      <th>UserId</th>\n",
       "      <th>ProfileName</th>\n",
       "      <th>HelpfulnessNumerator</th>\n",
       "      <th>HelpfulnessDenominator</th>\n",
       "      <th>Score</th>\n",
       "      <th>Time</th>\n",
       "      <th>Summary</th>\n",
       "      <th>Text</th>\n",
       "      <th>Cleaned_text</th>\n",
       "    </tr>\n",
       "  </thead>\n",
       "  <tbody>\n",
       "    <tr>\n",
       "      <th>138706</th>\n",
       "      <td>150524</td>\n",
       "      <td>0006641040</td>\n",
       "      <td>ACITT7DI6IDDL</td>\n",
       "      <td>shari zychinski</td>\n",
       "      <td>0</td>\n",
       "      <td>0</td>\n",
       "      <td>1</td>\n",
       "      <td>939340800</td>\n",
       "      <td>EVERY book is educational</td>\n",
       "      <td>this witty little book makes my son laugh at l...</td>\n",
       "      <td>witty little book makes son laugh loud recite ...</td>\n",
       "    </tr>\n",
       "    <tr>\n",
       "      <th>138688</th>\n",
       "      <td>150506</td>\n",
       "      <td>0006641040</td>\n",
       "      <td>A2IW4PEEKO2R0U</td>\n",
       "      <td>Tracy</td>\n",
       "      <td>1</td>\n",
       "      <td>1</td>\n",
       "      <td>1</td>\n",
       "      <td>1194739200</td>\n",
       "      <td>Love the book, miss the hard cover version</td>\n",
       "      <td>I grew up reading these Sendak books, and watc...</td>\n",
       "      <td>grew reading sendak books watching really rosi...</td>\n",
       "    </tr>\n",
       "    <tr>\n",
       "      <th>138689</th>\n",
       "      <td>150507</td>\n",
       "      <td>0006641040</td>\n",
       "      <td>A1S4A3IQ2MU7V4</td>\n",
       "      <td>sally sue \"sally sue\"</td>\n",
       "      <td>1</td>\n",
       "      <td>1</td>\n",
       "      <td>1</td>\n",
       "      <td>1191456000</td>\n",
       "      <td>chicken soup with rice months</td>\n",
       "      <td>This is a fun way for children to learn their ...</td>\n",
       "      <td>fun way children learn months year learn poems...</td>\n",
       "    </tr>\n",
       "    <tr>\n",
       "      <th>138690</th>\n",
       "      <td>150508</td>\n",
       "      <td>0006641040</td>\n",
       "      <td>AZGXZ2UUK6X</td>\n",
       "      <td>Catherine Hallberg \"(Kate)\"</td>\n",
       "      <td>1</td>\n",
       "      <td>1</td>\n",
       "      <td>1</td>\n",
       "      <td>1076025600</td>\n",
       "      <td>a good swingy rhythm for reading aloud</td>\n",
       "      <td>This is a great little book to read aloud- it ...</td>\n",
       "      <td>great little book read aloud nice rhythm well ...</td>\n",
       "    </tr>\n",
       "    <tr>\n",
       "      <th>138691</th>\n",
       "      <td>150509</td>\n",
       "      <td>0006641040</td>\n",
       "      <td>A3CMRKGE0P909G</td>\n",
       "      <td>Teresa</td>\n",
       "      <td>3</td>\n",
       "      <td>4</td>\n",
       "      <td>1</td>\n",
       "      <td>1018396800</td>\n",
       "      <td>A great way to learn the months</td>\n",
       "      <td>This is a book of poetry about the months of t...</td>\n",
       "      <td>book poetry months year goes month cute little...</td>\n",
       "    </tr>\n",
       "  </tbody>\n",
       "</table>\n",
       "</div>"
      ],
      "text/plain": [
       "            Id   ProductId          UserId                  ProfileName  \\\n",
       "138706  150524  0006641040   ACITT7DI6IDDL              shari zychinski   \n",
       "138688  150506  0006641040  A2IW4PEEKO2R0U                        Tracy   \n",
       "138689  150507  0006641040  A1S4A3IQ2MU7V4        sally sue \"sally sue\"   \n",
       "138690  150508  0006641040     AZGXZ2UUK6X  Catherine Hallberg \"(Kate)\"   \n",
       "138691  150509  0006641040  A3CMRKGE0P909G                       Teresa   \n",
       "\n",
       "        HelpfulnessNumerator  HelpfulnessDenominator  Score        Time  \\\n",
       "138706                     0                       0      1   939340800   \n",
       "138688                     1                       1      1  1194739200   \n",
       "138689                     1                       1      1  1191456000   \n",
       "138690                     1                       1      1  1076025600   \n",
       "138691                     3                       4      1  1018396800   \n",
       "\n",
       "                                           Summary  \\\n",
       "138706                   EVERY book is educational   \n",
       "138688  Love the book, miss the hard cover version   \n",
       "138689               chicken soup with rice months   \n",
       "138690      a good swingy rhythm for reading aloud   \n",
       "138691             A great way to learn the months   \n",
       "\n",
       "                                                     Text  \\\n",
       "138706  this witty little book makes my son laugh at l...   \n",
       "138688  I grew up reading these Sendak books, and watc...   \n",
       "138689  This is a fun way for children to learn their ...   \n",
       "138690  This is a great little book to read aloud- it ...   \n",
       "138691  This is a book of poetry about the months of t...   \n",
       "\n",
       "                                             Cleaned_text  \n",
       "138706  witty little book makes son laugh loud recite ...  \n",
       "138688  grew reading sendak books watching really rosi...  \n",
       "138689  fun way children learn months year learn poems...  \n",
       "138690  great little book read aloud nice rhythm well ...  \n",
       "138691  book poetry months year goes month cute little...  "
      ]
     },
     "execution_count": 39,
     "metadata": {},
     "output_type": "execute_result"
    }
   ],
   "source": [
    "final_data.head()"
   ]
  },
  {
   "cell_type": "code",
   "execution_count": 23,
   "metadata": {},
   "outputs": [],
   "source": [
    "# Store the final table into an SQLITE table for future \n",
    "conn= sqlite3.connect('final1.sqlite')\n",
    "c=conn.cursor()\n",
    "conn.text_factory=str\n",
    "final_data.to_sql('reviews',conn,schema=None,if_exists='replace',index=True,index_label=None,chunksize=None,dtype=None)\n",
    "conn.close()"
   ]
  },
  {
   "cell_type": "code",
   "execution_count": 40,
   "metadata": {},
   "outputs": [
    {
     "data": {
      "text/plain": [
       "Index(['Id', 'ProductId', 'UserId', 'ProfileName', 'HelpfulnessNumerator',\n",
       "       'HelpfulnessDenominator', 'Score', 'Time', 'Summary', 'Text',\n",
       "       'Cleaned_text'],\n",
       "      dtype='object')"
      ]
     },
     "execution_count": 40,
     "metadata": {},
     "output_type": "execute_result"
    }
   ],
   "source": [
    "final_data.columns"
   ]
  },
  {
   "cell_type": "code",
   "execution_count": 42,
   "metadata": {},
   "outputs": [
    {
     "data": {
      "text/html": [
       "<div>\n",
       "<style scoped>\n",
       "    .dataframe tbody tr th:only-of-type {\n",
       "        vertical-align: middle;\n",
       "    }\n",
       "\n",
       "    .dataframe tbody tr th {\n",
       "        vertical-align: top;\n",
       "    }\n",
       "\n",
       "    .dataframe thead th {\n",
       "        text-align: right;\n",
       "    }\n",
       "</style>\n",
       "<table border=\"1\" class=\"dataframe\">\n",
       "  <thead>\n",
       "    <tr style=\"text-align: right;\">\n",
       "      <th></th>\n",
       "      <th>Cleaned_text</th>\n",
       "      <th>Text</th>\n",
       "    </tr>\n",
       "  </thead>\n",
       "  <tbody>\n",
       "    <tr>\n",
       "      <th>138706</th>\n",
       "      <td>witty little book makes son laugh loud recite ...</td>\n",
       "      <td>this witty little book makes my son laugh at l...</td>\n",
       "    </tr>\n",
       "    <tr>\n",
       "      <th>138688</th>\n",
       "      <td>grew reading sendak books watching really rosi...</td>\n",
       "      <td>I grew up reading these Sendak books, and watc...</td>\n",
       "    </tr>\n",
       "    <tr>\n",
       "      <th>138689</th>\n",
       "      <td>fun way children learn months year learn poems...</td>\n",
       "      <td>This is a fun way for children to learn their ...</td>\n",
       "    </tr>\n",
       "    <tr>\n",
       "      <th>138690</th>\n",
       "      <td>great little book read aloud nice rhythm well ...</td>\n",
       "      <td>This is a great little book to read aloud- it ...</td>\n",
       "    </tr>\n",
       "    <tr>\n",
       "      <th>138691</th>\n",
       "      <td>book poetry months year goes month cute little...</td>\n",
       "      <td>This is a book of poetry about the months of t...</td>\n",
       "    </tr>\n",
       "    <tr>\n",
       "      <th>...</th>\n",
       "      <td>...</td>\n",
       "      <td>...</td>\n",
       "    </tr>\n",
       "    <tr>\n",
       "      <th>178145</th>\n",
       "      <td>love love sweetener use baking unsweetened fla...</td>\n",
       "      <td>LOVE, LOVE this sweetener!!  I use it in all m...</td>\n",
       "    </tr>\n",
       "    <tr>\n",
       "      <th>173675</th>\n",
       "      <td>try sauce believe starts little sweet honey ta...</td>\n",
       "      <td>You have to try this sauce to believe it! It s...</td>\n",
       "    </tr>\n",
       "    <tr>\n",
       "      <th>204727</th>\n",
       "      <td>bought hazelnut paste nocciola spread local sh...</td>\n",
       "      <td>I bought this Hazelnut Paste (Nocciola Spread)...</td>\n",
       "    </tr>\n",
       "    <tr>\n",
       "      <th>5259</th>\n",
       "      <td>purchased product local store ny kids love qui...</td>\n",
       "      <td>Purchased this product at a local store in NY ...</td>\n",
       "    </tr>\n",
       "    <tr>\n",
       "      <th>302474</th>\n",
       "      <td>purchased send son away college delivered righ...</td>\n",
       "      <td>I purchased this to send to my son who's away ...</td>\n",
       "    </tr>\n",
       "  </tbody>\n",
       "</table>\n",
       "<p>364171 rows × 2 columns</p>\n",
       "</div>"
      ],
      "text/plain": [
       "                                             Cleaned_text  \\\n",
       "138706  witty little book makes son laugh loud recite ...   \n",
       "138688  grew reading sendak books watching really rosi...   \n",
       "138689  fun way children learn months year learn poems...   \n",
       "138690  great little book read aloud nice rhythm well ...   \n",
       "138691  book poetry months year goes month cute little...   \n",
       "...                                                   ...   \n",
       "178145  love love sweetener use baking unsweetened fla...   \n",
       "173675  try sauce believe starts little sweet honey ta...   \n",
       "204727  bought hazelnut paste nocciola spread local sh...   \n",
       "5259    purchased product local store ny kids love qui...   \n",
       "302474  purchased send son away college delivered righ...   \n",
       "\n",
       "                                                     Text  \n",
       "138706  this witty little book makes my son laugh at l...  \n",
       "138688  I grew up reading these Sendak books, and watc...  \n",
       "138689  This is a fun way for children to learn their ...  \n",
       "138690  This is a great little book to read aloud- it ...  \n",
       "138691  This is a book of poetry about the months of t...  \n",
       "...                                                   ...  \n",
       "178145  LOVE, LOVE this sweetener!!  I use it in all m...  \n",
       "173675  You have to try this sauce to believe it! It s...  \n",
       "204727  I bought this Hazelnut Paste (Nocciola Spread)...  \n",
       "5259    Purchased this product at a local store in NY ...  \n",
       "302474  I purchased this to send to my son who's away ...  \n",
       "\n",
       "[364171 rows x 2 columns]"
      ]
     },
     "execution_count": 42,
     "metadata": {},
     "output_type": "execute_result"
    }
   ],
   "source": [
    "final_data[['Cleaned_text','Text']]"
   ]
  },
  {
   "cell_type": "markdown",
   "metadata": {},
   "source": [
    "# BOW(Bag of words): A simple technique to convert words to vector `"
   ]
  },
  {
   "cell_type": "code",
   "execution_count": 43,
   "metadata": {},
   "outputs": [],
   "source": [
    "#Bow\n",
    "count_vect=CountVectorizer()  \n",
    "final_count=count_vect.fit_transform(final_data['Cleaned_text'].values)"
   ]
  },
  {
   "cell_type": "code",
   "execution_count": 44,
   "metadata": {},
   "outputs": [
    {
     "name": "stdout",
     "output_type": "stream",
     "text": [
      "The type of count_vetorizer: <class 'scipy.sparse.csr.csr_matrix'>\n",
      "The shape of the text Bow vectorizer: (364171, 116771)\n",
      "The number of Unique words: 116771\n"
     ]
    }
   ],
   "source": [
    "print(\"The type of count_vetorizer:\",type(final_count))\n",
    "print('The shape of the text Bow vectorizer:',final_count.get_shape())\n",
    "print('The number of Unique words:',final_count.get_shape()[1])"
   ]
  },
  {
   "cell_type": "code",
   "execution_count": 45,
   "metadata": {},
   "outputs": [],
   "source": [
    "#final_data.shape "
   ]
  },
  {
   "cell_type": "markdown",
   "metadata": {},
   "source": [
    "# Bi-Grams And n-Grams\n"
   ]
  },
  {
   "cell_type": "code",
   "execution_count": 48,
   "metadata": {},
   "outputs": [],
   "source": [
    "#bi-gram  , tri-gram and n-gram\n",
    "#removing stop words like \"not\" should be avoided before building n-grams.\n",
    "#ngram_range of (1, 1)(bydefault) means only unigrams, (1,2) means unigrams and bigrams, and (2, 2) means only bigrams.\n",
    "count_vect=CountVectorizer(ngram_range=(1,2)) \n",
    "final_bigram_count= count_vect.fit_transform(final_data['Cleaned_text'].values)"
   ]
  },
  {
   "cell_type": "code",
   "execution_count": 49,
   "metadata": {},
   "outputs": [
    {
     "name": "stdout",
     "output_type": "stream",
     "text": [
      "The type of count_vetorizer: <class 'scipy.sparse.csr.csr_matrix'>\n",
      "The shape of the text Bow vectorizer: (364171, 3934332)\n",
      "The number of Unique words including both unigrams and bigrams : 3934332\n"
     ]
    }
   ],
   "source": [
    "print(\"The type of count_vetorizer:\",type(final_bigram_count))\n",
    "print('The shape of the text Bow vectorizer:',final_bigram_count.get_shape())\n",
    "print('The number of Unique words including both unigrams and bigrams :',final_bigram_count.get_shape()[1])"
   ]
  },
  {
   "cell_type": "markdown",
   "metadata": {},
   "source": [
    "# TF-IDF"
   ]
  },
  {
   "cell_type": "code",
   "execution_count": 50,
   "metadata": {},
   "outputs": [],
   "source": [
    "tf_idf_vect=TfidfVectorizer(ngram_range=(1,2))\n",
    "final_tf_idf_vect=tf_idf_vect.fit_transform(final_data['Cleaned_text'].values)"
   ]
  },
  {
   "cell_type": "code",
   "execution_count": 51,
   "metadata": {},
   "outputs": [
    {
     "name": "stdout",
     "output_type": "stream",
     "text": [
      "The type of tf_idf_vect: <class 'scipy.sparse.csr.csr_matrix'>\n",
      "The shape of the text TF_IDF vectorizer: (364171, 3934332)\n",
      "The number of Unique words including both unigrams and bigrams: 3934332\n"
     ]
    }
   ],
   "source": [
    "print(\"The type of tf_idf_vect:\",type(final_tf_idf_vect))\n",
    "print('The shape of the text TF_IDF vectorizer:',final_tf_idf_vect.get_shape())\n",
    "print('The number of Unique words including both unigrams and bigrams:',final_tf_idf_vect.get_shape()[1]) "
   ]
  },
  {
   "cell_type": "code",
   "execution_count": 52,
   "metadata": {},
   "outputs": [
    {
     "name": "stdout",
     "output_type": "stream",
     "text": [
      "3934332\n",
      "Some sample feature (unique words in corpus):\n",
      "['altoids fact', 'altoids falvors', 'altoids fan', 'altoids favorite', 'altoids favorites', 'altoids finding', 'altoids flavor', 'altoids flavors', 'altoids flavour', 'altoids found']\n"
     ]
    }
   ],
   "source": [
    "features= tf_idf_vect.get_feature_names() # to get each of the feature name\n",
    "print(len(features))\n",
    "print('Some sample feature (unique words in corpus):')\n",
    "print(features[100000:100010])"
   ]
  },
  {
   "cell_type": "code",
   "execution_count": 53,
   "metadata": {},
   "outputs": [
    {
     "name": "stdout",
     "output_type": "stream",
     "text": [
      "[0. 0. 0. ... 0. 0. 0.]\n"
     ]
    }
   ],
   "source": [
    "#Convert a row in sparsematrix to a numpy array\n",
    "print(final_tf_idf_vect[3,:].toarray()[0]) # it will convert the sparse matrix for review 3 into array"
   ]
  },
  {
   "cell_type": "code",
   "execution_count": 54,
   "metadata": {},
   "outputs": [],
   "source": [
    "#Source : https://buhrmann.github.io/tfidf-analysis.html\n",
    "def top_tfidf_feature(row,features,top_n=25):\n",
    "    \"\"\"getting top n tfidf values in row and return them with their corresponding features names\"\"\"\n",
    "    top_ids=np.argsort(row)[::-1][:top_n]\n",
    "    tops_features=[(features[i],row[i]) for i in top_ids]\n",
    "    df=pd.DataFrame(tops_features)\n",
    "    df.columns=['features','tfidf']\n",
    "    return df\n",
    "\n",
    "top_tf_idf_=top_tfidf_feature(final_tf_idf_vect[1,:].toarray()[0],features,25)\n"
   ]
  },
  {
   "cell_type": "code",
   "execution_count": 55,
   "metadata": {},
   "outputs": [
    {
     "data": {
      "text/html": [
       "<div>\n",
       "<style scoped>\n",
       "    .dataframe tbody tr th:only-of-type {\n",
       "        vertical-align: middle;\n",
       "    }\n",
       "\n",
       "    .dataframe tbody tr th {\n",
       "        vertical-align: top;\n",
       "    }\n",
       "\n",
       "    .dataframe thead th {\n",
       "        text-align: right;\n",
       "    }\n",
       "</style>\n",
       "<table border=\"1\" class=\"dataframe\">\n",
       "  <thead>\n",
       "    <tr style=\"text-align: right;\">\n",
       "      <th></th>\n",
       "      <th>features</th>\n",
       "      <th>tfidf</th>\n",
       "    </tr>\n",
       "  </thead>\n",
       "  <tbody>\n",
       "    <tr>\n",
       "      <th>0</th>\n",
       "      <td>incorporates love</td>\n",
       "      <td>0.183116</td>\n",
       "    </tr>\n",
       "    <tr>\n",
       "      <th>1</th>\n",
       "      <td>rosie movie</td>\n",
       "      <td>0.183116</td>\n",
       "    </tr>\n",
       "    <tr>\n",
       "      <th>2</th>\n",
       "      <td>cover version</td>\n",
       "      <td>0.183116</td>\n",
       "    </tr>\n",
       "    <tr>\n",
       "      <th>3</th>\n",
       "      <td>paperbacks seem</td>\n",
       "      <td>0.183116</td>\n",
       "    </tr>\n",
       "    <tr>\n",
       "      <th>4</th>\n",
       "      <td>flimsy takes</td>\n",
       "      <td>0.183116</td>\n",
       "    </tr>\n",
       "    <tr>\n",
       "      <th>5</th>\n",
       "      <td>reading sendak</td>\n",
       "      <td>0.183116</td>\n",
       "    </tr>\n",
       "    <tr>\n",
       "      <th>6</th>\n",
       "      <td>movie incorporates</td>\n",
       "      <td>0.183116</td>\n",
       "    </tr>\n",
       "    <tr>\n",
       "      <th>7</th>\n",
       "      <td>books watching</td>\n",
       "      <td>0.183116</td>\n",
       "    </tr>\n",
       "    <tr>\n",
       "      <th>8</th>\n",
       "      <td>grew reading</td>\n",
       "      <td>0.183116</td>\n",
       "    </tr>\n",
       "    <tr>\n",
       "      <th>9</th>\n",
       "      <td>version paperbacks</td>\n",
       "      <td>0.183116</td>\n",
       "    </tr>\n",
       "    <tr>\n",
       "      <th>10</th>\n",
       "      <td>pages open</td>\n",
       "      <td>0.183116</td>\n",
       "    </tr>\n",
       "    <tr>\n",
       "      <th>11</th>\n",
       "      <td>keep pages</td>\n",
       "      <td>0.183116</td>\n",
       "    </tr>\n",
       "    <tr>\n",
       "      <th>12</th>\n",
       "      <td>really rosie</td>\n",
       "      <td>0.177454</td>\n",
       "    </tr>\n",
       "    <tr>\n",
       "      <th>13</th>\n",
       "      <td>paperbacks</td>\n",
       "      <td>0.177454</td>\n",
       "    </tr>\n",
       "    <tr>\n",
       "      <th>14</th>\n",
       "      <td>sendak books</td>\n",
       "      <td>0.177454</td>\n",
       "    </tr>\n",
       "    <tr>\n",
       "      <th>15</th>\n",
       "      <td>miss hard</td>\n",
       "      <td>0.177454</td>\n",
       "    </tr>\n",
       "    <tr>\n",
       "      <th>16</th>\n",
       "      <td>watching really</td>\n",
       "      <td>0.173436</td>\n",
       "    </tr>\n",
       "    <tr>\n",
       "      <th>17</th>\n",
       "      <td>kind flimsy</td>\n",
       "      <td>0.167774</td>\n",
       "    </tr>\n",
       "    <tr>\n",
       "      <th>18</th>\n",
       "      <td>hard cover</td>\n",
       "      <td>0.167774</td>\n",
       "    </tr>\n",
       "    <tr>\n",
       "      <th>19</th>\n",
       "      <td>hands keep</td>\n",
       "      <td>0.163756</td>\n",
       "    </tr>\n",
       "    <tr>\n",
       "      <th>20</th>\n",
       "      <td>however miss</td>\n",
       "      <td>0.163756</td>\n",
       "    </tr>\n",
       "    <tr>\n",
       "      <th>21</th>\n",
       "      <td>seem kind</td>\n",
       "      <td>0.162111</td>\n",
       "    </tr>\n",
       "    <tr>\n",
       "      <th>22</th>\n",
       "      <td>sendak</td>\n",
       "      <td>0.159309</td>\n",
       "    </tr>\n",
       "    <tr>\n",
       "      <th>23</th>\n",
       "      <td>rosie</td>\n",
       "      <td>0.155941</td>\n",
       "    </tr>\n",
       "    <tr>\n",
       "      <th>24</th>\n",
       "      <td>two hands</td>\n",
       "      <td>0.152431</td>\n",
       "    </tr>\n",
       "  </tbody>\n",
       "</table>\n",
       "</div>"
      ],
      "text/plain": [
       "              features     tfidf\n",
       "0    incorporates love  0.183116\n",
       "1          rosie movie  0.183116\n",
       "2        cover version  0.183116\n",
       "3      paperbacks seem  0.183116\n",
       "4         flimsy takes  0.183116\n",
       "5       reading sendak  0.183116\n",
       "6   movie incorporates  0.183116\n",
       "7       books watching  0.183116\n",
       "8         grew reading  0.183116\n",
       "9   version paperbacks  0.183116\n",
       "10          pages open  0.183116\n",
       "11          keep pages  0.183116\n",
       "12        really rosie  0.177454\n",
       "13          paperbacks  0.177454\n",
       "14        sendak books  0.177454\n",
       "15           miss hard  0.177454\n",
       "16     watching really  0.173436\n",
       "17         kind flimsy  0.167774\n",
       "18          hard cover  0.167774\n",
       "19          hands keep  0.163756\n",
       "20        however miss  0.163756\n",
       "21           seem kind  0.162111\n",
       "22              sendak  0.159309\n",
       "23               rosie  0.155941\n",
       "24           two hands  0.152431"
      ]
     },
     "execution_count": 55,
     "metadata": {},
     "output_type": "execute_result"
    }
   ],
   "source": [
    "top_tf_idf_ #top 25 term in a given sentence of review \"1\""
   ]
  },
  {
   "cell_type": "markdown",
   "metadata": {},
   "source": [
    "# Word2Vec"
   ]
  },
  {
   "cell_type": "code",
   "execution_count": null,
   "metadata": {},
   "outputs": [],
   "source": [
    "#Using Google News Word2Vcetors\n",
    "\n",
    "# in this project we are using a pretrained model by Google,its 3.3G file ,once you load this into your memory \n",
    "#it will occupy ~9Gb,so please do this step only if you have > 12Gb of RAM.\n",
    "#we will provide a pickle file which contains a dict,& it contains all our courpus words as keys & model[word] as values\n",
    "#To use this code-snippet,download \"GoogleNews-vectors-negative300.bin\"\n",
    "#from https://drive.google.com/file/d/0B7XkCwpI5KDYNlNUTTlSS21pQmM/edit\n",
    "\n",
    "from gensim.models import Word2Vec\n",
    "from gensim.models import KeyedVectors\n",
    "import pickle\n",
    "model= KeyedVectors.load_word2vec_format('GoogleNews-vectors-negative300.bin')"
   ]
  },
  {
   "cell_type": "code",
   "execution_count": null,
   "metadata": {},
   "outputs": [],
   "source": [
    "#it will show the vetor representation of word \"computer\"\n",
    "model.wv['computer']"
   ]
  },
  {
   "cell_type": "code",
   "execution_count": null,
   "metadata": {},
   "outputs": [],
   "source": [
    "# to see numeric_simlarity between 2 words\n",
    "model.wv.most_similarity('woman','man')"
   ]
  },
  {
   "cell_type": "code",
   "execution_count": null,
   "metadata": {},
   "outputs": [],
   "source": [
    "# to see most similar_words to the word 'woman'\n",
    "model.wv.most_similar('woman')"
   ]
  },
  {
   "cell_type": "code",
   "execution_count": null,
   "metadata": {},
   "outputs": [],
   "source": [
    "# previously we seen that \"tasti \" is stemmed word for \"tasty and tastful\"\n",
    "model.wv.most_similar('tasti')  #it will raise the error as there  word \"tasti\" not in vocabulary"
   ]
  },
  {
   "cell_type": "code",
   "execution_count": null,
   "metadata": {},
   "outputs": [],
   "source": [
    "model.wv.most_similar('tasty')"
   ]
  },
  {
   "cell_type": "code",
   "execution_count": 56,
   "metadata": {},
   "outputs": [],
   "source": [
    "# Train your own Word2Vec model using your own text corpus\n",
    "import gensim\n",
    "i=0\n",
    "list_of_sent=[]\n",
    "for sent in final_data['Cleaned_text'].values:\n",
    "    list_of_sent.append(sent.split())\n",
    "    "
   ]
  },
  {
   "cell_type": "code",
   "execution_count": 41,
   "metadata": {},
   "outputs": [
    {
     "name": "stdout",
     "output_type": "stream",
     "text": [
      "witti littl book make son laugh loud recit car drive along alway sing refrain hes learn whale india droop love new word book introduc silli classic book will bet son still abl recit memori colleg\n",
      "****************************************\n",
      "['witti', 'littl', 'book', 'make', 'son', 'laugh', 'loud', 'recit', 'car', 'drive', 'along', 'alway', 'sing', 'refrain', 'hes', 'learn', 'whale', 'india', 'droop', 'love', 'new', 'word', 'book', 'introduc', 'silli', 'classic', 'book', 'will', 'bet', 'son', 'still', 'abl', 'recit', 'memori', 'colleg']\n"
     ]
    }
   ],
   "source": [
    "print(final_data['Cleaned_text'].values[0])\n",
    "print('*'*40)\n",
    "print(list_of_sent[0])"
   ]
  },
  {
   "cell_type": "code",
   "execution_count": 57,
   "metadata": {},
   "outputs": [],
   "source": [
    "    # To Train the word2vec model\n",
    "W2v_model=gensim.models.Word2Vec(list_of_sent,min_count=5,size=50,workers=4)\n",
    "#min_count :means if a word doesnt occur atleast 5 times don't create word2vec\n",
    "# vector_size :is the number of dimensions (N) of the N-dimensional space that gensim Word2Vec maps the words onto.\n",
    "#workers : the last of the major parameters (full list here) is for training parallelization, to speed up training:"
   ]
  },
  {
   "cell_type": "code",
   "execution_count": 66,
   "metadata": {},
   "outputs": [
    {
     "name": "stdout",
     "output_type": "stream",
     "text": [
      "[-0.6107101  -0.67034346 -2.6221585  -1.4425089  -1.3013947   4.1874156\n",
      " -0.9494372  -1.0349554  -0.33052203 -2.5994067   2.6629179  -1.655124\n",
      "  2.3965137   0.58096296 -0.67995054  0.13025503  0.79518604  3.0029774\n",
      "  2.8996725   1.8602083   0.50494504 -0.21483125 -0.52742594 -0.51032174\n",
      "  0.8326055  -1.3442563   1.6809897  -1.0757923  -0.44997677 -2.2265508\n",
      " -0.3954141  -0.06144696  0.2763246  -2.5573807   1.6016845  -1.7303195\n",
      "  1.2434839   1.2322925   3.070183   -5.606472    1.1513461   0.32933712\n",
      "  0.39576283 -1.2074327  -2.2284095  -1.3324424   0.7905092  -1.6390716\n",
      "  2.5836208   2.6731517 ]\n"
     ]
    }
   ],
   "source": [
    "print(W2v_model.wv['great'])"
   ]
  },
  {
   "cell_type": "code",
   "execution_count": 59,
   "metadata": {},
   "outputs": [
    {
     "name": "stdout",
     "output_type": "stream",
     "text": [
      "[('fantastic', 0.8883295059204102), ('terrific', 0.8827334046363831), ('awesome', 0.8770381808280945), ('good', 0.8632175922393799), ('excellent', 0.8463320732116699), ('wonderful', 0.8063865303993225), ('perfect', 0.7888157367706299), ('nice', 0.7448451519012451), ('fabulous', 0.7446472644805908), ('amazing', 0.7292959690093994)]\n",
      "==================================================\n",
      "[('nastiest', 0.8599145412445068), ('greatest', 0.7761662006378174), ('disgusting', 0.7535935640335083), ('best', 0.7331047654151917), ('terrible', 0.7247992753982544), ('awful', 0.713337779045105), ('horrible', 0.7061472535133362), ('tastiest', 0.7038686871528625), ('horrid', 0.6958554983139038), ('vile', 0.6948801279067993)]\n"
     ]
    }
   ],
   "source": [
    "print(W2v_model.wv.most_similar('great'))\n",
    "print('='*50)\n",
    "print(W2v_model.wv.most_similar('worst'))"
   ]
  },
  {
   "cell_type": "code",
   "execution_count": 62,
   "metadata": {},
   "outputs": [
    {
     "name": "stdout",
     "output_type": "stream",
     "text": [
      "number of words that occured minimum 5 times 33584\n"
     ]
    }
   ],
   "source": [
    "w2vwords=list(W2v_model.wv.vocab)\n",
    "print('number of words that occured minimum 5 times',len(words))"
   ]
  },
  {
   "cell_type": "code",
   "execution_count": 63,
   "metadata": {},
   "outputs": [
    {
     "name": "stdout",
     "output_type": "stream",
     "text": [
      "Sample words: ['witty', 'little', 'book', 'makes', 'son', 'laugh', 'loud', 'recite', 'car', 'driving', 'along', 'always', 'sing', 'refrain', 'learned', 'whales', 'india', 'drooping', 'roses', 'love', 'new', 'words', 'introduces', 'silliness', 'classic', 'willing', 'bet', 'still', 'able', 'memory', 'college', 'grew', 'reading', 'sendak', 'books', 'watching', 'really', 'rosie', 'movie', 'incorporates', 'loves', 'however', 'miss', 'hard', 'cover', 'version', 'seem', 'kind', 'flimsy', 'takes']\n"
     ]
    }
   ],
   "source": [
    "print('Sample words:',w2vwords[0:50])"
   ]
  },
  {
   "cell_type": "markdown",
   "metadata": {},
   "source": [
    "# Converting text into vectors using Avg W2V, TFIDF-W2V"
   ]
  },
  {
   "cell_type": "markdown",
   "metadata": {},
   "source": [
    "# Avg W2V"
   ]
  },
  {
   "cell_type": "code",
   "execution_count": 69,
   "metadata": {
    "collapsed": true
   },
   "outputs": [
    {
     "data": {
      "text/plain": [
       "['witty',\n",
       " 'little',\n",
       " 'book',\n",
       " 'makes',\n",
       " 'son',\n",
       " 'laugh',\n",
       " 'loud',\n",
       " 'recite',\n",
       " 'car',\n",
       " 'driving',\n",
       " 'along',\n",
       " 'always',\n",
       " 'sing',\n",
       " 'refrain',\n",
       " 'learned',\n",
       " 'whales',\n",
       " 'india',\n",
       " 'drooping',\n",
       " 'roses',\n",
       " 'love',\n",
       " 'new',\n",
       " 'words',\n",
       " 'book',\n",
       " 'introduces',\n",
       " 'silliness',\n",
       " 'classic',\n",
       " 'book',\n",
       " 'willing',\n",
       " 'bet',\n",
       " 'son',\n",
       " 'still',\n",
       " 'able',\n",
       " 'recite',\n",
       " 'memory',\n",
       " 'college']"
      ]
     },
     "execution_count": 69,
     "metadata": {},
     "output_type": "execute_result"
    }
   ],
   "source": [
    "list_of_sent[0]"
   ]
  },
  {
   "cell_type": "code",
   "execution_count": 71,
   "metadata": {},
   "outputs": [
    {
     "data": {
      "text/plain": [
       "True"
      ]
     },
     "execution_count": 71,
     "metadata": {},
     "output_type": "execute_result"
    }
   ],
   "source": [
    "#print('memory' in w2vwords)"
   ]
  },
  {
   "cell_type": "code",
   "execution_count": null,
   "metadata": {},
   "outputs": [],
   "source": [
    "for"
   ]
  },
  {
   "cell_type": "code",
   "execution_count": 72,
   "metadata": {},
   "outputs": [
    {
     "name": "stderr",
     "output_type": "stream",
     "text": [
      "100%|█████████████████████████████████████████████████████████████████████████| 364171/364171 [39:57<00:00, 151.89it/s]"
     ]
    },
    {
     "name": "stdout",
     "output_type": "stream",
     "text": [
      "364171\n",
      "50\n"
     ]
    },
    {
     "name": "stderr",
     "output_type": "stream",
     "text": [
      "\n"
     ]
    }
   ],
   "source": [
    "#computing average word2vec for each reviews\n",
    "sent_vectors=[]\n",
    "for sent in tqdm(list_of_sent):\n",
    "    sent_vec=np.zeros(50)\n",
    "    count_words=0\n",
    "    for word in sent:\n",
    "        if word in w2vwords:\n",
    "            vec=W2v_model.wv[word]\n",
    "            sent_vec+=vec\n",
    "            count_words+=1\n",
    "    if count_words!=0:\n",
    "        sent_vec/=count_words\n",
    "    sent_vectors.append(sent_vec)\n",
    "print(len(sent_vectors))\n",
    "print(len(sent_vectors[0]))"
   ]
  },
  {
   "cell_type": "markdown",
   "metadata": {},
   "source": [
    "# *Tf-idf Weighted W2V*"
   ]
  },
  {
   "cell_type": "code",
   "execution_count": 79,
   "metadata": {},
   "outputs": [],
   "source": [
    "tf_idf_model=TfidfVectorizer()\n",
    "tf_idf_model.fit(final_data['Cleaned_text'].values)\n",
    "#creating a dictinory with a word  as a key and the idf as value\n",
    "dicctionary=dict(zip(tf_idf_model.get_feature_names(),list(tf_idf_model.idf_)))\n"
   ]
  },
  {
   "cell_type": "code",
   "execution_count": 110,
   "metadata": {},
   "outputs": [
    {
     "name": "stderr",
     "output_type": "stream",
     "text": [
      "100%|███████████████████████████████████████████████████████████████████████| 364171/364171 [16:27:21<00:00,  6.15it/s]\n"
     ]
    }
   ],
   "source": [
    "tfidf_feat=tf_idf_model.get_feature_names()\n",
    "#final_tf_idf = tf_idf_vect.fit_transform(final['Cleane_text'].values)\n",
    "# final_tf_idf is the sparse matrix with row= sentence, col=word and cell_val = tfidf\n",
    "\n",
    "tf_idf_sent_vectors=[]\n",
    "row=0\n",
    "for sent in tqdm(list_of_sent):\n",
    "    sent_vec=np.zeros(50)\n",
    "    weight_sum=0\n",
    "    for word in sent:\n",
    "        if word in w2vwords and word in tfidf_feat:\n",
    "            vec=W2v_model.wv[word]\n",
    "            #tf_idf=final_tf_idf[row,tfidf_feat.index(word)]\n",
    "            # to reduce the computation we are computing \n",
    "            #dictionary[word]:idf value of the word in whole corpus\n",
    "            #sent.count(word):tfvalues of word in this reviews\n",
    "            tf_idf=dicctionary[word]*(sent.count(word)/len(sent))\n",
    "            #sent.count(word) gives us the count of word in sentence and\n",
    "            #then we're dividing this term by total number of words in sent that gives us tf value.\n",
    "            sent_vec+=(vec*tf_idf)\n",
    "            weight_sum+=tf_idf\n",
    "    if weight_sum!=0:\n",
    "        sent_vec/=weight_sum\n",
    "    tf_idf_sent_vectors.append(sent_vec)\n",
    "    row+=1"
   ]
  },
  {
   "cell_type": "code",
   "execution_count": 111,
   "metadata": {},
   "outputs": [
    {
     "name": "stdout",
     "output_type": "stream",
     "text": [
      "364171\n",
      "50\n"
     ]
    }
   ],
   "source": [
    "print(len(tf_idf_sent_vectors))\n",
    "print(len(tf_idf_sent_vectors[0]))"
   ]
  },
  {
   "cell_type": "code",
   "execution_count": 48,
   "metadata": {},
   "outputs": [],
   "source": [
    "a='343'"
   ]
  },
  {
   "cell_type": "code",
   "execution_count": 54,
   "metadata": {},
   "outputs": [
    {
     "data": {
      "text/plain": [
       "2"
      ]
     },
     "execution_count": 54,
     "metadata": {},
     "output_type": "execute_result"
    }
   ],
   "source": [
    "while(n!=0):\n",
    "    m=n%10\n",
    "    c=rn*10+m\n",
    "    n=n//10"
   ]
  },
  {
   "cell_type": "markdown",
   "metadata": {},
   "source": [
    "## "
   ]
  }
 ],
 "metadata": {
  "kernelspec": {
   "display_name": "Python 3",
   "language": "python",
   "name": "python3"
  },
  "language_info": {
   "codemirror_mode": {
    "name": "ipython",
    "version": 3
   },
   "file_extension": ".py",
   "mimetype": "text/x-python",
   "name": "python",
   "nbconvert_exporter": "python",
   "pygments_lexer": "ipython3",
   "version": "3.7.7"
  }
 },
 "nbformat": 4,
 "nbformat_minor": 4
}
