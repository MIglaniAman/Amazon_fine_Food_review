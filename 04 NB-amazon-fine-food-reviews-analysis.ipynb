{
 "cells": [
  {
   "cell_type": "code",
   "execution_count": 1,
   "metadata": {
    "_cell_guid": "b1076dfc-b9ad-4769-8c92-a6c4dae69d19",
    "_uuid": "8f2839f25d086af736a60e9eeb907d3b93b6e0e5",
    "execution": {
     "iopub.execute_input": "2021-02-09T17:12:23.931298Z",
     "iopub.status.busy": "2021-02-09T17:12:23.930634Z",
     "iopub.status.idle": "2021-02-09T17:12:23.946318Z",
     "shell.execute_reply": "2021-02-09T17:12:23.946966Z"
    },
    "papermill": {
     "duration": 0.059403,
     "end_time": "2021-02-09T17:12:23.947287",
     "exception": false,
     "start_time": "2021-02-09T17:12:23.887884",
     "status": "completed"
    },
    "tags": []
   },
   "outputs": [
    {
     "name": "stdout",
     "output_type": "stream",
     "text": [
      "/kaggle/input/amazon-fine-food-reviews/hashes.txt\n",
      "/kaggle/input/amazon-fine-food-reviews/Reviews.csv\n",
      "/kaggle/input/amazon-fine-food-reviews/database.sqlite\n"
     ]
    }
   ],
   "source": [
    "# This Python 3 environment comes with many helpful analytics libraries installed\n",
    "# It is defined by the kaggle/python Docker image: https://github.com/kaggle/docker-python\n",
    "# For example, here's several helpful packages to load\n",
    "\n",
    "import numpy as np # linear algebra\n",
    "import pandas as pd # data processing, CSV file I/O (e.g. pd.read_csv)\n",
    "\n",
    "# Input data files are available in the read-only \"../input/\" directory\n",
    "# For example, running this (by clicking run or pressing Shift+Enter) will list all files under the input directory\n",
    "\n",
    "import os\n",
    "for dirname, _, filenames in os.walk('/kaggle/input'):\n",
    "    for filename in filenames:\n",
    "        print(os.path.join(dirname, filename))\n",
    "\n",
    "# You can write up to 20GB to the current directory (/kaggle/working/) that gets preserved as output when you create a version using \"Save & Run All\" \n",
    "# You can also write temporary files to /kaggle/temp/, but they won't be saved outside of the current session"
   ]
  },
  {
   "cell_type": "markdown",
   "metadata": {
    "papermill": {
     "duration": 0.035975,
     "end_time": "2021-02-09T17:12:24.020880",
     "exception": false,
     "start_time": "2021-02-09T17:12:23.984905",
     "status": "completed"
    },
    "tags": []
   },
   "source": [
    "Amazon Fine Food Review Analysis\n",
    "The Amazon fine food reviews dataset consist of reviews of fine food from Amazon\n",
    "\n",
    "1. Number of reviews: 568,454 reviews*\n",
    "1. Number of Users : 256,059 users\n",
    "1. Number of products : 74,258 products\n",
    "1. Time span of taking reviews: Oct 1999 - Oct 2012\n",
    "1. Number of attributes/column in Data: 10\n",
    "\n",
    "Attributes: Information:\n",
    "\n",
    "1. Id : Row Id\n",
    "1. ProductId : Unique identifier for the product (74258 unique values )\n",
    "1. UserId : Unqiue identifier for the user (256059 unique values)\n",
    "1. ProfileName: Profile name of the user (218418 unique values)\n",
    "1. HelpfulnessNumerator : Number of users who found the review helpful\n",
    "1. HelpfulnessDenominator : Number of users who indicated whether they found the review helpful or not\n",
    "1. Score : Rating between 1 and 5\n",
    "1. Time : Timestamp for the review\n",
    "1. Summary : Brief summary of the review (295744 unique values)\n",
    "1. Text : Text of the review (393579 unique values ) (the most useful information for predicting postive or negative)\n",
    "Objecive: Given a review ,determine whether a review is positive (Rating of 4 or 5) or negative(Rating of 1 or 2) ?\n",
    "\n",
    "**Q). How to determine if a review is positive or negative ?**\n",
    "\n",
    "*Ans). We could use the Score/rating. A rating of 4 or 5 could be considered as a positive review and A rating of 1 or 2 could be negative reviews. A rating of 3 neutral and can be ignored. This is the approximation and proxy way of determinig the polarity (positivity/negativity) of review.*"
   ]
  },
  {
   "cell_type": "markdown",
   "metadata": {
    "papermill": {
     "duration": 0.035201,
     "end_time": "2021-02-09T17:12:24.092863",
     "exception": false,
     "start_time": "2021-02-09T17:12:24.057662",
     "status": "completed"
    },
    "tags": []
   },
   "source": [
    "# Loading the data \n",
    "The dataset is available in two forms\n",
    "\n",
    "1. .csv file\n",
    "1. SqLite Database\n",
    "\n",
    "***In order to load the database, We have used the SqLite Database as it easier to query tha data and visualise the data suffuciently. Here as we only want to get the global sentiment of the recommendation(Positve or Negative), we will purposefully ignore all the scores equal to 3 ,If the Score is above 3 ,then the recommendation or review will be set to \"positive\". Otherwise ,it will be set to \"negative***"
   ]
  },
  {
   "cell_type": "markdown",
   "metadata": {
    "papermill": {
     "duration": 0.035468,
     "end_time": "2021-02-09T17:12:24.163633",
     "exception": false,
     "start_time": "2021-02-09T17:12:24.128165",
     "status": "completed"
    },
    "tags": []
   },
   "source": [
    "# Importing Important Library"
   ]
  },
  {
   "cell_type": "code",
   "execution_count": 2,
   "metadata": {
    "execution": {
     "iopub.execute_input": "2021-02-09T17:12:24.242148Z",
     "iopub.status.busy": "2021-02-09T17:12:24.241337Z",
     "iopub.status.idle": "2021-02-09T17:12:26.001662Z",
     "shell.execute_reply": "2021-02-09T17:12:26.000852Z"
    },
    "papermill": {
     "duration": 1.802872,
     "end_time": "2021-02-09T17:12:26.001818",
     "exception": false,
     "start_time": "2021-02-09T17:12:24.198946",
     "status": "completed"
    },
    "tags": []
   },
   "outputs": [],
   "source": [
    "import pandas as pd\n",
    "import numpy as np\n",
    "import seaborn as sns\n",
    "import matplotlib.pyplot as plt\n",
    "import sqlite3\n",
    "from sklearn.feature_extraction.text import TfidfVectorizer\n",
    "from sklearn.feature_extraction.text import CountVectorizer\n",
    "from sklearn.feature_extraction.text import TfidfTransformer\n",
    "from sklearn import  metrics\n",
    "from sklearn.metrics import confusion_matrix\n",
    "from sklearn.metrics import roc_auc_score\n",
    "from sklearn.metrics import f1_score\n",
    "from sklearn.metrics import precision_score\n",
    "from sklearn.metrics import recall_score\n",
    "\n",
    "from tqdm import tqdm\n",
    "import os\n",
    "\n",
    "import string\n",
    "import nltk\n",
    "from nltk.stem.porter import PorterStemmer\n",
    "from nltk.stem.wordnet import  WordNetLemmatizer\n",
    "from nltk.corpus import stopwords"
   ]
  },
  {
   "cell_type": "markdown",
   "metadata": {
    "papermill": {
     "duration": 0.037791,
     "end_time": "2021-02-09T17:12:26.075613",
     "exception": false,
     "start_time": "2021-02-09T17:12:26.037822",
     "status": "completed"
    },
    "tags": []
   },
   "source": [
    "# Reading Data "
   ]
  },
  {
   "cell_type": "code",
   "execution_count": 3,
   "metadata": {
    "execution": {
     "iopub.execute_input": "2021-02-09T17:12:26.159329Z",
     "iopub.status.busy": "2021-02-09T17:12:26.158601Z",
     "iopub.status.idle": "2021-02-09T17:12:36.030723Z",
     "shell.execute_reply": "2021-02-09T17:12:36.031221Z"
    },
    "papermill": {
     "duration": 9.919704,
     "end_time": "2021-02-09T17:12:36.031391",
     "exception": false,
     "start_time": "2021-02-09T17:12:26.111687",
     "status": "completed"
    },
    "tags": []
   },
   "outputs": [
    {
     "name": "stdout",
     "output_type": "stream",
     "text": [
      "No. of data points in Dataset: (525814, 10)\n"
     ]
    },
    {
     "data": {
      "text/html": [
       "<div>\n",
       "<style scoped>\n",
       "    .dataframe tbody tr th:only-of-type {\n",
       "        vertical-align: middle;\n",
       "    }\n",
       "\n",
       "    .dataframe tbody tr th {\n",
       "        vertical-align: top;\n",
       "    }\n",
       "\n",
       "    .dataframe thead th {\n",
       "        text-align: right;\n",
       "    }\n",
       "</style>\n",
       "<table border=\"1\" class=\"dataframe\">\n",
       "  <thead>\n",
       "    <tr style=\"text-align: right;\">\n",
       "      <th></th>\n",
       "      <th>Id</th>\n",
       "      <th>ProductId</th>\n",
       "      <th>UserId</th>\n",
       "      <th>ProfileName</th>\n",
       "      <th>HelpfulnessNumerator</th>\n",
       "      <th>HelpfulnessDenominator</th>\n",
       "      <th>Score</th>\n",
       "      <th>Time</th>\n",
       "      <th>Summary</th>\n",
       "      <th>Text</th>\n",
       "    </tr>\n",
       "  </thead>\n",
       "  <tbody>\n",
       "    <tr>\n",
       "      <th>0</th>\n",
       "      <td>1</td>\n",
       "      <td>B001E4KFG0</td>\n",
       "      <td>A3SGXH7AUHU8GW</td>\n",
       "      <td>delmartian</td>\n",
       "      <td>1</td>\n",
       "      <td>1</td>\n",
       "      <td>1</td>\n",
       "      <td>1303862400</td>\n",
       "      <td>Good Quality Dog Food</td>\n",
       "      <td>I have bought several of the Vitality canned d...</td>\n",
       "    </tr>\n",
       "    <tr>\n",
       "      <th>1</th>\n",
       "      <td>2</td>\n",
       "      <td>B00813GRG4</td>\n",
       "      <td>A1D87F6ZCVE5NK</td>\n",
       "      <td>dll pa</td>\n",
       "      <td>0</td>\n",
       "      <td>0</td>\n",
       "      <td>0</td>\n",
       "      <td>1346976000</td>\n",
       "      <td>Not as Advertised</td>\n",
       "      <td>Product arrived labeled as Jumbo Salted Peanut...</td>\n",
       "    </tr>\n",
       "    <tr>\n",
       "      <th>2</th>\n",
       "      <td>3</td>\n",
       "      <td>B000LQOCH0</td>\n",
       "      <td>ABXLMWJIXXAIN</td>\n",
       "      <td>Natalia Corres \"Natalia Corres\"</td>\n",
       "      <td>1</td>\n",
       "      <td>1</td>\n",
       "      <td>1</td>\n",
       "      <td>1219017600</td>\n",
       "      <td>\"Delight\" says it all</td>\n",
       "      <td>This is a confection that has been around a fe...</td>\n",
       "    </tr>\n",
       "  </tbody>\n",
       "</table>\n",
       "</div>"
      ],
      "text/plain": [
       "   Id   ProductId          UserId                      ProfileName  \\\n",
       "0   1  B001E4KFG0  A3SGXH7AUHU8GW                       delmartian   \n",
       "1   2  B00813GRG4  A1D87F6ZCVE5NK                           dll pa   \n",
       "2   3  B000LQOCH0   ABXLMWJIXXAIN  Natalia Corres \"Natalia Corres\"   \n",
       "\n",
       "   HelpfulnessNumerator  HelpfulnessDenominator  Score        Time  \\\n",
       "0                     1                       1      1  1303862400   \n",
       "1                     0                       0      0  1346976000   \n",
       "2                     1                       1      1  1219017600   \n",
       "\n",
       "                 Summary                                               Text  \n",
       "0  Good Quality Dog Food  I have bought several of the Vitality canned d...  \n",
       "1      Not as Advertised  Product arrived labeled as Jumbo Salted Peanut...  \n",
       "2  \"Delight\" says it all  This is a confection that has been around a fe...  "
      ]
     },
     "execution_count": 3,
     "metadata": {},
     "output_type": "execute_result"
    }
   ],
   "source": [
    "#Using Sqlite to read the data\n",
    "con =sqlite3.connect('/kaggle/input/amazon-fine-food-reviews/database.sqlite')\n",
    "#Filtering only Positive and Negative Reviews i.e\n",
    "#not taking into consderation those reviews with Score=3\n",
    "filtered_data=pd.read_sql_query(\"\"\" SELECT * FROM  Reviews WHERE Score!=3 \"\"\",con)\n",
    "\n",
    "#Given a reviews with score>3 a Postive reating \"1\" & review with score <3 negative rating \"0\"\n",
    "def partition(x):\n",
    "    if x<3 :\n",
    "        return 0\n",
    "    return 1\n",
    "\n",
    "# Changing reviews with Score <3 to be negative and score >3 to be positive \n",
    "actualScore = filtered_data['Score']\n",
    "Postive_Negative = actualScore.map(partition)\n",
    "filtered_data[\"Score\"]=Postive_Negative\n",
    "print(\"No. of data points in Dataset:\",filtered_data.shape)\n",
    "filtered_data.head(3)"
   ]
  },
  {
   "cell_type": "markdown",
   "metadata": {
    "papermill": {
     "duration": 0.036488,
     "end_time": "2021-02-09T17:12:36.105127",
     "exception": false,
     "start_time": "2021-02-09T17:12:36.068639",
     "status": "completed"
    },
    "tags": []
   },
   "source": [
    "# Exploratory Data Analysis\n",
    "## Data cleaning : Deduplication {The most important part of cleaning data }\n",
    "It was observaed that (as shown in table below) that the reviews data had many deduplicates entries. Hence it was necessary to remove the deduplication in order to get unbaised results for the Analysis of the data. Following is the example given below "
   ]
  },
  {
   "cell_type": "code",
   "execution_count": 4,
   "metadata": {
    "execution": {
     "iopub.execute_input": "2021-02-09T17:12:36.183115Z",
     "iopub.status.busy": "2021-02-09T17:12:36.182431Z",
     "iopub.status.idle": "2021-02-09T17:12:42.100427Z",
     "shell.execute_reply": "2021-02-09T17:12:42.099425Z"
    },
    "papermill": {
     "duration": 5.958914,
     "end_time": "2021-02-09T17:12:42.100611",
     "exception": false,
     "start_time": "2021-02-09T17:12:36.141697",
     "status": "completed"
    },
    "tags": []
   },
   "outputs": [
    {
     "data": {
      "text/html": [
       "<div>\n",
       "<style scoped>\n",
       "    .dataframe tbody tr th:only-of-type {\n",
       "        vertical-align: middle;\n",
       "    }\n",
       "\n",
       "    .dataframe tbody tr th {\n",
       "        vertical-align: top;\n",
       "    }\n",
       "\n",
       "    .dataframe thead th {\n",
       "        text-align: right;\n",
       "    }\n",
       "</style>\n",
       "<table border=\"1\" class=\"dataframe\">\n",
       "  <thead>\n",
       "    <tr style=\"text-align: right;\">\n",
       "      <th></th>\n",
       "      <th>Id</th>\n",
       "      <th>ProductId</th>\n",
       "      <th>UserId</th>\n",
       "      <th>ProfileName</th>\n",
       "      <th>HelpfulnessNumerator</th>\n",
       "      <th>HelpfulnessDenominator</th>\n",
       "      <th>Score</th>\n",
       "      <th>Time</th>\n",
       "      <th>Summary</th>\n",
       "      <th>Text</th>\n",
       "    </tr>\n",
       "  </thead>\n",
       "  <tbody>\n",
       "    <tr>\n",
       "      <th>0</th>\n",
       "      <td>78445</td>\n",
       "      <td>B000HDL1RQ</td>\n",
       "      <td>AR5J8UI46CURR</td>\n",
       "      <td>Geetha Krishnan</td>\n",
       "      <td>2</td>\n",
       "      <td>2</td>\n",
       "      <td>5</td>\n",
       "      <td>1199577600</td>\n",
       "      <td>LOACKER QUADRATINI VANILLA WAFERS</td>\n",
       "      <td>DELICIOUS WAFERS. I FIND THAT EUROPEAN WAFERS ...</td>\n",
       "    </tr>\n",
       "    <tr>\n",
       "      <th>1</th>\n",
       "      <td>138317</td>\n",
       "      <td>B000HDOPYC</td>\n",
       "      <td>AR5J8UI46CURR</td>\n",
       "      <td>Geetha Krishnan</td>\n",
       "      <td>2</td>\n",
       "      <td>2</td>\n",
       "      <td>5</td>\n",
       "      <td>1199577600</td>\n",
       "      <td>LOACKER QUADRATINI VANILLA WAFERS</td>\n",
       "      <td>DELICIOUS WAFERS. I FIND THAT EUROPEAN WAFERS ...</td>\n",
       "    </tr>\n",
       "    <tr>\n",
       "      <th>2</th>\n",
       "      <td>138277</td>\n",
       "      <td>B000HDOPYM</td>\n",
       "      <td>AR5J8UI46CURR</td>\n",
       "      <td>Geetha Krishnan</td>\n",
       "      <td>2</td>\n",
       "      <td>2</td>\n",
       "      <td>5</td>\n",
       "      <td>1199577600</td>\n",
       "      <td>LOACKER QUADRATINI VANILLA WAFERS</td>\n",
       "      <td>DELICIOUS WAFERS. I FIND THAT EUROPEAN WAFERS ...</td>\n",
       "    </tr>\n",
       "    <tr>\n",
       "      <th>3</th>\n",
       "      <td>73791</td>\n",
       "      <td>B000HDOPZG</td>\n",
       "      <td>AR5J8UI46CURR</td>\n",
       "      <td>Geetha Krishnan</td>\n",
       "      <td>2</td>\n",
       "      <td>2</td>\n",
       "      <td>5</td>\n",
       "      <td>1199577600</td>\n",
       "      <td>LOACKER QUADRATINI VANILLA WAFERS</td>\n",
       "      <td>DELICIOUS WAFERS. I FIND THAT EUROPEAN WAFERS ...</td>\n",
       "    </tr>\n",
       "    <tr>\n",
       "      <th>4</th>\n",
       "      <td>155049</td>\n",
       "      <td>B000PAQ75C</td>\n",
       "      <td>AR5J8UI46CURR</td>\n",
       "      <td>Geetha Krishnan</td>\n",
       "      <td>2</td>\n",
       "      <td>2</td>\n",
       "      <td>5</td>\n",
       "      <td>1199577600</td>\n",
       "      <td>LOACKER QUADRATINI VANILLA WAFERS</td>\n",
       "      <td>DELICIOUS WAFERS. I FIND THAT EUROPEAN WAFERS ...</td>\n",
       "    </tr>\n",
       "  </tbody>\n",
       "</table>\n",
       "</div>"
      ],
      "text/plain": [
       "       Id   ProductId         UserId      ProfileName  HelpfulnessNumerator  \\\n",
       "0   78445  B000HDL1RQ  AR5J8UI46CURR  Geetha Krishnan                     2   \n",
       "1  138317  B000HDOPYC  AR5J8UI46CURR  Geetha Krishnan                     2   \n",
       "2  138277  B000HDOPYM  AR5J8UI46CURR  Geetha Krishnan                     2   \n",
       "3   73791  B000HDOPZG  AR5J8UI46CURR  Geetha Krishnan                     2   \n",
       "4  155049  B000PAQ75C  AR5J8UI46CURR  Geetha Krishnan                     2   \n",
       "\n",
       "   HelpfulnessDenominator  Score        Time  \\\n",
       "0                       2      5  1199577600   \n",
       "1                       2      5  1199577600   \n",
       "2                       2      5  1199577600   \n",
       "3                       2      5  1199577600   \n",
       "4                       2      5  1199577600   \n",
       "\n",
       "                             Summary  \\\n",
       "0  LOACKER QUADRATINI VANILLA WAFERS   \n",
       "1  LOACKER QUADRATINI VANILLA WAFERS   \n",
       "2  LOACKER QUADRATINI VANILLA WAFERS   \n",
       "3  LOACKER QUADRATINI VANILLA WAFERS   \n",
       "4  LOACKER QUADRATINI VANILLA WAFERS   \n",
       "\n",
       "                                                Text  \n",
       "0  DELICIOUS WAFERS. I FIND THAT EUROPEAN WAFERS ...  \n",
       "1  DELICIOUS WAFERS. I FIND THAT EUROPEAN WAFERS ...  \n",
       "2  DELICIOUS WAFERS. I FIND THAT EUROPEAN WAFERS ...  \n",
       "3  DELICIOUS WAFERS. I FIND THAT EUROPEAN WAFERS ...  \n",
       "4  DELICIOUS WAFERS. I FIND THAT EUROPEAN WAFERS ...  "
      ]
     },
     "execution_count": 4,
     "metadata": {},
     "output_type": "execute_result"
    }
   ],
   "source": [
    "display=pd.read_sql_query(\"\"\"SELECT * FROM Reviews WHERE Score!=3 AND UserId='AR5J8UI46CURR'\n",
    "ORDER BY ProductId \"\"\",con)\n",
    "display"
   ]
  },
  {
   "cell_type": "markdown",
   "metadata": {
    "papermill": {
     "duration": 0.037582,
     "end_time": "2021-02-09T17:12:42.175941",
     "exception": false,
     "start_time": "2021-02-09T17:12:42.138359",
     "status": "completed"
    },
    "tags": []
   },
   "source": [
    "***As it can be seen above the same user has multiple reviews of the same values for HelpfulnessNumerator, HelpfulnessDenominator, Score, Time, Summary and Text and on doing analysis it was found that ProductId=B000HDOPZG was Loacker Quadratini Vanilla Wafer Cookies, 8.82-Ounce Packages (Pack of 8)***\n",
    "\n",
    "**ProductId=B000HDL1RQ was Loacker Quadratini Lemon Wafer Cookies, 8.82-Ounce Packages (Pack of 8) and so on**\n",
    "\n",
    "**It was inferred after analysis that reviews with same parameters other than ProductId belonged to the same product just having different flavour or quantity. Hence in order to reduce redundancy it was decided to eliminate the rows having same parameters.**\n",
    "\n",
    "**The method used for the same was that we first sort the data according to ProductId and then just keep the first similar product review and delelte the others. for eg. in the above just the review for ProductId=B000HDL1RQ remains. This method ensures that there is only one representative for each product and deduplication without sorting would lead to possibility of different representatives still existing for the same product**"
   ]
  },
  {
   "cell_type": "code",
   "execution_count": 5,
   "metadata": {
    "execution": {
     "iopub.execute_input": "2021-02-09T17:12:42.311924Z",
     "iopub.status.busy": "2021-02-09T17:12:42.311242Z",
     "iopub.status.idle": "2021-02-09T17:12:43.541987Z",
     "shell.execute_reply": "2021-02-09T17:12:43.540901Z"
    },
    "papermill": {
     "duration": 1.328435,
     "end_time": "2021-02-09T17:12:43.542143",
     "exception": false,
     "start_time": "2021-02-09T17:12:42.213708",
     "status": "completed"
    },
    "tags": []
   },
   "outputs": [],
   "source": [
    "# Sorting data according to ProductId in ascending order\n",
    "sorted_data=filtered_data.sort_values('ProductId',axis=0,ascending=True,inplace=False,kind='quicksort',na_position='last')"
   ]
  },
  {
   "cell_type": "code",
   "execution_count": 6,
   "metadata": {
    "execution": {
     "iopub.execute_input": "2021-02-09T17:12:43.662366Z",
     "iopub.status.busy": "2021-02-09T17:12:43.661653Z",
     "iopub.status.idle": "2021-02-09T17:12:44.947101Z",
     "shell.execute_reply": "2021-02-09T17:12:44.946222Z"
    },
    "papermill": {
     "duration": 1.367032,
     "end_time": "2021-02-09T17:12:44.947355",
     "exception": false,
     "start_time": "2021-02-09T17:12:43.580323",
     "status": "completed"
    },
    "tags": []
   },
   "outputs": [
    {
     "data": {
      "text/plain": [
       "(364173, 10)"
      ]
     },
     "execution_count": 6,
     "metadata": {},
     "output_type": "execute_result"
    }
   ],
   "source": [
    "#Deduplication of entries \n",
    "final_data =sorted_data.drop_duplicates(subset={\"UserId\",\"ProfileName\",\"Time\",\"Text\"},keep='first',inplace=False)\n",
    "final_data.shape"
   ]
  },
  {
   "cell_type": "code",
   "execution_count": 7,
   "metadata": {
    "execution": {
     "iopub.execute_input": "2021-02-09T17:12:45.036304Z",
     "iopub.status.busy": "2021-02-09T17:12:45.035547Z",
     "iopub.status.idle": "2021-02-09T17:12:45.038669Z",
     "shell.execute_reply": "2021-02-09T17:12:45.039180Z"
    },
    "papermill": {
     "duration": 0.048151,
     "end_time": "2021-02-09T17:12:45.039391",
     "exception": false,
     "start_time": "2021-02-09T17:12:44.991240",
     "status": "completed"
    },
    "tags": []
   },
   "outputs": [
    {
     "name": "stdout",
     "output_type": "stream",
     "text": [
      "The total data remain after cleaning data  69.25890143662969\n"
     ]
    }
   ],
   "source": [
    "#Checking to see how much % of data still remains\n",
    "print('The total data remain after cleaning data ',(final_data['Id'].size*1.0)/(filtered_data['Id'].size*1.0)*100)"
   ]
  },
  {
   "cell_type": "markdown",
   "metadata": {
    "papermill": {
     "duration": 0.039971,
     "end_time": "2021-02-09T17:12:45.117648",
     "exception": false,
     "start_time": "2021-02-09T17:12:45.077677",
     "status": "completed"
    },
    "tags": []
   },
   "source": [
    "**Observation:** It was seen that 2 rows given below, the value of HelpfulnessNumerator is Greater than HelpfulnessDenominator which is not pratically hence such rows are too removed from dataset"
   ]
  },
  {
   "cell_type": "code",
   "execution_count": 8,
   "metadata": {
    "execution": {
     "iopub.execute_input": "2021-02-09T17:12:45.200804Z",
     "iopub.status.busy": "2021-02-09T17:12:45.199805Z",
     "iopub.status.idle": "2021-02-09T17:12:45.263191Z",
     "shell.execute_reply": "2021-02-09T17:12:45.262650Z"
    },
    "papermill": {
     "duration": 0.107239,
     "end_time": "2021-02-09T17:12:45.263347",
     "exception": false,
     "start_time": "2021-02-09T17:12:45.156108",
     "status": "completed"
    },
    "tags": []
   },
   "outputs": [
    {
     "data": {
      "text/html": [
       "<div>\n",
       "<style scoped>\n",
       "    .dataframe tbody tr th:only-of-type {\n",
       "        vertical-align: middle;\n",
       "    }\n",
       "\n",
       "    .dataframe tbody tr th {\n",
       "        vertical-align: top;\n",
       "    }\n",
       "\n",
       "    .dataframe thead th {\n",
       "        text-align: right;\n",
       "    }\n",
       "</style>\n",
       "<table border=\"1\" class=\"dataframe\">\n",
       "  <thead>\n",
       "    <tr style=\"text-align: right;\">\n",
       "      <th></th>\n",
       "      <th>Id</th>\n",
       "      <th>ProductId</th>\n",
       "      <th>UserId</th>\n",
       "      <th>ProfileName</th>\n",
       "      <th>HelpfulnessNumerator</th>\n",
       "      <th>HelpfulnessDenominator</th>\n",
       "      <th>Score</th>\n",
       "      <th>Time</th>\n",
       "      <th>Summary</th>\n",
       "      <th>Text</th>\n",
       "    </tr>\n",
       "  </thead>\n",
       "  <tbody>\n",
       "    <tr>\n",
       "      <th>0</th>\n",
       "      <td>64422</td>\n",
       "      <td>B000MIDROQ</td>\n",
       "      <td>A161DK06JJMCYF</td>\n",
       "      <td>J. E. Stephens \"Jeanne\"</td>\n",
       "      <td>3</td>\n",
       "      <td>1</td>\n",
       "      <td>5</td>\n",
       "      <td>1224892800</td>\n",
       "      <td>Bought This for My Son at College</td>\n",
       "      <td>My son loves spaghetti so I didn't hesitate or...</td>\n",
       "    </tr>\n",
       "    <tr>\n",
       "      <th>1</th>\n",
       "      <td>44737</td>\n",
       "      <td>B001EQ55RW</td>\n",
       "      <td>A2V0I904FH7ABY</td>\n",
       "      <td>Ram</td>\n",
       "      <td>3</td>\n",
       "      <td>2</td>\n",
       "      <td>4</td>\n",
       "      <td>1212883200</td>\n",
       "      <td>Pure cocoa taste with crunchy almonds inside</td>\n",
       "      <td>It was almost a 'love at first bite' - the per...</td>\n",
       "    </tr>\n",
       "  </tbody>\n",
       "</table>\n",
       "</div>"
      ],
      "text/plain": [
       "      Id   ProductId          UserId              ProfileName  \\\n",
       "0  64422  B000MIDROQ  A161DK06JJMCYF  J. E. Stephens \"Jeanne\"   \n",
       "1  44737  B001EQ55RW  A2V0I904FH7ABY                      Ram   \n",
       "\n",
       "   HelpfulnessNumerator  HelpfulnessDenominator  Score        Time  \\\n",
       "0                     3                       1      5  1224892800   \n",
       "1                     3                       2      4  1212883200   \n",
       "\n",
       "                                        Summary  \\\n",
       "0             Bought This for My Son at College   \n",
       "1  Pure cocoa taste with crunchy almonds inside   \n",
       "\n",
       "                                                Text  \n",
       "0  My son loves spaghetti so I didn't hesitate or...  \n",
       "1  It was almost a 'love at first bite' - the per...  "
      ]
     },
     "execution_count": 8,
     "metadata": {},
     "output_type": "execute_result"
    }
   ],
   "source": [
    "display=pd.read_sql_query(\"\"\"SELECT * FROM Reviews WHERE Score!=3 AND Id=44737 OR Id=64422\n",
    "ORDER BY ProductID\"\"\",con)\n",
    "display.head()"
   ]
  },
  {
   "cell_type": "code",
   "execution_count": 9,
   "metadata": {
    "execution": {
     "iopub.execute_input": "2021-02-09T17:12:45.346640Z",
     "iopub.status.busy": "2021-02-09T17:12:45.345955Z",
     "iopub.status.idle": "2021-02-09T17:12:45.485739Z",
     "shell.execute_reply": "2021-02-09T17:12:45.486268Z"
    },
    "papermill": {
     "duration": 0.183919,
     "end_time": "2021-02-09T17:12:45.486447",
     "exception": false,
     "start_time": "2021-02-09T17:12:45.302528",
     "status": "completed"
    },
    "tags": []
   },
   "outputs": [
    {
     "data": {
      "text/html": [
       "<div>\n",
       "<style scoped>\n",
       "    .dataframe tbody tr th:only-of-type {\n",
       "        vertical-align: middle;\n",
       "    }\n",
       "\n",
       "    .dataframe tbody tr th {\n",
       "        vertical-align: top;\n",
       "    }\n",
       "\n",
       "    .dataframe thead th {\n",
       "        text-align: right;\n",
       "    }\n",
       "</style>\n",
       "<table border=\"1\" class=\"dataframe\">\n",
       "  <thead>\n",
       "    <tr style=\"text-align: right;\">\n",
       "      <th></th>\n",
       "      <th>Id</th>\n",
       "      <th>ProductId</th>\n",
       "      <th>UserId</th>\n",
       "      <th>ProfileName</th>\n",
       "      <th>HelpfulnessNumerator</th>\n",
       "      <th>HelpfulnessDenominator</th>\n",
       "      <th>Score</th>\n",
       "      <th>Time</th>\n",
       "      <th>Summary</th>\n",
       "      <th>Text</th>\n",
       "    </tr>\n",
       "  </thead>\n",
       "  <tbody>\n",
       "    <tr>\n",
       "      <th>138706</th>\n",
       "      <td>150524</td>\n",
       "      <td>0006641040</td>\n",
       "      <td>ACITT7DI6IDDL</td>\n",
       "      <td>shari zychinski</td>\n",
       "      <td>0</td>\n",
       "      <td>0</td>\n",
       "      <td>1</td>\n",
       "      <td>939340800</td>\n",
       "      <td>EVERY book is educational</td>\n",
       "      <td>this witty little book makes my son laugh at l...</td>\n",
       "    </tr>\n",
       "    <tr>\n",
       "      <th>138688</th>\n",
       "      <td>150506</td>\n",
       "      <td>0006641040</td>\n",
       "      <td>A2IW4PEEKO2R0U</td>\n",
       "      <td>Tracy</td>\n",
       "      <td>1</td>\n",
       "      <td>1</td>\n",
       "      <td>1</td>\n",
       "      <td>1194739200</td>\n",
       "      <td>Love the book, miss the hard cover version</td>\n",
       "      <td>I grew up reading these Sendak books, and watc...</td>\n",
       "    </tr>\n",
       "    <tr>\n",
       "      <th>138689</th>\n",
       "      <td>150507</td>\n",
       "      <td>0006641040</td>\n",
       "      <td>A1S4A3IQ2MU7V4</td>\n",
       "      <td>sally sue \"sally sue\"</td>\n",
       "      <td>1</td>\n",
       "      <td>1</td>\n",
       "      <td>1</td>\n",
       "      <td>1191456000</td>\n",
       "      <td>chicken soup with rice months</td>\n",
       "      <td>This is a fun way for children to learn their ...</td>\n",
       "    </tr>\n",
       "    <tr>\n",
       "      <th>138690</th>\n",
       "      <td>150508</td>\n",
       "      <td>0006641040</td>\n",
       "      <td>AZGXZ2UUK6X</td>\n",
       "      <td>Catherine Hallberg \"(Kate)\"</td>\n",
       "      <td>1</td>\n",
       "      <td>1</td>\n",
       "      <td>1</td>\n",
       "      <td>1076025600</td>\n",
       "      <td>a good swingy rhythm for reading aloud</td>\n",
       "      <td>This is a great little book to read aloud- it ...</td>\n",
       "    </tr>\n",
       "    <tr>\n",
       "      <th>138691</th>\n",
       "      <td>150509</td>\n",
       "      <td>0006641040</td>\n",
       "      <td>A3CMRKGE0P909G</td>\n",
       "      <td>Teresa</td>\n",
       "      <td>3</td>\n",
       "      <td>4</td>\n",
       "      <td>1</td>\n",
       "      <td>1018396800</td>\n",
       "      <td>A great way to learn the months</td>\n",
       "      <td>This is a book of poetry about the months of t...</td>\n",
       "    </tr>\n",
       "  </tbody>\n",
       "</table>\n",
       "</div>"
      ],
      "text/plain": [
       "            Id   ProductId          UserId                  ProfileName  \\\n",
       "138706  150524  0006641040   ACITT7DI6IDDL              shari zychinski   \n",
       "138688  150506  0006641040  A2IW4PEEKO2R0U                        Tracy   \n",
       "138689  150507  0006641040  A1S4A3IQ2MU7V4        sally sue \"sally sue\"   \n",
       "138690  150508  0006641040     AZGXZ2UUK6X  Catherine Hallberg \"(Kate)\"   \n",
       "138691  150509  0006641040  A3CMRKGE0P909G                       Teresa   \n",
       "\n",
       "        HelpfulnessNumerator  HelpfulnessDenominator  Score        Time  \\\n",
       "138706                     0                       0      1   939340800   \n",
       "138688                     1                       1      1  1194739200   \n",
       "138689                     1                       1      1  1191456000   \n",
       "138690                     1                       1      1  1076025600   \n",
       "138691                     3                       4      1  1018396800   \n",
       "\n",
       "                                           Summary  \\\n",
       "138706                   EVERY book is educational   \n",
       "138688  Love the book, miss the hard cover version   \n",
       "138689               chicken soup with rice months   \n",
       "138690      a good swingy rhythm for reading aloud   \n",
       "138691             A great way to learn the months   \n",
       "\n",
       "                                                     Text  \n",
       "138706  this witty little book makes my son laugh at l...  \n",
       "138688  I grew up reading these Sendak books, and watc...  \n",
       "138689  This is a fun way for children to learn their ...  \n",
       "138690  This is a great little book to read aloud- it ...  \n",
       "138691  This is a book of poetry about the months of t...  "
      ]
     },
     "execution_count": 9,
     "metadata": {},
     "output_type": "execute_result"
    }
   ],
   "source": [
    "final_data=final_data[final_data['HelpfulnessNumerator']<=final_data['HelpfulnessDenominator']]\n",
    "final_data.head()"
   ]
  },
  {
   "cell_type": "code",
   "execution_count": 10,
   "metadata": {
    "execution": {
     "iopub.execute_input": "2021-02-09T17:12:45.569827Z",
     "iopub.status.busy": "2021-02-09T17:12:45.569145Z",
     "iopub.status.idle": "2021-02-09T17:12:45.582088Z",
     "shell.execute_reply": "2021-02-09T17:12:45.582579Z"
    },
    "papermill": {
     "duration": 0.056714,
     "end_time": "2021-02-09T17:12:45.582800",
     "exception": false,
     "start_time": "2021-02-09T17:12:45.526086",
     "status": "completed"
    },
    "tags": []
   },
   "outputs": [
    {
     "name": "stdout",
     "output_type": "stream",
     "text": [
      "(364171, 10)\n"
     ]
    },
    {
     "data": {
      "text/plain": [
       "1    307061\n",
       "0     57110\n",
       "Name: Score, dtype: int64"
      ]
     },
     "execution_count": 10,
     "metadata": {},
     "output_type": "execute_result"
    }
   ],
   "source": [
    "# before starting the next phase of text preprocessing lets see the no. of entries left\n",
    "print(final_data.shape)\n",
    "#How many positive and negative reviews are present in our dataset?\n",
    "final_data['Score'].value_counts()"
   ]
  },
  {
   "cell_type": "markdown",
   "metadata": {
    "papermill": {
     "duration": 0.042187,
     "end_time": "2021-02-09T17:12:45.667165",
     "exception": false,
     "start_time": "2021-02-09T17:12:45.624978",
     "status": "completed"
    },
    "tags": []
   },
   "source": [
    "# Text Preprocessing\n",
    "**Now we have finished deduplication. Now our data requires some preprocessing before we go on futher anlysis and make the prediction model Hence in the preprocessing phase we do the following steps given below**\n",
    "\n",
    "1. Begin by removing html tags\n",
    "1. Removing any punctution or limited set of special character:like ,or . or # etc\n",
    "1. Check the words is made up of english letters and is not alpha-numeric\n",
    "1. Check to see if the length of the words is greater than 2 (as it was research that there is no adjective in 2 letter)\n",
    "1. Convert the words to lowercase\n",
    "1. Remove stopwords\n",
    "1. Snowball stemming the word(it is observed that Snoball stemming is better that Porter stemming)\n",
    "\n",
    "#### **After this we will collect the words and will use to describe positive and negative reviews.**"
   ]
  },
  {
   "cell_type": "code",
   "execution_count": 11,
   "metadata": {
    "execution": {
     "iopub.execute_input": "2021-02-09T17:12:45.757297Z",
     "iopub.status.busy": "2021-02-09T17:12:45.756291Z",
     "iopub.status.idle": "2021-02-09T17:12:45.760427Z",
     "shell.execute_reply": "2021-02-09T17:12:45.761222Z"
    },
    "papermill": {
     "duration": 0.053025,
     "end_time": "2021-02-09T17:12:45.761421",
     "exception": false,
     "start_time": "2021-02-09T17:12:45.708396",
     "status": "completed"
    },
    "tags": []
   },
   "outputs": [
    {
     "name": "stdout",
     "output_type": "stream",
     "text": [
      "I set aside at least an hour each day to read to my son (3 y/o). At this point, I consider myself a connoisseur of children's books and this is one of the best. Santa Clause put this under the tree. Since then, we've read it perpetually and he loves it.<br /><br />First, this book taught him the months of the year.<br /><br />Second, it's a pleasure to read. Well suited to 1.5 y/o old to 4+.<br /><br />Very few children's books are worth owning. Most should be borrowed from the library. This book, however, deserves a permanent spot on your shelf. Sendak's best.\n",
      "==================================================\n",
      "I was really looking forward to these pods based on the reviews.  Starbucks is good, but I prefer bolder taste.... imagine my surprise when I ordered 2 boxes - both were expired! One expired back in 2005 for gosh sakes.  I admit that Amazon agreed to credit me for cost plus part of shipping, but geez, 2 years expired!!!  I'm hoping to find local San Diego area shoppe that carries pods so that I can try something different than starbucks.\n",
      "==================================================\n",
      "Great ingredients although, chicken should have been 1st rather than chicken broth, the only thing I do not think belongs in it is Canola oil. Canola or rapeseed is not someting a dog would ever find in nature and if it did find rapeseed in nature and eat it, it would poison them. Today's Food industries have convinced the masses that Canola oil is a safe and even better oil than olive or virgin coconut, facts though say otherwise. Until the late 70's it was poisonous until they figured out a way to fix that. I still like it but it could be better.\n",
      "==================================================\n",
      "Can't do sugar.  Have tried scores of SF Syrups.  NONE of them can touch the excellence of this product.<br /><br />Thick, delicious.  Perfect.  3 ingredients: Water, Maltitol, Natural Maple Flavor.  PERIOD.  No chemicals.  No garbage.<br /><br />Have numerous friends & family members hooked on this stuff.  My husband & son, who do NOT like \"sugar free\" prefer this over major label regular syrup.<br /><br />I use this as my SWEETENER in baking: cheesecakes, white brownies, muffins, pumpkin pies, etc... Unbelievably delicious...<br /><br />Can you tell I like it? :)\n",
      "==================================================\n"
     ]
    }
   ],
   "source": [
    "# printing some random reviews\n",
    "sent_0 = final_data['Text'].values[6]\n",
    "print(sent_0)\n",
    "print(\"=\"*50)\n",
    "\n",
    "sent_1000 = final_data['Text'].values[1000]\n",
    "print(sent_1000)\n",
    "print(\"=\"*50)\n",
    "\n",
    "sent_1500 = final_data['Text'].values[1500]\n",
    "print(sent_1500)\n",
    "print(\"=\"*50)\n",
    "\n",
    "sent_4900 = final_data['Text'].values[4900]\n",
    "print(sent_4900)\n",
    "print(\"=\"*50)"
   ]
  },
  {
   "cell_type": "code",
   "execution_count": 12,
   "metadata": {
    "execution": {
     "iopub.execute_input": "2021-02-09T17:12:45.850494Z",
     "iopub.status.busy": "2021-02-09T17:12:45.849846Z",
     "iopub.status.idle": "2021-02-09T17:12:45.853460Z",
     "shell.execute_reply": "2021-02-09T17:12:45.852859Z"
    },
    "papermill": {
     "duration": 0.050898,
     "end_time": "2021-02-09T17:12:45.853614",
     "exception": false,
     "start_time": "2021-02-09T17:12:45.802716",
     "status": "completed"
    },
    "tags": []
   },
   "outputs": [
    {
     "name": "stdout",
     "output_type": "stream",
     "text": [
      "I set aside at least an hour each day to read to my son (3 y/o). At this point, I consider myself a connoisseur of children's books and this is one of the best. Santa Clause put this under the tree. Since then, we've read it perpetually and he loves it.<br /><br />First, this book taught him the months of the year.<br /><br />Second, it's a pleasure to read. Well suited to 1.5 y/o old to 4+.<br /><br />Very few children's books are worth owning. Most should be borrowed from the library. This book, however, deserves a permanent spot on your shelf. Sendak's best.\n"
     ]
    }
   ],
   "source": [
    "import re    #Tutorial about Python regular expressions: https://pymotw.com/2/re/\n",
    "# remove urls from text python : *https://stackoverflow.com/a/40823105/4084039*\n",
    "sent_0=re.sub(r'https\\S+','',sent_0)\n",
    "sent_1000=re.sub(r'https\\S+','',sent_1000)\n",
    "sent_1500=re.sub(r'https\\S+','',sent_1500)\n",
    "sent_4900=re.sub(r'http\\S+', '', sent_4900)\n",
    "print(sent_0)\n"
   ]
  },
  {
   "cell_type": "code",
   "execution_count": 13,
   "metadata": {
    "execution": {
     "iopub.execute_input": "2021-02-09T17:12:45.944968Z",
     "iopub.status.busy": "2021-02-09T17:12:45.944044Z",
     "iopub.status.idle": "2021-02-09T17:12:45.947559Z",
     "shell.execute_reply": "2021-02-09T17:12:45.948046Z"
    },
    "papermill": {
     "duration": 0.053054,
     "end_time": "2021-02-09T17:12:45.948216",
     "exception": false,
     "start_time": "2021-02-09T17:12:45.895162",
     "status": "completed"
    },
    "tags": []
   },
   "outputs": [
    {
     "name": "stdout",
     "output_type": "stream",
     "text": [
      "6\n",
      "I set aside at least an hour each day to read to my son (3 y/o). At this point, I consider myself a connoisseur of children's books and this is one of the best. Santa Clause put this under the tree. Since then, we've read it perpetually and he loves it.<br /><br />First, this book taught him the months of the year.<br /><br />Second, it's a pleasure to read. Well suited to 1.5 y/o old to 4+.<br /><br />Very few children's books are worth owning. Most should be borrowed from the library. This book, however, deserves a permanent spot on your shelf. Sendak's best.\n"
     ]
    }
   ],
   "source": [
    "#SENTENCES Containing HTML tags\n",
    "import re\n",
    "i=0;\n",
    "for sentence in final_data['Text'].values:\n",
    "    if (len(re.findall('<.*?>',sentence))):\n",
    "        print(i)\n",
    "        print(sentence)\n",
    "        break;\n",
    "    i=i+1"
   ]
  },
  {
   "cell_type": "code",
   "execution_count": 14,
   "metadata": {
    "execution": {
     "iopub.execute_input": "2021-02-09T17:12:46.052982Z",
     "iopub.status.busy": "2021-02-09T17:12:46.052289Z",
     "iopub.status.idle": "2021-02-09T17:12:46.057346Z",
     "shell.execute_reply": "2021-02-09T17:12:46.056821Z"
    },
    "papermill": {
     "duration": 0.064934,
     "end_time": "2021-02-09T17:12:46.057499",
     "exception": false,
     "start_time": "2021-02-09T17:12:45.992565",
     "status": "completed"
    },
    "tags": []
   },
   "outputs": [
    {
     "name": "stdout",
     "output_type": "stream",
     "text": [
      "stop words are : {'same', 'as', 'how', 'or', 'once', 'won', 'other', 'this', 'some', 'been', 'is', 'will', 'mightn', 'a', 'our', 'does', 'd', 'through', 'yours', 'while', 'ours', 'himself', \"it's\", 'o', 'of', 'these', 'his', 'having', 'are', 'her', \"shan't\", 'they', 'in', 'don', 'its', 'had', 'own', \"aren't\", 'then', 'there', 'wouldn', \"mightn't\", 'before', 'shan', 'weren', 'those', 'couldn', 'to', 'isn', \"you've\", 'myself', 'again', 'was', 'she', 'that', 'when', 'should', 'were', 'hadn', \"couldn't\", 'me', 'at', 'on', 'ma', 'if', 'and', 'for', 'did', 'shouldn', 's', 'further', 'each', 'i', 'yourselves', 'here', 'than', 'he', \"haven't\", \"hadn't\", 'down', 'why', 'few', 'most', 'yourself', \"needn't\", \"you're\", \"that'll\", 'm', 'ourselves', 'so', 'him', 'needn', 'what', 'out', 'doesn', 'too', 'haven', 'off', \"won't\", 'their', 'over', 'up', 'theirs', 'during', \"you'll\", 'until', 'with', 'aren', 'where', 'hers', 'after', \"hasn't\", 're', 've', 'has', 'hasn', 'between', \"don't\", 'both', 'being', 'ain', 'mustn', 'y', 'didn', 'do', 'have', 'into', 'which', 'such', 'an', 'any', 'your', 'll', 'very', 'who', 'under', 'them', 'it', 'we', 'by', 't', 'themselves', 'more', 'above', 'because', 'all', \"shouldn't\", 'you', \"didn't\", \"she's\", 'wasn', 'but', 'below', 'my', 'doing', 'am', 'only', 'be', 'br', 'just', 'can', 'the', 'herself', 'whom', 'now', \"mustn't\", 'about', 'against', \"should've\", 'from', \"isn't\", \"you'd\", 'itself'}\n",
      "*********************\n",
      "*********************\n",
      "base word for tasty is : tasti\n"
     ]
    }
   ],
   "source": [
    "#stop=set(stopwords.words('english')) #set of stopwords\n",
    "# we are removing the words from the stop words list: 'no', 'nor', 'not' for semantic meanig in bigrams and trigram\n",
    "stopwords= set(['br', 'the', 'i', 'me', 'my', 'myself', 'we', 'our', 'ours', 'ourselves', 'you', \"you're\", \"you've\",\\\n",
    "            \"you'll\", \"you'd\", 'your', 'yours', 'yourself', 'yourselves', 'he', 'him', 'his', 'himself', \\\n",
    "            'she', \"she's\", 'her', 'hers', 'herself', 'it', \"it's\", 'its', 'itself', 'they', 'them', 'their',\\\n",
    "            'theirs', 'themselves', 'what', 'which', 'who', 'whom', 'this', 'that', \"that'll\", 'these', 'those', \\\n",
    "            'am', 'is', 'are', 'was', 'were', 'be', 'been', 'being', 'have', 'has', 'had', 'having', 'do', 'does', \\\n",
    "            'did', 'doing', 'a', 'an', 'the', 'and', 'but', 'if', 'or', 'because', 'as', 'until', 'while', 'of', \\\n",
    "            'at', 'by', 'for', 'with', 'about', 'against', 'between', 'into', 'through', 'during', 'before', 'after',\\\n",
    "            'above', 'below', 'to', 'from', 'up', 'down', 'in', 'out', 'on', 'off', 'over', 'under', 'again', 'further',\\\n",
    "            'then', 'once', 'here', 'there', 'when', 'where', 'why', 'how', 'all', 'any', 'both', 'each', 'few', 'more',\\\n",
    "            'most', 'other', 'some', 'such', 'only', 'own', 'same', 'so', 'than', 'too', 'very', \\\n",
    "            's', 't', 'can', 'will', 'just', 'don', \"don't\", 'should', \"should've\", 'now', 'd', 'll', 'm', 'o', 're', \\\n",
    "            've', 'y', 'ain', 'aren', \"aren't\", 'couldn', \"couldn't\", 'didn', \"didn't\", 'doesn',  'hadn',\\\n",
    "            \"hadn't\", 'hasn', \"hasn't\", 'haven', \"haven't\", 'isn', \"isn't\", 'ma', 'mightn', \"mightn't\", 'mustn',\\\n",
    "            \"mustn't\", 'needn', \"needn't\", 'shan', \"shan't\", 'shouldn', \"shouldn't\", 'wasn',  'weren', \\\n",
    "            'won', \"won't\", 'wouldn'])\n",
    "stemming = nltk.stem.SnowballStemmer('english') #intialsing the snowball stemmer\n",
    "def cleahtml(sentence): # funtion to remove html tags from words\n",
    "    clean = re.compile('<.*?>')\n",
    "    cleantext=re.sub(clean,' ',sentence)\n",
    "    return cleantext\n",
    "def cleanpunc(sentence): #function to clean the word of any punctuation or special characters\n",
    "    clean=re.sub(r'[?|!|\\'|\"|#]',r'',sentence)\n",
    "    clean_punc=re.sub(r'[.|,|)|(|\\|/]',r' ',clean)\n",
    "    return clean_punc\n",
    "\n",
    "print('stop words are :',stopwords)\n",
    "print(\"*********************\")\n",
    "print(\"*********************\")\n",
    "print('base word for tasty is :',stemming.stem('tasty'))"
   ]
  },
  {
   "cell_type": "code",
   "execution_count": 15,
   "metadata": {
    "execution": {
     "iopub.execute_input": "2021-02-09T17:12:46.158061Z",
     "iopub.status.busy": "2021-02-09T17:12:46.153122Z",
     "iopub.status.idle": "2021-02-09T17:22:09.656438Z",
     "shell.execute_reply": "2021-02-09T17:22:09.656951Z"
    },
    "papermill": {
     "duration": 563.556178,
     "end_time": "2021-02-09T17:22:09.657166",
     "exception": false,
     "start_time": "2021-02-09T17:12:46.100988",
     "status": "completed"
    },
    "tags": []
   },
   "outputs": [
    {
     "name": "stderr",
     "output_type": "stream",
     "text": [
      "100%|██████████| 364171/364171 [09:23<00:00, 646.28it/s]\n"
     ]
    }
   ],
   "source": [
    "# this code takes a while to run as it needs to run on 500k sentences.\n",
    "#https://stackoverflow.com/questions/9662346/python-code-to-remove-html-tags-from-a-string\n",
    "if not os.path.isfile('finalsqlite'):\n",
    "    final_string=[]\n",
    "    all_positive_words=[] # store words from +ve review\n",
    "    all_negative_words=[] # store words from -ve review\n",
    "    for i , sentence in enumerate(tqdm(final_data['Text'].values)):\n",
    "        filter_sentences =[]\n",
    "        sent = cleahtml(sentence) #remove HTML tags\n",
    "        for words in sent.split():\n",
    "            # we have used cleanpunc(w).split(), one more split function here because consider w=\"abc.def\", cleanpunc(w) will return \"abc def\"\n",
    "            # if we dont use .split() function then we will be considring \"abc def\" as a single word, but if you use .split() function we will get \"abc\", \"def\"\n",
    "            for cleaned_words in cleanpunc(words).split():\n",
    "                if ((cleaned_words.isalpha()) & (len(cleaned_words)>2)):\n",
    "                    if(cleaned_words.lower() not in stopwords):\n",
    "                        s=(stemming.stem(cleaned_words.lower())).encode('utf8')\n",
    "                        filter_sentences.append(s)\n",
    "                        if (final_data['Score'].values)[i]==1:\n",
    "                            all_positive_words.append(s)  #list of all words used to describe positive reviews\n",
    "                        if (final_data['Score'].values)[i]==0:\n",
    "                            all_negative_words.append(s)  #list of all words used to describe negative reviews \n",
    "                    else:\n",
    "                        continue\n",
    "                else:\n",
    "                    continue\n",
    "        str1=b\" \".join(filter_sentences) #final string of cleaned words\n",
    "        #print(\"***********************************************************************\")\n",
    "        final_string.append(str1)\n",
    "        i+=1"
   ]
  },
  {
   "cell_type": "code",
   "execution_count": 16,
   "metadata": {
    "execution": {
     "iopub.execute_input": "2021-02-09T17:22:12.788317Z",
     "iopub.status.busy": "2021-02-09T17:22:12.787595Z",
     "iopub.status.idle": "2021-02-09T17:22:13.270845Z",
     "shell.execute_reply": "2021-02-09T17:22:13.270184Z"
    },
    "papermill": {
     "duration": 2.034755,
     "end_time": "2021-02-09T17:22:13.270982",
     "exception": false,
     "start_time": "2021-02-09T17:22:11.236227",
     "status": "completed"
    },
    "tags": []
   },
   "outputs": [
    {
     "data": {
      "text/html": [
       "<div>\n",
       "<style scoped>\n",
       "    .dataframe tbody tr th:only-of-type {\n",
       "        vertical-align: middle;\n",
       "    }\n",
       "\n",
       "    .dataframe tbody tr th {\n",
       "        vertical-align: top;\n",
       "    }\n",
       "\n",
       "    .dataframe thead th {\n",
       "        text-align: right;\n",
       "    }\n",
       "</style>\n",
       "<table border=\"1\" class=\"dataframe\">\n",
       "  <thead>\n",
       "    <tr style=\"text-align: right;\">\n",
       "      <th></th>\n",
       "      <th>Id</th>\n",
       "      <th>ProductId</th>\n",
       "      <th>UserId</th>\n",
       "      <th>ProfileName</th>\n",
       "      <th>HelpfulnessNumerator</th>\n",
       "      <th>HelpfulnessDenominator</th>\n",
       "      <th>Score</th>\n",
       "      <th>Time</th>\n",
       "      <th>Summary</th>\n",
       "      <th>Text</th>\n",
       "      <th>Cleaned_Text</th>\n",
       "    </tr>\n",
       "  </thead>\n",
       "  <tbody>\n",
       "    <tr>\n",
       "      <th>138706</th>\n",
       "      <td>150524</td>\n",
       "      <td>0006641040</td>\n",
       "      <td>ACITT7DI6IDDL</td>\n",
       "      <td>shari zychinski</td>\n",
       "      <td>0</td>\n",
       "      <td>0</td>\n",
       "      <td>1</td>\n",
       "      <td>939340800</td>\n",
       "      <td>EVERY book is educational</td>\n",
       "      <td>this witty little book makes my son laugh at l...</td>\n",
       "      <td>witti littl book make son laugh loud recit car...</td>\n",
       "    </tr>\n",
       "    <tr>\n",
       "      <th>138688</th>\n",
       "      <td>150506</td>\n",
       "      <td>0006641040</td>\n",
       "      <td>A2IW4PEEKO2R0U</td>\n",
       "      <td>Tracy</td>\n",
       "      <td>1</td>\n",
       "      <td>1</td>\n",
       "      <td>1</td>\n",
       "      <td>1194739200</td>\n",
       "      <td>Love the book, miss the hard cover version</td>\n",
       "      <td>I grew up reading these Sendak books, and watc...</td>\n",
       "      <td>grew read sendak book watch realli rosi movi i...</td>\n",
       "    </tr>\n",
       "    <tr>\n",
       "      <th>138689</th>\n",
       "      <td>150507</td>\n",
       "      <td>0006641040</td>\n",
       "      <td>A1S4A3IQ2MU7V4</td>\n",
       "      <td>sally sue \"sally sue\"</td>\n",
       "      <td>1</td>\n",
       "      <td>1</td>\n",
       "      <td>1</td>\n",
       "      <td>1191456000</td>\n",
       "      <td>chicken soup with rice months</td>\n",
       "      <td>This is a fun way for children to learn their ...</td>\n",
       "      <td>fun way children learn month year learn poem t...</td>\n",
       "    </tr>\n",
       "    <tr>\n",
       "      <th>138690</th>\n",
       "      <td>150508</td>\n",
       "      <td>0006641040</td>\n",
       "      <td>AZGXZ2UUK6X</td>\n",
       "      <td>Catherine Hallberg \"(Kate)\"</td>\n",
       "      <td>1</td>\n",
       "      <td>1</td>\n",
       "      <td>1</td>\n",
       "      <td>1076025600</td>\n",
       "      <td>a good swingy rhythm for reading aloud</td>\n",
       "      <td>This is a great little book to read aloud- it ...</td>\n",
       "      <td>great littl book read nice rhythm well good re...</td>\n",
       "    </tr>\n",
       "    <tr>\n",
       "      <th>138691</th>\n",
       "      <td>150509</td>\n",
       "      <td>0006641040</td>\n",
       "      <td>A3CMRKGE0P909G</td>\n",
       "      <td>Teresa</td>\n",
       "      <td>3</td>\n",
       "      <td>4</td>\n",
       "      <td>1</td>\n",
       "      <td>1018396800</td>\n",
       "      <td>A great way to learn the months</td>\n",
       "      <td>This is a book of poetry about the months of t...</td>\n",
       "      <td>book poetri month year goe month cute littl po...</td>\n",
       "    </tr>\n",
       "  </tbody>\n",
       "</table>\n",
       "</div>"
      ],
      "text/plain": [
       "            Id   ProductId          UserId                  ProfileName  \\\n",
       "138706  150524  0006641040   ACITT7DI6IDDL              shari zychinski   \n",
       "138688  150506  0006641040  A2IW4PEEKO2R0U                        Tracy   \n",
       "138689  150507  0006641040  A1S4A3IQ2MU7V4        sally sue \"sally sue\"   \n",
       "138690  150508  0006641040     AZGXZ2UUK6X  Catherine Hallberg \"(Kate)\"   \n",
       "138691  150509  0006641040  A3CMRKGE0P909G                       Teresa   \n",
       "\n",
       "        HelpfulnessNumerator  HelpfulnessDenominator  Score        Time  \\\n",
       "138706                     0                       0      1   939340800   \n",
       "138688                     1                       1      1  1194739200   \n",
       "138689                     1                       1      1  1191456000   \n",
       "138690                     1                       1      1  1076025600   \n",
       "138691                     3                       4      1  1018396800   \n",
       "\n",
       "                                           Summary  \\\n",
       "138706                   EVERY book is educational   \n",
       "138688  Love the book, miss the hard cover version   \n",
       "138689               chicken soup with rice months   \n",
       "138690      a good swingy rhythm for reading aloud   \n",
       "138691             A great way to learn the months   \n",
       "\n",
       "                                                     Text  \\\n",
       "138706  this witty little book makes my son laugh at l...   \n",
       "138688  I grew up reading these Sendak books, and watc...   \n",
       "138689  This is a fun way for children to learn their ...   \n",
       "138690  This is a great little book to read aloud- it ...   \n",
       "138691  This is a book of poetry about the months of t...   \n",
       "\n",
       "                                             Cleaned_Text  \n",
       "138706  witti littl book make son laugh loud recit car...  \n",
       "138688  grew read sendak book watch realli rosi movi i...  \n",
       "138689  fun way children learn month year learn poem t...  \n",
       "138690  great littl book read nice rhythm well good re...  \n",
       "138691  book poetri month year goe month cute littl po...  "
      ]
     },
     "execution_count": 16,
     "metadata": {},
     "output_type": "execute_result"
    }
   ],
   "source": [
    "##adding a column of CleanedText which displays the data after pre-processing of the review \n",
    "final_data['Cleaned_Text']=final_string\n",
    "final_data['Cleaned_Text']=final_data['Cleaned_Text'].str.decode('utf-8')\n",
    "final_data.head()"
   ]
  },
  {
   "cell_type": "code",
   "execution_count": 17,
   "metadata": {
    "execution": {
     "iopub.execute_input": "2021-02-09T17:22:16.498823Z",
     "iopub.status.busy": "2021-02-09T17:22:16.443054Z",
     "iopub.status.idle": "2021-02-09T17:22:22.622791Z",
     "shell.execute_reply": "2021-02-09T17:22:22.623337Z"
    },
    "papermill": {
     "duration": 7.743462,
     "end_time": "2021-02-09T17:22:22.623556",
     "exception": false,
     "start_time": "2021-02-09T17:22:14.880094",
     "status": "completed"
    },
    "tags": []
   },
   "outputs": [],
   "source": [
    "#Store the final table into an SQLITE table for future\n",
    "connection=sqlite3.connect('final12.sqlite')\n",
    "c=connection.cursor\n",
    "connection.text_factory=str\n",
    "final_data.to_sql('Reviews',connection,schema=None,if_exists='replace',index=True,index_label=True,chunksize=None,dtype=None)\n",
    "connection.close()"
   ]
  },
  {
   "cell_type": "code",
   "execution_count": 18,
   "metadata": {
    "execution": {
     "iopub.execute_input": "2021-02-09T17:22:25.756880Z",
     "iopub.status.busy": "2021-02-09T17:22:25.755891Z",
     "iopub.status.idle": "2021-02-09T17:22:25.759730Z",
     "shell.execute_reply": "2021-02-09T17:22:25.760329Z"
    },
    "papermill": {
     "duration": 1.564655,
     "end_time": "2021-02-09T17:22:25.760525",
     "exception": false,
     "start_time": "2021-02-09T17:22:24.195870",
     "status": "completed"
    },
    "tags": []
   },
   "outputs": [],
   "source": [
    "#connnn = sqlite3.connect(\"final12.sqlite\")\n",
    "\n",
    "#pd.read_sql_query(\"\"\" SELECT * FROM  Reviews WHERE Score!=3 \"\"\",connnn)\n"
   ]
  },
  {
   "cell_type": "markdown",
   "metadata": {
    "papermill": {
     "duration": 1.565696,
     "end_time": "2021-02-09T17:22:28.926323",
     "exception": false,
     "start_time": "2021-02-09T17:22:27.360627",
     "status": "completed"
    },
    "tags": []
   },
   "source": [
    "# Sorting dataset based on 'Time' feature"
   ]
  },
  {
   "cell_type": "code",
   "execution_count": 19,
   "metadata": {
    "execution": {
     "iopub.execute_input": "2021-02-09T17:22:32.219165Z",
     "iopub.status.busy": "2021-02-09T17:22:32.218210Z",
     "iopub.status.idle": "2021-02-09T17:22:32.247948Z",
     "shell.execute_reply": "2021-02-09T17:22:32.247344Z"
    },
    "papermill": {
     "duration": 1.683862,
     "end_time": "2021-02-09T17:22:32.248101",
     "exception": false,
     "start_time": "2021-02-09T17:22:30.564239",
     "status": "completed"
    },
    "tags": []
   },
   "outputs": [
    {
     "data": {
      "text/html": [
       "<div>\n",
       "<style scoped>\n",
       "    .dataframe tbody tr th:only-of-type {\n",
       "        vertical-align: middle;\n",
       "    }\n",
       "\n",
       "    .dataframe tbody tr th {\n",
       "        vertical-align: top;\n",
       "    }\n",
       "\n",
       "    .dataframe thead th {\n",
       "        text-align: right;\n",
       "    }\n",
       "</style>\n",
       "<table border=\"1\" class=\"dataframe\">\n",
       "  <thead>\n",
       "    <tr style=\"text-align: right;\">\n",
       "      <th></th>\n",
       "      <th>Id</th>\n",
       "      <th>ProductId</th>\n",
       "      <th>UserId</th>\n",
       "      <th>ProfileName</th>\n",
       "      <th>HelpfulnessNumerator</th>\n",
       "      <th>HelpfulnessDenominator</th>\n",
       "      <th>Score</th>\n",
       "      <th>Time</th>\n",
       "      <th>Summary</th>\n",
       "      <th>Text</th>\n",
       "      <th>Cleaned_Text</th>\n",
       "    </tr>\n",
       "  </thead>\n",
       "  <tbody>\n",
       "    <tr>\n",
       "      <th>138706</th>\n",
       "      <td>150524</td>\n",
       "      <td>0006641040</td>\n",
       "      <td>ACITT7DI6IDDL</td>\n",
       "      <td>shari zychinski</td>\n",
       "      <td>0</td>\n",
       "      <td>0</td>\n",
       "      <td>1</td>\n",
       "      <td>1999-10-08</td>\n",
       "      <td>EVERY book is educational</td>\n",
       "      <td>this witty little book makes my son laugh at l...</td>\n",
       "      <td>witti littl book make son laugh loud recit car...</td>\n",
       "    </tr>\n",
       "    <tr>\n",
       "      <th>138688</th>\n",
       "      <td>150506</td>\n",
       "      <td>0006641040</td>\n",
       "      <td>A2IW4PEEKO2R0U</td>\n",
       "      <td>Tracy</td>\n",
       "      <td>1</td>\n",
       "      <td>1</td>\n",
       "      <td>1</td>\n",
       "      <td>2007-11-11</td>\n",
       "      <td>Love the book, miss the hard cover version</td>\n",
       "      <td>I grew up reading these Sendak books, and watc...</td>\n",
       "      <td>grew read sendak book watch realli rosi movi i...</td>\n",
       "    </tr>\n",
       "    <tr>\n",
       "      <th>138689</th>\n",
       "      <td>150507</td>\n",
       "      <td>0006641040</td>\n",
       "      <td>A1S4A3IQ2MU7V4</td>\n",
       "      <td>sally sue \"sally sue\"</td>\n",
       "      <td>1</td>\n",
       "      <td>1</td>\n",
       "      <td>1</td>\n",
       "      <td>2007-10-04</td>\n",
       "      <td>chicken soup with rice months</td>\n",
       "      <td>This is a fun way for children to learn their ...</td>\n",
       "      <td>fun way children learn month year learn poem t...</td>\n",
       "    </tr>\n",
       "    <tr>\n",
       "      <th>138690</th>\n",
       "      <td>150508</td>\n",
       "      <td>0006641040</td>\n",
       "      <td>AZGXZ2UUK6X</td>\n",
       "      <td>Catherine Hallberg \"(Kate)\"</td>\n",
       "      <td>1</td>\n",
       "      <td>1</td>\n",
       "      <td>1</td>\n",
       "      <td>2004-02-06</td>\n",
       "      <td>a good swingy rhythm for reading aloud</td>\n",
       "      <td>This is a great little book to read aloud- it ...</td>\n",
       "      <td>great littl book read nice rhythm well good re...</td>\n",
       "    </tr>\n",
       "    <tr>\n",
       "      <th>138691</th>\n",
       "      <td>150509</td>\n",
       "      <td>0006641040</td>\n",
       "      <td>A3CMRKGE0P909G</td>\n",
       "      <td>Teresa</td>\n",
       "      <td>3</td>\n",
       "      <td>4</td>\n",
       "      <td>1</td>\n",
       "      <td>2002-04-10</td>\n",
       "      <td>A great way to learn the months</td>\n",
       "      <td>This is a book of poetry about the months of t...</td>\n",
       "      <td>book poetri month year goe month cute littl po...</td>\n",
       "    </tr>\n",
       "  </tbody>\n",
       "</table>\n",
       "</div>"
      ],
      "text/plain": [
       "            Id   ProductId          UserId                  ProfileName  \\\n",
       "138706  150524  0006641040   ACITT7DI6IDDL              shari zychinski   \n",
       "138688  150506  0006641040  A2IW4PEEKO2R0U                        Tracy   \n",
       "138689  150507  0006641040  A1S4A3IQ2MU7V4        sally sue \"sally sue\"   \n",
       "138690  150508  0006641040     AZGXZ2UUK6X  Catherine Hallberg \"(Kate)\"   \n",
       "138691  150509  0006641040  A3CMRKGE0P909G                       Teresa   \n",
       "\n",
       "        HelpfulnessNumerator  HelpfulnessDenominator  Score       Time  \\\n",
       "138706                     0                       0      1 1999-10-08   \n",
       "138688                     1                       1      1 2007-11-11   \n",
       "138689                     1                       1      1 2007-10-04   \n",
       "138690                     1                       1      1 2004-02-06   \n",
       "138691                     3                       4      1 2002-04-10   \n",
       "\n",
       "                                           Summary  \\\n",
       "138706                   EVERY book is educational   \n",
       "138688  Love the book, miss the hard cover version   \n",
       "138689               chicken soup with rice months   \n",
       "138690      a good swingy rhythm for reading aloud   \n",
       "138691             A great way to learn the months   \n",
       "\n",
       "                                                     Text  \\\n",
       "138706  this witty little book makes my son laugh at l...   \n",
       "138688  I grew up reading these Sendak books, and watc...   \n",
       "138689  This is a fun way for children to learn their ...   \n",
       "138690  This is a great little book to read aloud- it ...   \n",
       "138691  This is a book of poetry about the months of t...   \n",
       "\n",
       "                                             Cleaned_Text  \n",
       "138706  witti littl book make son laugh loud recit car...  \n",
       "138688  grew read sendak book watch realli rosi movi i...  \n",
       "138689  fun way children learn month year learn poem t...  \n",
       "138690  great littl book read nice rhythm well good re...  \n",
       "138691  book poetri month year goe month cute littl po...  "
      ]
     },
     "execution_count": 19,
     "metadata": {},
     "output_type": "execute_result"
    }
   ],
   "source": [
    "# converting time in unit=sec\n",
    "final_data['Time']=pd.to_datetime(final_data['Time'],unit='s')\n",
    "final_data.head()\n"
   ]
  },
  {
   "cell_type": "markdown",
   "metadata": {
    "papermill": {
     "duration": 1.617584,
     "end_time": "2021-02-09T17:22:35.478233",
     "exception": false,
     "start_time": "2021-02-09T17:22:33.860649",
     "status": "completed"
    },
    "tags": []
   },
   "source": [
    "# Apply Naive Bayes\n",
    "1. Apply Multinomial NaiveBayes on these feature sets\n",
    "    1. Review text, preprocessed one converted into vectors using (BOW)\n",
    "    1. Review text, preprocessed one converted into vectors using (TFIDF)\n",
    "\n",
    "1. The hyper paramter tuning(find best Alpha)\n",
    "    * Finding the best hyper parameter which will give the maximum AUC value\n",
    "    * Considering a wide range of alpha values for hyperparameter tuning, start as low as 0.00001\n",
    "    * Finding the best hyper paramter using k-fold cross validation or simple cross validation data\n",
    "    * Use gridsearch cv or randomsearch cv or we can also write our own for loops to do this task of hyperparameter tuning\n",
    "\n",
    "1. Feature importance\n",
    "    * Finding the top 10 features of positive class and top 10 features of negative class for both feature sets and using absolute values of `coef_` parameter of MultinomialNB and printing their corresponding feature names\n",
    "\n",
    "1. Feature engineering\n",
    "    * To increase the performance of our model, we can also experiment with with feature engineering like :\n",
    "            * Taking length of reviews as another feature.\n",
    "            * Considering some features from review summary as well.\n",
    "\n",
    "1. Representation of results\n",
    "    * You need to plot the performance of model both on train data and cross validation data for each hyper parameter.Here on X-axis you will have alpha values, since they have a wide range, just to represent those alpha values on the graph, apply log function on those alpha values.\n",
    "    * Once after you found the best hyper parameter, you need to train your model with it, and find the AUC on test data and plot the ROC curve on both train and test.\n",
    "    * Along with plotting ROC curve, you need to print the confusion matrix with predicted and original labels of test data points. Please visualize your confusion matrices using seaborn heatmaps.\n",
    "\n",
    "1. Conclusion\n",
    "     * summarizing the results at the end of the notebook, summarize it in the table format. To print out a table please using prettytable library \n",
    "\n",
    "\n",
    "1. There will be an issue of data-leakage if you vectorize the entire data and then split it into train/cv/test.\n",
    "2. To avoid the issue of data-leakag, make sure to split your data first and then vectorize it.\n",
    "3. While vectorizing your data, apply the method fit_transform() on you train data, and apply the method transform() on cv/test data.\n"
   ]
  },
  {
   "cell_type": "code",
   "execution_count": 20,
   "metadata": {
    "execution": {
     "iopub.execute_input": "2021-02-09T17:22:38.594671Z",
     "iopub.status.busy": "2021-02-09T17:22:38.593946Z",
     "iopub.status.idle": "2021-02-09T17:22:39.033643Z",
     "shell.execute_reply": "2021-02-09T17:22:39.033098Z"
    },
    "papermill": {
     "duration": 1.983576,
     "end_time": "2021-02-09T17:22:39.033791",
     "exception": false,
     "start_time": "2021-02-09T17:22:37.050215",
     "status": "completed"
    },
    "tags": []
   },
   "outputs": [
    {
     "data": {
      "text/plain": [
       "(117000, 11)"
      ]
     },
     "execution_count": 20,
     "metadata": {},
     "output_type": "execute_result"
    }
   ],
   "source": [
    "# taking equal no. of negative and postive data point\n",
    "data_pos = final_data[final_data[\"Score\"] == 1].sample(n = 60000)\n",
    "data_neg = final_data[final_data['Score'] == 0].sample(n = 57000)\n",
    "final=pd.concat([data_pos,data_neg])\n",
    "final.shape"
   ]
  },
  {
   "cell_type": "code",
   "execution_count": 21,
   "metadata": {
    "execution": {
     "iopub.execute_input": "2021-02-09T17:22:42.193504Z",
     "iopub.status.busy": "2021-02-09T17:22:42.192806Z",
     "iopub.status.idle": "2021-02-09T17:22:42.231702Z",
     "shell.execute_reply": "2021-02-09T17:22:42.232540Z"
    },
    "papermill": {
     "duration": 1.647197,
     "end_time": "2021-02-09T17:22:42.232797",
     "exception": false,
     "start_time": "2021-02-09T17:22:40.585600",
     "status": "completed"
    },
    "tags": []
   },
   "outputs": [
    {
     "name": "stdout",
     "output_type": "stream",
     "text": [
      "Shape of X (117000,)\n",
      "Shape of y (117000,)\n",
      "Shape of X_train is : (57330,)\n",
      "Shape of y_train is : (57330,)\n",
      "************************\n",
      "Shape of X_Cv is : (24570,)\n",
      "Shape of y_cv is : (24570,)\n",
      "************************\n",
      "Shape of X_test is : (35100,)\n",
      "Shape of y_test is : (35100,)\n",
      "************************\n",
      "Shape of X_tr is : (81900,)\n",
      "Shape of y_tr is : (81900,)\n"
     ]
    }
   ],
   "source": [
    "y = final['Score']\n",
    "X=final['Cleaned_Text']\n",
    "print(\"Shape of X\",X.shape)\n",
    "print(\"Shape of y\",y.shape)\n",
    "from sklearn.model_selection import train_test_split\n",
    "X_tr ,X_test,y_tr,y_test = train_test_split(X,y,test_size=.30,random_state=0)\n",
    "X_train, X_cv, y_train, y_cv = train_test_split(X_tr, y_tr, test_size=.30, random_state=0)\n",
    "print('Shape of X_train is :',X_train.shape)\n",
    "print('Shape of y_train is :',y_train.shape)\n",
    "print(\"****\"*6)\n",
    "print('Shape of X_Cv is :',X_cv.shape)\n",
    "print('Shape of y_cv is :',y_cv.shape)\n",
    "print(\"****\"*6)\n",
    "print('Shape of X_test is :',X_test.shape)\n",
    "print('Shape of y_test is :',y_test.shape)\n",
    "print(\"****\"*6)\n",
    "print('Shape of X_tr is :',X_tr.shape)\n",
    "print('Shape of y_tr is :',y_tr.shape)"
   ]
  },
  {
   "cell_type": "markdown",
   "metadata": {
    "papermill": {
     "duration": 1.548328,
     "end_time": "2021-02-09T17:22:45.361922",
     "exception": false,
     "start_time": "2021-02-09T17:22:43.813594",
     "status": "completed"
    },
    "tags": []
   },
   "source": [
    "# Applying Multinomial Naive Bayes on BOW "
   ]
  },
  {
   "cell_type": "code",
   "execution_count": 22,
   "metadata": {
    "execution": {
     "iopub.execute_input": "2021-02-09T17:22:48.544713Z",
     "iopub.status.busy": "2021-02-09T17:22:48.539101Z",
     "iopub.status.idle": "2021-02-09T17:23:01.890693Z",
     "shell.execute_reply": "2021-02-09T17:23:01.889775Z"
    },
    "papermill": {
     "duration": 14.981569,
     "end_time": "2021-02-09T17:23:01.890888",
     "exception": false,
     "start_time": "2021-02-09T17:22:46.909319",
     "status": "completed"
    },
    "tags": []
   },
   "outputs": [
    {
     "name": "stdout",
     "output_type": "stream",
     "text": [
      "After vectorizations\n",
      "(57330, 29315) (57330,)\n",
      "(24570, 29315) (24570,)\n",
      "(35100, 29315) (35100,)\n",
      "(81900, 29315) (81900,)\n"
     ]
    }
   ],
   "source": [
    "from sklearn.feature_extraction.text import CountVectorizer\n",
    "# Converting \"CleanrText\" into vectors Using BOW\n",
    "count_vec=CountVectorizer()\n",
    "count_vec.fit(X_train) #fit ha to happen only on train data\n",
    "# Using the fiited CountVectorizer to convert text to vectors\n",
    "X_train_bow=count_vec.transform(X_train)\n",
    "X_test_bow=count_vec.transform(X_test)\n",
    "X_cv_bow=count_vec.transform(X_cv)\n",
    "X_tr_bow=count_vec.transform(X_tr)\n",
    "print(\"After vectorizations\")\n",
    "print(X_train_bow.shape, y_train.shape)\n",
    "print(X_cv_bow.shape, y_cv.shape)\n",
    "print(X_test_bow.shape, y_test.shape)\n",
    "print(X_tr_bow.shape, y_tr.shape)\n",
    "#print(\"=\"*100)"
   ]
  },
  {
   "cell_type": "markdown",
   "metadata": {
    "papermill": {
     "duration": 1.569769,
     "end_time": "2021-02-09T17:23:05.016224",
     "exception": false,
     "start_time": "2021-02-09T17:23:03.446455",
     "status": "completed"
    },
    "tags": []
   },
   "source": [
    "# YOU SHOULD NOT DO LIKE THIS \n",
    "\n",
    "1.  THE VOCABULARY SHOULD BUILT ONLY WITH THE WORDS OF TRAIN DATA\n",
    "    *     vectorizer = CountVectorizer()\n",
    "    *     x_train_bow = vectorizer.fit_transform(X_train)\n",
    "    *     x_cv_bow = vectorizer.fit_transform(X_cv)\n",
    "    *     x_test_bow = vectorizer.fit_transform(X_test)\n",
    "\n",
    "2.  DATA LEAKAGE PROBLEM: IF WE DO LIKE THIS WE ARE LOOKING AT THE TEST DATA BEFORE MODELING\n",
    "    *     vectorizer = CountVectorizer()\n",
    "    *     X_bow = vectorizer.fit_transfomr(X)\n",
    "    *     X_train, X_test, y_train, y_test = train_test_split(X_bow, Y, test_size=0.33)\n",
    "\n",
    "3. YOU SHOULD PASS THE PROBABILITY SCORES NOT THE PREDICTED VALUES\n",
    "    *     y_pred =  neigh.predict(X)\n",
    "    *     roc_auc_score(y_ture,y_pred)"
   ]
  },
  {
   "cell_type": "code",
   "execution_count": 23,
   "metadata": {
    "execution": {
     "iopub.execute_input": "2021-02-09T17:23:08.154990Z",
     "iopub.status.busy": "2021-02-09T17:23:08.154037Z",
     "iopub.status.idle": "2021-02-09T17:23:08.214563Z",
     "shell.execute_reply": "2021-02-09T17:23:08.213978Z"
    },
    "papermill": {
     "duration": 1.619159,
     "end_time": "2021-02-09T17:23:08.214705",
     "exception": false,
     "start_time": "2021-02-09T17:23:06.595546",
     "status": "completed"
    },
    "tags": []
   },
   "outputs": [
    {
     "name": "stdout",
     "output_type": "stream",
     "text": [
      "After Normalizing\n",
      "(57330, 29315) (57330,)\n",
      "(24570, 29315) (24570,)\n",
      "(35100, 29315) (35100,)\n",
      "(81900, 29315) (81900,)\n"
     ]
    }
   ],
   "source": [
    "#Noramlizing Data\n",
    "from sklearn import preprocessing\n",
    "from sklearn.preprocessing import  Normalizer\n",
    "X_train_bow=preprocessing.normalize(X_train_bow)\n",
    "X_test_bow=preprocessing.normalize(X_test_bow)\n",
    "X_cv_bow=preprocessing.normalize(X_cv_bow)\n",
    "X_tr_bow=preprocessing.normalize(X_tr_bow)\n",
    "print(\"After Normalizing\")\n",
    "print(X_train_bow.shape, y_train.shape)\n",
    "print(X_cv_bow.shape, y_cv.shape)\n",
    "print(X_test_bow.shape, y_test.shape)\n",
    "print(X_tr_bow.shape, y_tr.shape)\n",
    "#print(\"=\"*100)"
   ]
  },
  {
   "cell_type": "code",
   "execution_count": 24,
   "metadata": {
    "execution": {
     "iopub.execute_input": "2021-02-09T17:23:11.396569Z",
     "iopub.status.busy": "2021-02-09T17:23:11.395279Z",
     "iopub.status.idle": "2021-02-09T17:23:12.589003Z",
     "shell.execute_reply": "2021-02-09T17:23:12.588426Z"
    },
    "papermill": {
     "duration": 2.776877,
     "end_time": "2021-02-09T17:23:12.589145",
     "exception": false,
     "start_time": "2021-02-09T17:23:09.812268",
     "status": "completed"
    },
    "tags": []
   },
   "outputs": [
    {
     "name": "stdout",
     "output_type": "stream",
     "text": [
      "1e-05 --------> 0.9032298517763812\n",
      "0.0001 --------> 0.9132980057677049\n",
      "0.001 --------> 0.9234908355348834\n",
      "0.01 --------> 0.9322121397608487\n",
      "0.1 --------> 0.9373055612324305\n",
      "1 --------> 0.9384883600859172\n",
      "10 --------> 0.9356371600111316\n",
      "100 --------> 0.9238315673694223\n",
      "1000 --------> 0.8902483885548235\n",
      "10000 --------> 0.8529151705822187\n",
      "100000 --------> 0.8431364593107294\n"
     ]
    },
    {
     "data": {
      "image/png": "[encoded data removed]",
      "text/plain": [
       "<Figure size 432x288 with 1 Axes>"
      ]
     },
     "metadata": {
      "needs_background": "light"
     },
     "output_type": "display_data"
    },
    {
     "name": "stdout",
     "output_type": "stream",
     "text": [
      "optimal alpha for which auc is maximum :  1\n"
     ]
    }
   ],
   "source": [
    "#Finding optimal_alpha by using simple for loop\n",
    "from sklearn.naive_bayes import MultinomialNB\n",
    "import math\n",
    "auc_train=[]\n",
    "auc_cv=[]\n",
    "alpha_values=[0.00001,0.0001,0.001,0.01,0.1,1,10,100,1000,10000,100000]\n",
    "for i in alpha_values:\n",
    "    mnb_model=MultinomialNB(alpha=i)\n",
    "    mnb_model.fit(X_train_bow,y_train)\n",
    "    \n",
    "    pred_train=mnb_model.predict_proba(X_train_bow)[:,1]\n",
    "    auc_train.append(roc_auc_score(y_train,pred_train))\n",
    "    \n",
    "    pred_cv=mnb_model.predict_proba(X_cv_bow)[:,1]\n",
    "    auc_cv.append(roc_auc_score(y_cv,pred_cv))\n",
    "    auc_score_cv =roc_auc_score(y_cv,pred_cv)\n",
    "    print(i,\"-------->\",auc_score_cv )\n",
    "\n",
    "optimal_alpha=alpha_values[auc_cv.index(max(auc_cv))]\n",
    "#Change the alpha_values in to log(alpha_values) for clear visualization\n",
    "aplha_values=[math.log(x) for x in alpha_values]\n",
    "#Graph between auc and hyperparamter\n",
    "fig=plt.figure()\n",
    "ax=plt.subplot(111)\n",
    "ax.plot(aplha_values,auc_train,label=\"AUC train\")\n",
    "ax.plot(aplha_values,auc_cv,label=\"AUC CV\")\n",
    "plt.title('AUC vs hyperparameter')\n",
    "plt.xlabel('log(alpha)')\n",
    "plt.ylabel('AUC')\n",
    "ax.legend()\n",
    "plt.show()\n",
    "print('optimal alpha for which auc is maximum : ',optimal_alpha)"
   ]
  },
  {
   "cell_type": "code",
   "execution_count": 25,
   "metadata": {
    "execution": {
     "iopub.execute_input": "2021-02-09T17:23:15.722905Z",
     "iopub.status.busy": "2021-02-09T17:23:15.722155Z",
     "iopub.status.idle": "2021-02-09T17:23:19.369541Z",
     "shell.execute_reply": "2021-02-09T17:23:19.370062Z"
    },
    "papermill": {
     "duration": 5.224294,
     "end_time": "2021-02-09T17:23:19.370253",
     "exception": false,
     "start_time": "2021-02-09T17:23:14.145959",
     "status": "completed"
    },
    "tags": []
   },
   "outputs": [
    {
     "name": "stderr",
     "output_type": "stream",
     "text": [
      "100%|██████████| 11/11 [00:03<00:00,  3.17it/s]"
     ]
    },
    {
     "name": "stdout",
     "output_type": "stream",
     "text": [
      "\n",
      "The optimal number of alpha is 1.\n"
     ]
    },
    {
     "name": "stderr",
     "output_type": "stream",
     "text": [
      "\n"
     ]
    },
    {
     "data": {
      "image/png": "[encoded data removed]",
      "text/plain": [
       "<Figure size 432x288 with 1 Axes>"
      ]
     },
     "metadata": {
      "needs_background": "light"
     },
     "output_type": "display_data"
    }
   ],
   "source": [
    "#Finding optimal_alpha by using 10-fold_cv\n",
    "from sklearn.model_selection import cross_val_score\n",
    "alpha_values=[0.00001,0.0001,0.001,0.01,0.1,1,10,100,1000,10000,100000]\n",
    "cv_scores=[]\n",
    "#perfrom 10-fold cv\n",
    "for i in tqdm(alpha_values):\n",
    "    mnb_model=MultinomialNB(alpha=i)\n",
    "    scores=cross_val_score(mnb_model,X_train_bow,y_train,cv=10)\n",
    "    cv_scores.append(scores.mean())\n",
    "#Changing to misclassification error\n",
    "MSE=[1 - x for x in cv_scores]\n",
    "\n",
    "#determing best alpha\n",
    "optimal_alpha=alpha_values[MSE.index(min(MSE))]\n",
    "aplha_values=[math.log(x) for x in alpha_values]\n",
    "print('\\nThe optimal number of alpha is %d.' % optimal_alpha)\n",
    "#Plot the misclassfication error vs alpha\n",
    "plt.plot(aplha_values,MSE,marker='*')\n",
    "plt.title(\"Misclassification Error vs alpha\")\n",
    "plt.xlabel('value of alpha')\n",
    "plt.ylabel('Misclassification Error')\n",
    "plt.show()\n"
   ]
  },
  {
   "cell_type": "code",
   "execution_count": 26,
   "metadata": {
    "execution": {
     "iopub.execute_input": "2021-02-09T17:23:22.555443Z",
     "iopub.status.busy": "2021-02-09T17:23:22.554637Z",
     "iopub.status.idle": "2021-02-09T17:23:22.883838Z",
     "shell.execute_reply": "2021-02-09T17:23:22.883151Z"
    },
    "papermill": {
     "duration": 1.906672,
     "end_time": "2021-02-09T17:23:22.883984",
     "exception": false,
     "start_time": "2021-02-09T17:23:20.977312",
     "status": "completed"
    },
    "tags": []
   },
   "outputs": [
    {
     "data": {
      "image/png": "[encoded data removed]",
      "text/plain": [
       "<Figure size 432x288 with 1 Axes>"
      ]
     },
     "metadata": {
      "needs_background": "light"
     },
     "output_type": "display_data"
    },
    {
     "name": "stdout",
     "output_type": "stream",
     "text": [
      "Auc on test data: 0.9393023741982264\n"
     ]
    }
   ],
   "source": [
    "mnb_optimal_model=MultinomialNB(alpha=optimal_alpha)\n",
    "mnb_optimal_model.fit(X_train_bow,y_train)\n",
    "\n",
    "y_test_pred=mnb_optimal_model.predict_proba(X_test_bow)[:,1]\n",
    "fpr1,tpr1,threshold1=metrics.roc_curve(y_test,y_test_pred)\n",
    "\n",
    "y_train_pred=mnb_optimal_model.predict_proba(X_train_bow)[:,1]\n",
    "fpr2,tpr2,threshold2=metrics.roc_curve(y_train,y_train_pred)\n",
    "\n",
    "fig=plt.figure()\n",
    "ax=plt.subplot(111)\n",
    "ax.plot(fpr1, tpr1, label='Test ROC ,auc='+str(roc_auc_score(y_test,y_test_pred)))\n",
    "ax.plot(fpr2, tpr2, label='Train ROC ,auc='+str(roc_auc_score(y_train,y_train_pred)))\n",
    "plt.title('ROC')\n",
    "plt.xlabel('FPR')\n",
    "plt.ylabel('TPR')\n",
    "ax.legend()\n",
    "plt.show()\n",
    "print('Auc on test data:',roc_auc_score(y_test,y_test_pred))"
   ]
  },
  {
   "cell_type": "code",
   "execution_count": 27,
   "metadata": {
    "execution": {
     "iopub.execute_input": "2021-02-09T17:23:26.012884Z",
     "iopub.status.busy": "2021-02-09T17:23:26.011899Z",
     "iopub.status.idle": "2021-02-09T17:23:26.300670Z",
     "shell.execute_reply": "2021-02-09T17:23:26.301166Z"
    },
    "papermill": {
     "duration": 1.855622,
     "end_time": "2021-02-09T17:23:26.301347",
     "exception": false,
     "start_time": "2021-02-09T17:23:24.445725",
     "status": "completed"
    },
    "tags": []
   },
   "outputs": [
    {
     "data": {
      "image/png": "[encoded data removed]",
      "text/plain": [
       "<Figure size 432x288 with 2 Axes>"
      ]
     },
     "metadata": {
      "needs_background": "light"
     },
     "output_type": "display_data"
    }
   ],
   "source": [
    "#Confusion_matrix\n",
    "from sklearn.metrics import confusion_matrix\n",
    "mnb_optimal_model=MultinomialNB(alpha=optimal_alpha)\n",
    "mnb_optimal_model.fit(X_train_bow,y_train)\n",
    "y_test_pred=mnb_optimal_model.predict(X_test_bow)\n",
    "\n",
    "import seaborn as sns\n",
    "conf_mat=confusion_matrix(y_test,y_test_pred)\n",
    "class_label=['negative','positive']\n",
    "df=pd.DataFrame(conf_mat,index=class_label,columns=class_label)\n",
    "sns.heatmap(df,annot=True,fmt='d')\n",
    "plt.title(\"Confusion Matrix\")\n",
    "plt.xlabel(\"Predicted Label\")\n",
    "plt.ylabel(\"True Label\")\n",
    "plt.show()"
   ]
  },
  {
   "cell_type": "code",
   "execution_count": 28,
   "metadata": {
    "execution": {
     "iopub.execute_input": "2021-02-09T17:23:29.517633Z",
     "iopub.status.busy": "2021-02-09T17:23:29.516960Z",
     "iopub.status.idle": "2021-02-09T17:23:29.621393Z",
     "shell.execute_reply": "2021-02-09T17:23:29.620881Z"
    },
    "papermill": {
     "duration": 1.675558,
     "end_time": "2021-02-09T17:23:29.621555",
     "exception": false,
     "start_time": "2021-02-09T17:23:27.945997",
     "status": "completed"
    },
    "tags": []
   },
   "outputs": [
    {
     "data": {
      "text/html": [
       "<div>\n",
       "<style scoped>\n",
       "    .dataframe tbody tr th:only-of-type {\n",
       "        vertical-align: middle;\n",
       "    }\n",
       "\n",
       "    .dataframe tbody tr th {\n",
       "        vertical-align: top;\n",
       "    }\n",
       "\n",
       "    .dataframe thead th {\n",
       "        text-align: right;\n",
       "    }\n",
       "</style>\n",
       "<table border=\"1\" class=\"dataframe\">\n",
       "  <thead>\n",
       "    <tr style=\"text-align: right;\">\n",
       "      <th></th>\n",
       "      <th>Pos_Words</th>\n",
       "      <th>Pos_Importance</th>\n",
       "      <th>Neg_Words</th>\n",
       "      <th>Neg_Importance</th>\n",
       "    </tr>\n",
       "  </thead>\n",
       "  <tbody>\n",
       "    <tr>\n",
       "      <th>0</th>\n",
       "      <td>not</td>\n",
       "      <td>-4.572226</td>\n",
       "      <td>not</td>\n",
       "      <td>-3.875052</td>\n",
       "    </tr>\n",
       "    <tr>\n",
       "      <th>1</th>\n",
       "      <td>tast</td>\n",
       "      <td>-4.604901</td>\n",
       "      <td>tast</td>\n",
       "      <td>-4.309288</td>\n",
       "    </tr>\n",
       "    <tr>\n",
       "      <th>2</th>\n",
       "      <td>like</td>\n",
       "      <td>-4.605385</td>\n",
       "      <td>like</td>\n",
       "      <td>-4.445808</td>\n",
       "    </tr>\n",
       "    <tr>\n",
       "      <th>3</th>\n",
       "      <td>love</td>\n",
       "      <td>-4.624737</td>\n",
       "      <td>product</td>\n",
       "      <td>-4.570257</td>\n",
       "    </tr>\n",
       "    <tr>\n",
       "      <th>4</th>\n",
       "      <td>great</td>\n",
       "      <td>-4.641812</td>\n",
       "      <td>one</td>\n",
       "      <td>-4.939143</td>\n",
       "    </tr>\n",
       "    <tr>\n",
       "      <th>5</th>\n",
       "      <td>good</td>\n",
       "      <td>-4.679311</td>\n",
       "      <td>flavor</td>\n",
       "      <td>-4.942347</td>\n",
       "    </tr>\n",
       "    <tr>\n",
       "      <th>6</th>\n",
       "      <td>flavor</td>\n",
       "      <td>-4.788338</td>\n",
       "      <td>would</td>\n",
       "      <td>-5.039732</td>\n",
       "    </tr>\n",
       "    <tr>\n",
       "      <th>7</th>\n",
       "      <td>product</td>\n",
       "      <td>-4.880561</td>\n",
       "      <td>tri</td>\n",
       "      <td>-5.077841</td>\n",
       "    </tr>\n",
       "    <tr>\n",
       "      <th>8</th>\n",
       "      <td>use</td>\n",
       "      <td>-4.917461</td>\n",
       "      <td>good</td>\n",
       "      <td>-5.175230</td>\n",
       "    </tr>\n",
       "    <tr>\n",
       "      <th>9</th>\n",
       "      <td>one</td>\n",
       "      <td>-4.981980</td>\n",
       "      <td>buy</td>\n",
       "      <td>-5.194552</td>\n",
       "    </tr>\n",
       "  </tbody>\n",
       "</table>\n",
       "</div>"
      ],
      "text/plain": [
       "  Pos_Words  Pos_Importance Neg_Words  Neg_Importance\n",
       "0       not       -4.572226       not       -3.875052\n",
       "1      tast       -4.604901      tast       -4.309288\n",
       "2      like       -4.605385      like       -4.445808\n",
       "3      love       -4.624737   product       -4.570257\n",
       "4     great       -4.641812       one       -4.939143\n",
       "5      good       -4.679311    flavor       -4.942347\n",
       "6    flavor       -4.788338     would       -5.039732\n",
       "7   product       -4.880561       tri       -5.077841\n",
       "8       use       -4.917461      good       -5.175230\n",
       "9       one       -4.981980       buy       -5.194552"
      ]
     },
     "execution_count": 28,
     "metadata": {},
     "output_type": "execute_result"
    }
   ],
   "source": [
    "#Top feature\n",
    "neg=mnb_optimal_model.feature_log_prob_[0,:].argsort()\n",
    "pos=mnb_optimal_model.feature_log_prob_[1,:].argsort()\n",
    "top_pos_words=np.take(count_vec.get_feature_names(),pos)\n",
    "top_neg_words=np.take(count_vec.get_feature_names(),neg)\n",
    "imp_df=pd.DataFrame(columns=['Pos_Words','Pos_Importance','Neg_Words','Neg_Importance'])\n",
    "imp_df['Pos_Words']=top_pos_words[::-1]\n",
    "imp_df['Pos_Importance']= np.take(mnb_optimal_model.feature_log_prob_[1,:],pos)[::-1]\n",
    "imp_df['Neg_Words']=top_neg_words[::-1]\n",
    "imp_df['Neg_Importance']= np.take(mnb_optimal_model.feature_log_prob_[0,:],neg)[::-1]\n",
    "imp_df.head(10)"
   ]
  },
  {
   "cell_type": "code",
   "execution_count": 29,
   "metadata": {
    "execution": {
     "iopub.execute_input": "2021-02-09T17:23:32.781785Z",
     "iopub.status.busy": "2021-02-09T17:23:32.781042Z",
     "iopub.status.idle": "2021-02-09T17:23:32.842061Z",
     "shell.execute_reply": "2021-02-09T17:23:32.841017Z"
    },
    "papermill": {
     "duration": 1.635886,
     "end_time": "2021-02-09T17:23:32.842284",
     "exception": false,
     "start_time": "2021-02-09T17:23:31.206398",
     "status": "completed"
    },
    "tags": []
   },
   "outputs": [
    {
     "name": "stdout",
     "output_type": "stream",
     "text": [
      "Top 10 important features of positive class from BOW\n",
      "not\n",
      "tast\n",
      "like\n",
      "love\n",
      "great\n",
      "good\n",
      "flavor\n",
      "product\n",
      "use\n",
      "one\n",
      "Top 10 important features of negativeclass from BOW\n",
      "not\n",
      "tast\n",
      "like\n",
      "product\n",
      "one\n",
      "flavor\n",
      "would\n",
      "tri\n",
      "good\n",
      "buy\n"
     ]
    }
   ],
   "source": [
    "model=MultinomialNB(alpha=1)\n",
    "model.fit(X_train_bow,y_train)\n",
    "features = model.feature_log_prob_ #log probability of features given a class\n",
    "feature_names = count_vec.get_feature_names()\n",
    "negative_features = np.argsort(features[0])[::-1] #Returns the indices that would sort an array\n",
    "positive_features = np.argsort(features[1])[::-1]\n",
    "print(\"Top 10 important features of positive class from BOW\")\n",
    "for i in list(positive_features[0:10]):\n",
    "    print(feature_names[i])\n",
    "print(\"Top 10 important features of negativeclass from BOW\")\n",
    "for i in list(negative_features[0:10]):\n",
    "    print(feature_names[i])"
   ]
  },
  {
   "cell_type": "markdown",
   "metadata": {
    "papermill": {
     "duration": 1.570059,
     "end_time": "2021-02-09T17:23:36.043979",
     "exception": false,
     "start_time": "2021-02-09T17:23:34.473920",
     "status": "completed"
    },
    "tags": []
   },
   "source": [
    "# Applying Multinomial Naive Bayes on Tf-idf"
   ]
  },
  {
   "cell_type": "code",
   "execution_count": 30,
   "metadata": {
    "execution": {
     "iopub.execute_input": "2021-02-09T17:23:39.243630Z",
     "iopub.status.busy": "2021-02-09T17:23:39.238028Z",
     "iopub.status.idle": "2021-02-09T17:24:04.365021Z",
     "shell.execute_reply": "2021-02-09T17:24:04.364370Z"
    },
    "papermill": {
     "duration": 26.71253,
     "end_time": "2021-02-09T17:24:04.365168",
     "exception": false,
     "start_time": "2021-02-09T17:23:37.652638",
     "status": "completed"
    },
    "tags": []
   },
   "outputs": [
    {
     "name": "stdout",
     "output_type": "stream",
     "text": [
      "After vectorizations\n",
      "(57330, 887071) (57330,)\n",
      "(24570, 887071) (24570,)\n",
      "(35100, 887071) (35100,)\n"
     ]
    }
   ],
   "source": [
    "from sklearn.feature_extraction.text import TfidfVectorizer\n",
    "# Conveting text into vectors using Tfidfvectorizer\n",
    "tf_idf_vect=TfidfVectorizer(ngram_range=(1,2))\n",
    "tf_idf_vect.fit(X_train,y_train)\n",
    "# we use the fited Countvectorizer to convert the text into vectors\n",
    "X_train_tfidf=tf_idf_vect.transform(X_train)\n",
    "X_cv_tfidf=tf_idf_vect.transform(X_cv)\n",
    "X_test_tfidf=tf_idf_vect.transform(X_test)\n",
    "\n",
    "print(\"After vectorizations\")\n",
    "print(X_train_tfidf.shape, y_train.shape)\n",
    "print(X_cv_tfidf.shape, y_cv.shape)\n",
    "print(X_test_tfidf.shape, y_test.shape)\n",
    "#print(\"=\"*100)"
   ]
  },
  {
   "cell_type": "code",
   "execution_count": 31,
   "metadata": {
    "execution": {
     "iopub.execute_input": "2021-02-09T17:24:07.591092Z",
     "iopub.status.busy": "2021-02-09T17:24:07.590373Z",
     "iopub.status.idle": "2021-02-09T17:24:10.826011Z",
     "shell.execute_reply": "2021-02-09T17:24:10.825229Z"
    },
    "papermill": {
     "duration": 4.856988,
     "end_time": "2021-02-09T17:24:10.826207",
     "exception": false,
     "start_time": "2021-02-09T17:24:05.969219",
     "status": "completed"
    },
    "tags": []
   },
   "outputs": [
    {
     "name": "stdout",
     "output_type": "stream",
     "text": [
      "1e-05 --------> 0.8901857423752939\n",
      "0.0001 --------> 0.9026757954130519\n",
      "0.001 --------> 0.9189659302972578\n",
      "0.01 --------> 0.9384987292916305\n",
      "0.1 --------> 0.9544092478198729\n",
      "1 --------> 0.9586524408324603\n",
      "10 --------> 0.952290190575592\n",
      "100 --------> 0.9388928651875632\n",
      "1000 --------> 0.9238750199104995\n",
      "10000 --------> 0.9179048237525088\n",
      "100000 --------> 0.9170646993021504\n"
     ]
    },
    {
     "data": {
      "image/png": "[encoded data removed]",
      "text/plain": [
       "<Figure size 432x288 with 1 Axes>"
      ]
     },
     "metadata": {
      "needs_background": "light"
     },
     "output_type": "display_data"
    },
    {
     "name": "stdout",
     "output_type": "stream",
     "text": [
      "optimal alpha for which auc is maximum :  1\n"
     ]
    }
   ],
   "source": [
    "#Finding optimal_alpha by using simple for loop\n",
    "from sklearn.naive_bayes import MultinomialNB\n",
    "import math\n",
    "auc_train=[]\n",
    "auc_cv=[]\n",
    "alpha_values=[0.00001,0.0001,0.001,0.01,0.1,1,10,100,1000,10000,100000]\n",
    "for i in alpha_values:\n",
    "    mnb_model=MultinomialNB(alpha=i)\n",
    "    mnb_model.fit(X_train_tfidf,y_train)\n",
    "    \n",
    "    pred_train=mnb_model.predict_proba(X_train_tfidf)[:,1]\n",
    "    auc_train.append(roc_auc_score(y_train,pred_train))\n",
    "    \n",
    "    pred_cv=mnb_model.predict_proba(X_cv_tfidf)[:,1]\n",
    "    auc_cv.append(roc_auc_score(y_cv,pred_cv))\n",
    "    \n",
    "    auc_score_cv =roc_auc_score(y_cv,pred_cv)\n",
    "    print(i,\"-------->\",auc_score_cv )\n",
    "\n",
    "optimal_alpha=alpha_values[auc_cv.index(max(auc_cv))]\n",
    "#Change the alpha_values in to log(alpha_values) for clear visualization\n",
    "alpha_values=[math.log(x) for x in alpha_values]\n",
    "#Graph between auc and hyperparamter\n",
    "fig=plt.figure()\n",
    "ax=plt.subplot(111)\n",
    "ax.plot(alpha_values,auc_train,label=\"AUC train\")\n",
    "ax.plot(alpha_values,auc_cv,label=\"AUC CV\")\n",
    "plt.title('AUC vs hyperparameter')\n",
    "plt.xlabel('log(alpha)')\n",
    "plt.ylabel('AUC')\n",
    "ax.legend()\n",
    "plt.show()\n",
    "print('optimal alpha for which auc is maximum : ',optimal_alpha)"
   ]
  },
  {
   "cell_type": "code",
   "execution_count": 32,
   "metadata": {
    "execution": {
     "iopub.execute_input": "2021-02-09T17:24:14.093197Z",
     "iopub.status.busy": "2021-02-09T17:24:14.092112Z",
     "iopub.status.idle": "2021-02-09T17:24:34.604601Z",
     "shell.execute_reply": "2021-02-09T17:24:34.604064Z"
    },
    "papermill": {
     "duration": 22.099974,
     "end_time": "2021-02-09T17:24:34.604756",
     "exception": false,
     "start_time": "2021-02-09T17:24:12.504782",
     "status": "completed"
    },
    "tags": []
   },
   "outputs": [
    {
     "name": "stderr",
     "output_type": "stream",
     "text": [
      "100%|██████████| 11/11 [00:20<00:00,  1.85s/it]"
     ]
    },
    {
     "name": "stdout",
     "output_type": "stream",
     "text": [
      "\n",
      "The optimal number of alpha is 1.\n"
     ]
    },
    {
     "name": "stderr",
     "output_type": "stream",
     "text": [
      "\n"
     ]
    },
    {
     "data": {
      "image/png": "[encoded data removed]",
      "text/plain": [
       "<Figure size 432x288 with 1 Axes>"
      ]
     },
     "metadata": {
      "needs_background": "light"
     },
     "output_type": "display_data"
    }
   ],
   "source": [
    "#Finding optimal_alpha by using 10-fold_cv\n",
    "from sklearn.model_selection import cross_val_score\n",
    "alpha_values=[0.00001,0.0001,0.001,0.01,0.1,1,10,100,1000,10000,100000]\n",
    "cv_scores=[]\n",
    "#perfrom 10-fold cv\n",
    "for i in tqdm(alpha_values):\n",
    "    mnb_model=MultinomialNB(alpha=i)\n",
    "    scores=cross_val_score(mnb_model,X_train_tfidf,y_train,cv=10)\n",
    "    cv_scores.append(scores.mean())\n",
    "#Changing to misclassification error\n",
    "MSE=[1 - x for x in cv_scores]\n",
    "\n",
    "#determing best alpha\n",
    "optimal_alpha=alpha_values[MSE.index(min(MSE))]\n",
    "aplha_values=[math.log(x) for x in alpha_values]\n",
    "print('\\nThe optimal number of alpha is %d.' % optimal_alpha)\n",
    "#Plot the misclassfication error vs alpha\n",
    "plt.plot(aplha_values,MSE,marker='*')\n",
    "plt.title(\"Misclassification Error vs alpha\")\n",
    "plt.xlabel('value of alpha')\n",
    "plt.ylabel('Misclassification Error')\n",
    "plt.show()"
   ]
  },
  {
   "cell_type": "code",
   "execution_count": 33,
   "metadata": {
    "execution": {
     "iopub.execute_input": "2021-02-09T17:24:37.785549Z",
     "iopub.status.busy": "2021-02-09T17:24:37.784118Z",
     "iopub.status.idle": "2021-02-09T17:24:38.309588Z",
     "shell.execute_reply": "2021-02-09T17:24:38.310073Z"
    },
    "papermill": {
     "duration": 2.121591,
     "end_time": "2021-02-09T17:24:38.310252",
     "exception": false,
     "start_time": "2021-02-09T17:24:36.188661",
     "status": "completed"
    },
    "tags": []
   },
   "outputs": [
    {
     "data": {
      "image/png": "[encoded data removed]",
      "text/plain": [
       "<Figure size 432x288 with 1 Axes>"
      ]
     },
     "metadata": {
      "needs_background": "light"
     },
     "output_type": "display_data"
    },
    {
     "name": "stdout",
     "output_type": "stream",
     "text": [
      "Auc on test data 0.9583021227506159\n"
     ]
    }
   ],
   "source": [
    "mnb_optimal_model=MultinomialNB(alpha=optimal_alpha)\n",
    "mnb_optimal_model.fit(X_train_tfidf,y_train)\n",
    "\n",
    "y_test_pred=mnb_optimal_model.predict_proba(X_test_tfidf)[:,1]\n",
    "fpr1,tpr1,threshold1=metrics.roc_curve(y_test,y_test_pred)\n",
    "\n",
    "y_train_pred=mnb_optimal_model.predict_proba(X_train_tfidf)[:,1]\n",
    "fpr2,tpr2,threshold2=metrics.roc_curve(y_train,y_train_pred)\n",
    "\n",
    "fig=plt.figure()\n",
    "ax=plt.subplot(111)\n",
    "ax.plot(fpr1, tpr1, label='Test ROC ,auc='+str(roc_auc_score(y_test,y_test_pred)))\n",
    "ax.plot(fpr2, tpr2, label='Train ROC ,auc='+str(roc_auc_score(y_train,y_train_pred)))\n",
    "plt.title('ROC')\n",
    "plt.xlabel('FPR')\n",
    "plt.ylabel('TPR')\n",
    "ax.legend()\n",
    "plt.show()\n",
    "print(\"Auc on test data\",roc_auc_score(y_test,y_test_pred))"
   ]
  },
  {
   "cell_type": "code",
   "execution_count": 34,
   "metadata": {
    "execution": {
     "iopub.execute_input": "2021-02-09T17:24:41.591553Z",
     "iopub.status.busy": "2021-02-09T17:24:41.590143Z",
     "iopub.status.idle": "2021-02-09T17:24:42.373375Z",
     "shell.execute_reply": "2021-02-09T17:24:42.372061Z"
    },
    "papermill": {
     "duration": 2.417649,
     "end_time": "2021-02-09T17:24:42.373571",
     "exception": false,
     "start_time": "2021-02-09T17:24:39.955922",
     "status": "completed"
    },
    "tags": []
   },
   "outputs": [
    {
     "data": {
      "image/png": "[encoded data removed]",
      "text/plain": [
       "<Figure size 432x288 with 2 Axes>"
      ]
     },
     "metadata": {
      "needs_background": "light"
     },
     "output_type": "display_data"
    }
   ],
   "source": [
    "#Confusion_matrix\n",
    "from sklearn.metrics import confusion_matrix\n",
    "mnb_optimal_model=MultinomialNB(alpha=optimal_alpha)\n",
    "mnb_optimal_model.fit(X_train_tfidf,y_train)\n",
    "y_test_pred=mnb_optimal_model.predict(X_test_tfidf)\n",
    "\n",
    "import seaborn as sns\n",
    "conf_mat=confusion_matrix(y_test,y_test_pred)\n",
    "class_label=['negative','positive']\n",
    "df=pd.DataFrame(conf_mat,index=class_label,columns=class_label)\n",
    "sns.heatmap(df,annot=True,fmt='d')\n",
    "plt.title(\"Confusion Matrix\")\n",
    "plt.xlabel(\"Predicted Label\")\n",
    "plt.ylabel(\"True Label\")\n",
    "plt.show()"
   ]
  },
  {
   "cell_type": "code",
   "execution_count": 35,
   "metadata": {
    "execution": {
     "iopub.execute_input": "2021-02-09T17:24:45.581919Z",
     "iopub.status.busy": "2021-02-09T17:24:45.581259Z",
     "iopub.status.idle": "2021-02-09T17:24:50.308739Z",
     "shell.execute_reply": "2021-02-09T17:24:50.308202Z"
    },
    "papermill": {
     "duration": 6.34771,
     "end_time": "2021-02-09T17:24:50.308883",
     "exception": false,
     "start_time": "2021-02-09T17:24:43.961173",
     "status": "completed"
    },
    "tags": []
   },
   "outputs": [
    {
     "data": {
      "text/html": [
       "<div>\n",
       "<style scoped>\n",
       "    .dataframe tbody tr th:only-of-type {\n",
       "        vertical-align: middle;\n",
       "    }\n",
       "\n",
       "    .dataframe tbody tr th {\n",
       "        vertical-align: top;\n",
       "    }\n",
       "\n",
       "    .dataframe thead th {\n",
       "        text-align: right;\n",
       "    }\n",
       "</style>\n",
       "<table border=\"1\" class=\"dataframe\">\n",
       "  <thead>\n",
       "    <tr style=\"text-align: right;\">\n",
       "      <th></th>\n",
       "      <th>Pos_Words</th>\n",
       "      <th>Pos_Importance</th>\n",
       "      <th>Neg_Words</th>\n",
       "      <th>Neg_Importance</th>\n",
       "    </tr>\n",
       "  </thead>\n",
       "  <tbody>\n",
       "    <tr>\n",
       "      <th>0</th>\n",
       "      <td>great</td>\n",
       "      <td>-7.746975</td>\n",
       "      <td>not</td>\n",
       "      <td>-7.361351</td>\n",
       "    </tr>\n",
       "    <tr>\n",
       "      <th>1</th>\n",
       "      <td>love</td>\n",
       "      <td>-7.773131</td>\n",
       "      <td>tast</td>\n",
       "      <td>-7.649672</td>\n",
       "    </tr>\n",
       "    <tr>\n",
       "      <th>2</th>\n",
       "      <td>good</td>\n",
       "      <td>-7.889007</td>\n",
       "      <td>like</td>\n",
       "      <td>-7.787164</td>\n",
       "    </tr>\n",
       "    <tr>\n",
       "      <th>3</th>\n",
       "      <td>tea</td>\n",
       "      <td>-7.931947</td>\n",
       "      <td>product</td>\n",
       "      <td>-7.819529</td>\n",
       "    </tr>\n",
       "    <tr>\n",
       "      <th>4</th>\n",
       "      <td>like</td>\n",
       "      <td>-7.939492</td>\n",
       "      <td>flavor</td>\n",
       "      <td>-8.112524</td>\n",
       "    </tr>\n",
       "    <tr>\n",
       "      <th>5</th>\n",
       "      <td>tast</td>\n",
       "      <td>-7.940037</td>\n",
       "      <td>coffe</td>\n",
       "      <td>-8.121663</td>\n",
       "    </tr>\n",
       "    <tr>\n",
       "      <th>6</th>\n",
       "      <td>flavor</td>\n",
       "      <td>-7.956654</td>\n",
       "      <td>one</td>\n",
       "      <td>-8.155140</td>\n",
       "    </tr>\n",
       "    <tr>\n",
       "      <th>7</th>\n",
       "      <td>coffe</td>\n",
       "      <td>-7.980030</td>\n",
       "      <td>would</td>\n",
       "      <td>-8.157807</td>\n",
       "    </tr>\n",
       "    <tr>\n",
       "      <th>8</th>\n",
       "      <td>not</td>\n",
       "      <td>-8.052472</td>\n",
       "      <td>tri</td>\n",
       "      <td>-8.249377</td>\n",
       "    </tr>\n",
       "    <tr>\n",
       "      <th>9</th>\n",
       "      <td>use</td>\n",
       "      <td>-8.067855</td>\n",
       "      <td>order</td>\n",
       "      <td>-8.283515</td>\n",
       "    </tr>\n",
       "  </tbody>\n",
       "</table>\n",
       "</div>"
      ],
      "text/plain": [
       "  Pos_Words  Pos_Importance Neg_Words  Neg_Importance\n",
       "0     great       -7.746975       not       -7.361351\n",
       "1      love       -7.773131      tast       -7.649672\n",
       "2      good       -7.889007      like       -7.787164\n",
       "3       tea       -7.931947   product       -7.819529\n",
       "4      like       -7.939492    flavor       -8.112524\n",
       "5      tast       -7.940037     coffe       -8.121663\n",
       "6    flavor       -7.956654       one       -8.155140\n",
       "7     coffe       -7.980030     would       -8.157807\n",
       "8       not       -8.052472       tri       -8.249377\n",
       "9       use       -8.067855     order       -8.283515"
      ]
     },
     "execution_count": 35,
     "metadata": {},
     "output_type": "execute_result"
    }
   ],
   "source": [
    "#Top feature\n",
    "neg=mnb_optimal_model.feature_log_prob_[0,:].argsort()\n",
    "pos=mnb_optimal_model.feature_log_prob_[1,:].argsort()\n",
    "top_pos_words=np.take(tf_idf_vect.get_feature_names(),pos)\n",
    "top_neg_words=np.take(tf_idf_vect.get_feature_names(),neg)\n",
    "imp_df=pd.DataFrame(columns=['Pos_Words','Pos_Importance','Neg_Words','Neg_Importance'])\n",
    "imp_df['Pos_Words']=top_pos_words[::-1]\n",
    "imp_df['Pos_Importance']= np.take(mnb_optimal_model.feature_log_prob_[1,:],pos)[::-1]\n",
    "imp_df['Neg_Words']=top_neg_words[::-1]\n",
    "imp_df['Neg_Importance']= np.take(mnb_optimal_model.feature_log_prob_[0,:],neg)[::-1]\n",
    "imp_df.head(10)"
   ]
  },
  {
   "cell_type": "markdown",
   "metadata": {
    "papermill": {
     "duration": 1.636854,
     "end_time": "2021-02-09T17:24:53.543359",
     "exception": false,
     "start_time": "2021-02-09T17:24:51.906505",
     "status": "completed"
    },
    "tags": []
   },
   "source": [
    "# Applying Bernoulli  Naive Bayes on Bow"
   ]
  },
  {
   "cell_type": "code",
   "execution_count": 36,
   "metadata": {
    "execution": {
     "iopub.execute_input": "2021-02-09T17:24:56.766542Z",
     "iopub.status.busy": "2021-02-09T17:24:56.755882Z",
     "iopub.status.idle": "2021-02-09T17:25:10.209457Z",
     "shell.execute_reply": "2021-02-09T17:25:10.208685Z"
    },
    "papermill": {
     "duration": 15.055197,
     "end_time": "2021-02-09T17:25:10.209684",
     "exception": false,
     "start_time": "2021-02-09T17:24:55.154487",
     "status": "completed"
    },
    "tags": []
   },
   "outputs": [
    {
     "name": "stdout",
     "output_type": "stream",
     "text": [
      "After vectorizations\n",
      "(57330, 29315) (57330,)\n",
      "(24570, 29315) (24570,)\n",
      "(35100, 29315) (35100,)\n",
      "(81900, 29315) (81900,)\n"
     ]
    }
   ],
   "source": [
    "from sklearn.feature_extraction.text import CountVectorizer\n",
    "# Converting \"CleanrText\" into vectors Using BOW\n",
    "count_vec=CountVectorizer()\n",
    "count_vec.fit(X_train) #fit ha to happen only on train data\n",
    "# Using the fiited CountVectorizer to convert text to vectors\n",
    "X_train_bow=count_vec.transform(X_train)\n",
    "X_test_bow=count_vec.transform(X_test)\n",
    "X_cv_bow=count_vec.transform(X_cv)\n",
    "X_tr_bow=count_vec.transform(X_tr)\n",
    "print(\"After vectorizations\")\n",
    "print(X_train_bow.shape, y_train.shape)\n",
    "print(X_cv_bow.shape, y_cv.shape)\n",
    "print(X_test_bow.shape, y_test.shape)\n",
    "print(X_tr_bow.shape, y_tr.shape)\n",
    "#print(\"=\"*100)"
   ]
  },
  {
   "cell_type": "code",
   "execution_count": 37,
   "metadata": {
    "execution": {
     "iopub.execute_input": "2021-02-09T17:25:13.499828Z",
     "iopub.status.busy": "2021-02-09T17:25:13.498363Z",
     "iopub.status.idle": "2021-02-09T17:25:15.119728Z",
     "shell.execute_reply": "2021-02-09T17:25:15.119215Z"
    },
    "papermill": {
     "duration": 3.212447,
     "end_time": "2021-02-09T17:25:15.119869",
     "exception": false,
     "start_time": "2021-02-09T17:25:11.907422",
     "status": "completed"
    },
    "tags": []
   },
   "outputs": [
    {
     "name": "stdout",
     "output_type": "stream",
     "text": [
      "1e-05 --------> 0.8746291160865398\n",
      "0.0001 --------> 0.8849012497246509\n",
      "0.001 --------> 0.8963801295123075\n",
      "0.01 --------> 0.9079278511462067\n",
      "0.1 --------> 0.9173787788304444\n",
      "0.5 --------> 0.9211154255360586\n",
      "1 --------> 0.9218540458051707\n",
      "10 --------> 0.9211190918856491\n",
      "100 --------> 0.9131775068458139\n",
      "1000 --------> 0.5001748079683104\n",
      "10000 --------> 0.5\n",
      "100000 --------> 0.5\n"
     ]
    },
    {
     "data": {
      "image/png": "[encoded data removed]",
      "text/plain": [
       "<Figure size 432x288 with 1 Axes>"
      ]
     },
     "metadata": {
      "needs_background": "light"
     },
     "output_type": "display_data"
    },
    {
     "name": "stdout",
     "output_type": "stream",
     "text": [
      "optimal alpha for which auc is maximum :  1\n"
     ]
    }
   ],
   "source": [
    "#Finding optimal_alpha by using simple for loop\n",
    "from sklearn.naive_bayes import BernoulliNB\n",
    "import math\n",
    "auc_train=[]\n",
    "auc_cv=[]\n",
    "alpha_values=[0.00001,0.0001,0.001,0.01,0.1,0.5,1,10,100,1000,10000,100000]\n",
    "for i in alpha_values:\n",
    "    b_nb_model=BernoulliNB(alpha=i)\n",
    "    b_nb_model.fit(X_train_bow,y_train)\n",
    "    \n",
    "    pred_train=b_nb_model.predict_proba(X_train_bow)[:,1]\n",
    "    auc_train.append(roc_auc_score(y_train,pred_train))\n",
    "    \n",
    "    pred_cv=b_nb_model.predict_proba(X_cv_bow)[:,1]\n",
    "    auc_cv.append(roc_auc_score(y_cv,pred_cv))\n",
    "    auc_score_cv =roc_auc_score(y_cv,pred_cv)\n",
    "    print(i,\"-------->\",auc_score_cv )\n",
    "\n",
    "optimal_alpha=alpha_values[auc_cv.index(max(auc_cv))]\n",
    "#Change the alpha_values in to log(alpha_values) for clear visualization\n",
    "aplha_values=[math.log(x) for x in alpha_values]\n",
    "#Graph between auc and hyperparamter\n",
    "fig=plt.figure()\n",
    "ax=plt.subplot(111)\n",
    "ax.plot(aplha_values,auc_train,label=\"AUC train\")\n",
    "ax.plot(aplha_values,auc_cv,label=\"AUC CV\")\n",
    "plt.title('AUC vs hyperparameter')\n",
    "plt.xlabel('log(alpha)')\n",
    "plt.ylabel('AUC')\n",
    "ax.legend()\n",
    "plt.show()\n",
    "print('optimal alpha for which auc is maximum : ',optimal_alpha)"
   ]
  },
  {
   "cell_type": "markdown",
   "metadata": {
    "papermill": {
     "duration": 1.614947,
     "end_time": "2021-02-09T17:25:18.370132",
     "exception": false,
     "start_time": "2021-02-09T17:25:16.755185",
     "status": "completed"
    },
    "tags": []
   },
   "source": [
    "# Or (finding hyperparameter )"
   ]
  },
  {
   "cell_type": "code",
   "execution_count": 38,
   "metadata": {
    "execution": {
     "iopub.execute_input": "2021-02-09T17:25:21.554554Z",
     "iopub.status.busy": "2021-02-09T17:25:21.553815Z",
     "iopub.status.idle": "2021-02-09T17:25:27.002888Z",
     "shell.execute_reply": "2021-02-09T17:25:27.003395Z"
    },
    "papermill": {
     "duration": 7.040783,
     "end_time": "2021-02-09T17:25:27.003592",
     "exception": false,
     "start_time": "2021-02-09T17:25:19.962809",
     "status": "completed"
    },
    "tags": []
   },
   "outputs": [
    {
     "name": "stderr",
     "output_type": "stream",
     "text": [
      "100%|██████████| 12/12 [00:05<00:00,  2.28it/s]"
     ]
    },
    {
     "name": "stdout",
     "output_type": "stream",
     "text": [
      "\n",
      "The optimal number of alpha is 1.\n"
     ]
    },
    {
     "name": "stderr",
     "output_type": "stream",
     "text": [
      "\n"
     ]
    },
    {
     "data": {
      "image/png": "[encoded data removed]",
      "text/plain": [
       "<Figure size 432x288 with 1 Axes>"
      ]
     },
     "metadata": {
      "needs_background": "light"
     },
     "output_type": "display_data"
    }
   ],
   "source": [
    "#Finding optimal_alpha by using 10-fold_cv\n",
    "from sklearn.model_selection import cross_val_score\n",
    "alpha_values=[0.00001,0.0001,0.001,0.01,0.1,1,2.1,10,100,1000,10000,100000]\n",
    "cv_scores=[]\n",
    "#perfrom 10-fold cv\n",
    "for i in tqdm(alpha_values):\n",
    "    b_nb_model=BernoulliNB(alpha=i)\n",
    "    scores=cross_val_score(b_nb_model,X_train_bow,y_train,cv=10)\n",
    "    cv_scores.append(scores.mean())\n",
    "#Changing to misclassification error\n",
    "MSE=[1 - x for x in cv_scores]\n",
    "\n",
    "#determing best alpha\n",
    "optimal_alpha=alpha_values[MSE.index(min(MSE))]\n",
    "aplha_values=[math.log(x) for x in alpha_values]\n",
    "print('\\nThe optimal number of alpha is %d.' % optimal_alpha)\n",
    "#Plot the misclassfication error vs alpha\n",
    "plt.plot(aplha_values,MSE,marker='*')\n",
    "plt.title(\"Misclassification Error vs alpha\")\n",
    "plt.xlabel('value of alpha')\n",
    "plt.ylabel('Misclassification Error')\n",
    "plt.show()\n"
   ]
  },
  {
   "cell_type": "code",
   "execution_count": 39,
   "metadata": {
    "execution": {
     "iopub.execute_input": "2021-02-09T17:25:30.274093Z",
     "iopub.status.busy": "2021-02-09T17:25:30.273429Z",
     "iopub.status.idle": "2021-02-09T17:25:30.653753Z",
     "shell.execute_reply": "2021-02-09T17:25:30.652904Z"
    },
    "papermill": {
     "duration": 1.986379,
     "end_time": "2021-02-09T17:25:30.653913",
     "exception": false,
     "start_time": "2021-02-09T17:25:28.667534",
     "status": "completed"
    },
    "tags": []
   },
   "outputs": [
    {
     "data": {
      "image/png": "[encoded data removed]",
      "text/plain": [
       "<Figure size 432x288 with 1 Axes>"
      ]
     },
     "metadata": {
      "needs_background": "light"
     },
     "output_type": "display_data"
    },
    {
     "name": "stdout",
     "output_type": "stream",
     "text": [
      "Auc on test data: 0.9206718735380953\n"
     ]
    }
   ],
   "source": [
    "b_nb_optimal_model=BernoulliNB(alpha=optimal_alpha)\n",
    "b_nb_optimal_model.fit(X_train_bow,y_train)\n",
    "\n",
    "y_test_pred=b_nb_optimal_model.predict_proba(X_test_bow)[:,1]\n",
    "fpr1,tpr1,threshold1=metrics.roc_curve(y_test,y_test_pred)\n",
    "\n",
    "y_train_pred=b_nb_optimal_model.predict_proba(X_train_bow)[:,1]\n",
    "fpr2,tpr2,threshold2=metrics.roc_curve(y_train,y_train_pred)\n",
    "\n",
    "fig=plt.figure()\n",
    "ax=plt.subplot(111)\n",
    "ax.plot(fpr1, tpr1, label='Test ROC ,auc='+str(roc_auc_score(y_test,y_test_pred)))\n",
    "ax.plot(fpr2, tpr2, label='Train ROC ,auc='+str(roc_auc_score(y_train,y_train_pred)))\n",
    "plt.title('ROC')\n",
    "plt.xlabel('FPR')\n",
    "plt.ylabel('TPR')\n",
    "ax.legend()\n",
    "plt.show()\n",
    "print('Auc on test data:',roc_auc_score(y_test,y_test_pred))"
   ]
  },
  {
   "cell_type": "code",
   "execution_count": 40,
   "metadata": {
    "execution": {
     "iopub.execute_input": "2021-02-09T17:25:33.857000Z",
     "iopub.status.busy": "2021-02-09T17:25:33.855759Z",
     "iopub.status.idle": "2021-02-09T17:25:34.172542Z",
     "shell.execute_reply": "2021-02-09T17:25:34.173046Z"
    },
    "papermill": {
     "duration": 1.924106,
     "end_time": "2021-02-09T17:25:34.173230",
     "exception": false,
     "start_time": "2021-02-09T17:25:32.249124",
     "status": "completed"
    },
    "tags": []
   },
   "outputs": [
    {
     "data": {
      "image/png": "[encoded data removed]",
      "text/plain": [
       "<Figure size 432x288 with 2 Axes>"
      ]
     },
     "metadata": {
      "needs_background": "light"
     },
     "output_type": "display_data"
    }
   ],
   "source": [
    "#Confusion_matrix\n",
    "from sklearn.metrics import confusion_matrix\n",
    "b_nb_optimal_model=BernoulliNB(alpha=optimal_alpha)\n",
    "b_nb_optimal_model.fit(X_train_bow,y_train)\n",
    "y_test_pred=b_nb_optimal_model.predict(X_test_bow)\n",
    "\n",
    "import seaborn as sns\n",
    "conf_mat=confusion_matrix(y_test,y_test_pred)\n",
    "class_label=['negative','positive']\n",
    "df=pd.DataFrame(conf_mat,index=class_label,columns=class_label)\n",
    "sns.heatmap(df,annot=True,fmt='d')\n",
    "plt.title(\"Confusion Matrix\")\n",
    "plt.xlabel(\"Predicted Label\")\n",
    "plt.ylabel(\"True Label\")\n",
    "plt.show()"
   ]
  },
  {
   "cell_type": "code",
   "execution_count": 41,
   "metadata": {
    "execution": {
     "iopub.execute_input": "2021-02-09T17:25:37.408958Z",
     "iopub.status.busy": "2021-02-09T17:25:37.408331Z",
     "iopub.status.idle": "2021-02-09T17:25:37.539152Z",
     "shell.execute_reply": "2021-02-09T17:25:37.538636Z"
    },
    "papermill": {
     "duration": 1.771428,
     "end_time": "2021-02-09T17:25:37.539295",
     "exception": false,
     "start_time": "2021-02-09T17:25:35.767867",
     "status": "completed"
    },
    "tags": []
   },
   "outputs": [
    {
     "data": {
      "text/html": [
       "<div>\n",
       "<style scoped>\n",
       "    .dataframe tbody tr th:only-of-type {\n",
       "        vertical-align: middle;\n",
       "    }\n",
       "\n",
       "    .dataframe tbody tr th {\n",
       "        vertical-align: top;\n",
       "    }\n",
       "\n",
       "    .dataframe thead th {\n",
       "        text-align: right;\n",
       "    }\n",
       "</style>\n",
       "<table border=\"1\" class=\"dataframe\">\n",
       "  <thead>\n",
       "    <tr style=\"text-align: right;\">\n",
       "      <th></th>\n",
       "      <th>Pos_Words</th>\n",
       "      <th>Pos_Importance</th>\n",
       "      <th>Neg_Words</th>\n",
       "      <th>Neg_Importance</th>\n",
       "    </tr>\n",
       "  </thead>\n",
       "  <tbody>\n",
       "    <tr>\n",
       "      <th>0</th>\n",
       "      <td>not</td>\n",
       "      <td>-1.119969</td>\n",
       "      <td>not</td>\n",
       "      <td>-0.578240</td>\n",
       "    </tr>\n",
       "    <tr>\n",
       "      <th>1</th>\n",
       "      <td>like</td>\n",
       "      <td>-1.177280</td>\n",
       "      <td>tast</td>\n",
       "      <td>-0.988831</td>\n",
       "    </tr>\n",
       "    <tr>\n",
       "      <th>2</th>\n",
       "      <td>tast</td>\n",
       "      <td>-1.203192</td>\n",
       "      <td>like</td>\n",
       "      <td>-1.006720</td>\n",
       "    </tr>\n",
       "    <tr>\n",
       "      <th>3</th>\n",
       "      <td>love</td>\n",
       "      <td>-1.271797</td>\n",
       "      <td>product</td>\n",
       "      <td>-1.184695</td>\n",
       "    </tr>\n",
       "    <tr>\n",
       "      <th>4</th>\n",
       "      <td>good</td>\n",
       "      <td>-1.276169</td>\n",
       "      <td>one</td>\n",
       "      <td>-1.363367</td>\n",
       "    </tr>\n",
       "    <tr>\n",
       "      <th>5</th>\n",
       "      <td>great</td>\n",
       "      <td>-1.297450</td>\n",
       "      <td>would</td>\n",
       "      <td>-1.420311</td>\n",
       "    </tr>\n",
       "    <tr>\n",
       "      <th>6</th>\n",
       "      <td>flavor</td>\n",
       "      <td>-1.416820</td>\n",
       "      <td>tri</td>\n",
       "      <td>-1.477705</td>\n",
       "    </tr>\n",
       "    <tr>\n",
       "      <th>7</th>\n",
       "      <td>one</td>\n",
       "      <td>-1.463273</td>\n",
       "      <td>flavor</td>\n",
       "      <td>-1.551704</td>\n",
       "    </tr>\n",
       "    <tr>\n",
       "      <th>8</th>\n",
       "      <td>use</td>\n",
       "      <td>-1.483584</td>\n",
       "      <td>good</td>\n",
       "      <td>-1.557643</td>\n",
       "    </tr>\n",
       "    <tr>\n",
       "      <th>9</th>\n",
       "      <td>product</td>\n",
       "      <td>-1.527362</td>\n",
       "      <td>buy</td>\n",
       "      <td>-1.597572</td>\n",
       "    </tr>\n",
       "  </tbody>\n",
       "</table>\n",
       "</div>"
      ],
      "text/plain": [
       "  Pos_Words  Pos_Importance Neg_Words  Neg_Importance\n",
       "0       not       -1.119969       not       -0.578240\n",
       "1      like       -1.177280      tast       -0.988831\n",
       "2      tast       -1.203192      like       -1.006720\n",
       "3      love       -1.271797   product       -1.184695\n",
       "4      good       -1.276169       one       -1.363367\n",
       "5     great       -1.297450     would       -1.420311\n",
       "6    flavor       -1.416820       tri       -1.477705\n",
       "7       one       -1.463273    flavor       -1.551704\n",
       "8       use       -1.483584      good       -1.557643\n",
       "9   product       -1.527362       buy       -1.597572"
      ]
     },
     "execution_count": 41,
     "metadata": {},
     "output_type": "execute_result"
    }
   ],
   "source": [
    "#Top feature\n",
    "neg=b_nb_optimal_model.feature_log_prob_[0,:].argsort()\n",
    "pos=b_nb_optimal_model.feature_log_prob_[1,:].argsort()\n",
    "top_pos_words=np.take(count_vec.get_feature_names(),pos)\n",
    "top_neg_words=np.take(count_vec.get_feature_names(),neg)\n",
    "imp_df=pd.DataFrame(columns=['Pos_Words','Pos_Importance','Neg_Words','Neg_Importance'])\n",
    "imp_df['Pos_Words']=top_pos_words[::-1]\n",
    "imp_df['Pos_Importance']= np.take(b_nb_optimal_model.feature_log_prob_[1,:],pos)[::-1]\n",
    "imp_df['Neg_Words']=top_neg_words[::-1]\n",
    "imp_df['Neg_Importance']= np.take(b_nb_optimal_model.feature_log_prob_[0,:],neg)[::-1]\n",
    "imp_df.head(10)"
   ]
  },
  {
   "cell_type": "markdown",
   "metadata": {
    "papermill": {
     "duration": 1.608359,
     "end_time": "2021-02-09T17:25:40.777998",
     "exception": false,
     "start_time": "2021-02-09T17:25:39.169639",
     "status": "completed"
    },
    "tags": []
   },
   "source": [
    "# Applying Bernoulli Naive Bayes on tfidf"
   ]
  },
  {
   "cell_type": "code",
   "execution_count": 42,
   "metadata": {
    "execution": {
     "iopub.execute_input": "2021-02-09T17:25:44.215894Z",
     "iopub.status.busy": "2021-02-09T17:25:44.215163Z",
     "iopub.status.idle": "2021-02-09T17:26:08.558861Z",
     "shell.execute_reply": "2021-02-09T17:26:08.559314Z"
    },
    "papermill": {
     "duration": 26.17686,
     "end_time": "2021-02-09T17:26:08.559515",
     "exception": false,
     "start_time": "2021-02-09T17:25:42.382655",
     "status": "completed"
    },
    "tags": []
   },
   "outputs": [
    {
     "name": "stdout",
     "output_type": "stream",
     "text": [
      "After vectorizations\n",
      "(57330, 887071) (57330,)\n",
      "(24570, 887071) (24570,)\n",
      "(35100, 887071) (35100,)\n"
     ]
    }
   ],
   "source": [
    "from sklearn.feature_extraction.text import TfidfVectorizer\n",
    "# Conveting text into vectors using Tfidfvectorizer\n",
    "tf_idf_vect=TfidfVectorizer(ngram_range=(1,2))\n",
    "tf_idf_vect.fit(X_train,y_train)\n",
    "# we use the fited Countvectorizer to convert the text into vectors\n",
    "X_train_tfidf=tf_idf_vect.transform(X_train)\n",
    "X_cv_tfidf=tf_idf_vect.transform(X_cv)\n",
    "X_test_tfidf=tf_idf_vect.transform(X_test)\n",
    "\n",
    "print(\"After vectorizations\")\n",
    "print(X_train_tfidf.shape, y_train.shape)\n",
    "print(X_cv_tfidf.shape, y_cv.shape)\n",
    "print(X_test_tfidf.shape, y_test.shape)\n",
    "#print(\"=\"*100)"
   ]
  },
  {
   "cell_type": "code",
   "execution_count": 43,
   "metadata": {
    "execution": {
     "iopub.execute_input": "2021-02-09T17:26:11.756403Z",
     "iopub.status.busy": "2021-02-09T17:26:11.755721Z",
     "iopub.status.idle": "2021-02-09T17:26:17.180428Z",
     "shell.execute_reply": "2021-02-09T17:26:17.179770Z"
    },
    "papermill": {
     "duration": 7.029463,
     "end_time": "2021-02-09T17:26:17.180588",
     "exception": false,
     "start_time": "2021-02-09T17:26:10.151125",
     "status": "completed"
    },
    "tags": []
   },
   "outputs": [
    {
     "name": "stdout",
     "output_type": "stream",
     "text": [
      "1e-05 --------> 0.8877942017642566\n",
      "0.0001 --------> 0.8984522932834365\n",
      "0.001 --------> 0.9109899193618562\n",
      "0.01 --------> 0.9257947185670606\n",
      "0.1 --------> 0.9406612854864767\n",
      "0.5 --------> 0.947450194745816\n",
      "1 --------> 0.9485720877755915\n",
      "10 --------> 0.9432683119824824\n",
      "100 --------> 0.5\n",
      "1000 --------> 0.5\n",
      "10000 --------> 0.5\n",
      "100000 --------> 0.5\n"
     ]
    },
    {
     "data": {
      "image/png": "[encoded data removed]",
      "text/plain": [
       "<Figure size 432x288 with 1 Axes>"
      ]
     },
     "metadata": {
      "needs_background": "light"
     },
     "output_type": "display_data"
    },
    {
     "name": "stdout",
     "output_type": "stream",
     "text": [
      "optimal alpha for which auc is maximum :  1\n"
     ]
    }
   ],
   "source": [
    "#Finding optimal_alpha by using simple for loop\n",
    "from sklearn.naive_bayes import BernoulliNB\n",
    "import math\n",
    "auc_train=[]\n",
    "auc_cv=[]\n",
    "alpha_values=[0.00001,0.0001,0.001,0.01,0.1,0.5,1,10,100,1000,10000,100000]\n",
    "for i in alpha_values:\n",
    "    b_nb_model=BernoulliNB(alpha=i)\n",
    "    b_nb_model.fit(X_train_tfidf,y_train)\n",
    "    \n",
    "    pred_train=b_nb_model.predict_proba(X_train_tfidf)[:,1]\n",
    "    auc_train.append(roc_auc_score(y_train,pred_train))\n",
    "    \n",
    "    pred_cv=b_nb_model.predict_proba(X_cv_tfidf)[:,1]\n",
    "    auc_cv.append(roc_auc_score(y_cv,pred_cv))\n",
    "    auc_score_cv =roc_auc_score(y_cv,pred_cv)\n",
    "    print(i,\"-------->\",auc_score_cv )\n",
    "\n",
    "optimal_alpha=alpha_values[auc_cv.index(max(auc_cv))]\n",
    "#Change the alpha_values in to log(alpha_values) for clear visualization\n",
    "aplha_values=[math.log(x) for x in alpha_values]\n",
    "#Graph between auc and hyperparamter\n",
    "fig=plt.figure()\n",
    "ax=plt.subplot(111)\n",
    "ax.plot(aplha_values,auc_train,label=\"AUC train\")\n",
    "ax.plot(aplha_values,auc_cv,label=\"AUC CV\")\n",
    "plt.title('AUC vs hyperparameter')\n",
    "plt.xlabel('log(alpha)')\n",
    "plt.ylabel('AUC')\n",
    "ax.legend()\n",
    "plt.show()\n",
    "print('optimal alpha for which auc is maximum : ',optimal_alpha)"
   ]
  },
  {
   "cell_type": "code",
   "execution_count": 44,
   "metadata": {
    "execution": {
     "iopub.execute_input": "2021-02-09T17:26:20.463220Z",
     "iopub.status.busy": "2021-02-09T17:26:20.462511Z",
     "iopub.status.idle": "2021-02-09T17:26:21.125124Z",
     "shell.execute_reply": "2021-02-09T17:26:21.124493Z"
    },
    "papermill": {
     "duration": 2.34351,
     "end_time": "2021-02-09T17:26:21.125262",
     "exception": false,
     "start_time": "2021-02-09T17:26:18.781752",
     "status": "completed"
    },
    "tags": []
   },
   "outputs": [
    {
     "data": {
      "image/png": "[encoded data removed]",
      "text/plain": [
       "<Figure size 432x288 with 1 Axes>"
      ]
     },
     "metadata": {
      "needs_background": "light"
     },
     "output_type": "display_data"
    },
    {
     "name": "stdout",
     "output_type": "stream",
     "text": [
      "Auc on test data: 0.9460949292698013\n"
     ]
    }
   ],
   "source": [
    "b_nb_optimal_model=BernoulliNB(alpha=optimal_alpha)\n",
    "b_nb_optimal_model.fit(X_train_tfidf,y_train)\n",
    "\n",
    "y_test_pred=b_nb_optimal_model.predict_proba(X_test_tfidf)[:,1]\n",
    "fpr1,tpr1,threshold1=metrics.roc_curve(y_test,y_test_pred)\n",
    "\n",
    "y_train_pred=b_nb_optimal_model.predict_proba(X_train_tfidf)[:,1]\n",
    "fpr2,tpr2,threshold2=metrics.roc_curve(y_train,y_train_pred)\n",
    "\n",
    "fig=plt.figure()\n",
    "ax=plt.subplot(111)\n",
    "ax.plot(fpr1, tpr1, label='Test ROC ,auc='+str(roc_auc_score(y_test,y_test_pred)))\n",
    "ax.plot(fpr2, tpr2, label='Train ROC ,auc='+str(roc_auc_score(y_train,y_train_pred)))\n",
    "plt.title('ROC')\n",
    "plt.xlabel('FPR')\n",
    "plt.ylabel('TPR')\n",
    "ax.legend()\n",
    "plt.show()\n",
    "print('Auc on test data:',roc_auc_score(y_test,y_test_pred))\n",
    "\n"
   ]
  },
  {
   "cell_type": "code",
   "execution_count": 45,
   "metadata": {
    "execution": {
     "iopub.execute_input": "2021-02-09T17:26:24.365434Z",
     "iopub.status.busy": "2021-02-09T17:26:24.364805Z",
     "iopub.status.idle": "2021-02-09T17:26:24.862555Z",
     "shell.execute_reply": "2021-02-09T17:26:24.861847Z"
    },
    "papermill": {
     "duration": 2.129567,
     "end_time": "2021-02-09T17:26:24.862697",
     "exception": false,
     "start_time": "2021-02-09T17:26:22.733130",
     "status": "completed"
    },
    "tags": []
   },
   "outputs": [
    {
     "data": {
      "image/png": "[encoded data removed]",
      "text/plain": [
       "<Figure size 432x288 with 2 Axes>"
      ]
     },
     "metadata": {
      "needs_background": "light"
     },
     "output_type": "display_data"
    }
   ],
   "source": [
    "#Confusion_matrix\n",
    "from sklearn.metrics import confusion_matrix\n",
    "b_nb_optimal_model=BernoulliNB(alpha=optimal_alpha)\n",
    "b_nb_optimal_model.fit(X_train_tfidf,y_train)\n",
    "y_test_pred=b_nb_optimal_model.predict(X_test_tfidf)\n",
    "\n",
    "import seaborn as sns\n",
    "conf_mat=confusion_matrix(y_test,y_test_pred)\n",
    "class_label=['negative','positive']\n",
    "df=pd.DataFrame(conf_mat,index=class_label,columns=class_label)\n",
    "sns.heatmap(df,annot=True,fmt='d')\n",
    "plt.title(\"Confusion Matrix\")\n",
    "plt.xlabel(\"Predicted Label\")\n",
    "plt.ylabel(\"True Label\")\n",
    "plt.show()"
   ]
  },
  {
   "cell_type": "code",
   "execution_count": 46,
   "metadata": {
    "execution": {
     "iopub.execute_input": "2021-02-09T17:26:28.090109Z",
     "iopub.status.busy": "2021-02-09T17:26:28.089436Z",
     "iopub.status.idle": "2021-02-09T17:26:32.688827Z",
     "shell.execute_reply": "2021-02-09T17:26:32.689338Z"
    },
    "papermill": {
     "duration": 6.209445,
     "end_time": "2021-02-09T17:26:32.689526",
     "exception": false,
     "start_time": "2021-02-09T17:26:26.480081",
     "status": "completed"
    },
    "tags": []
   },
   "outputs": [
    {
     "data": {
      "text/html": [
       "<div>\n",
       "<style scoped>\n",
       "    .dataframe tbody tr th:only-of-type {\n",
       "        vertical-align: middle;\n",
       "    }\n",
       "\n",
       "    .dataframe tbody tr th {\n",
       "        vertical-align: top;\n",
       "    }\n",
       "\n",
       "    .dataframe thead th {\n",
       "        text-align: right;\n",
       "    }\n",
       "</style>\n",
       "<table border=\"1\" class=\"dataframe\">\n",
       "  <thead>\n",
       "    <tr style=\"text-align: right;\">\n",
       "      <th></th>\n",
       "      <th>Pos_Words</th>\n",
       "      <th>Pos_Importance</th>\n",
       "      <th>Neg_Words</th>\n",
       "      <th>Neg_Importance</th>\n",
       "    </tr>\n",
       "  </thead>\n",
       "  <tbody>\n",
       "    <tr>\n",
       "      <th>0</th>\n",
       "      <td>not</td>\n",
       "      <td>-1.119969</td>\n",
       "      <td>not</td>\n",
       "      <td>-0.578240</td>\n",
       "    </tr>\n",
       "    <tr>\n",
       "      <th>1</th>\n",
       "      <td>like</td>\n",
       "      <td>-1.177280</td>\n",
       "      <td>tast</td>\n",
       "      <td>-0.988831</td>\n",
       "    </tr>\n",
       "    <tr>\n",
       "      <th>2</th>\n",
       "      <td>tast</td>\n",
       "      <td>-1.203192</td>\n",
       "      <td>like</td>\n",
       "      <td>-1.006720</td>\n",
       "    </tr>\n",
       "    <tr>\n",
       "      <th>3</th>\n",
       "      <td>love</td>\n",
       "      <td>-1.271797</td>\n",
       "      <td>product</td>\n",
       "      <td>-1.184695</td>\n",
       "    </tr>\n",
       "    <tr>\n",
       "      <th>4</th>\n",
       "      <td>good</td>\n",
       "      <td>-1.276169</td>\n",
       "      <td>one</td>\n",
       "      <td>-1.363367</td>\n",
       "    </tr>\n",
       "    <tr>\n",
       "      <th>5</th>\n",
       "      <td>great</td>\n",
       "      <td>-1.297450</td>\n",
       "      <td>would</td>\n",
       "      <td>-1.420311</td>\n",
       "    </tr>\n",
       "    <tr>\n",
       "      <th>6</th>\n",
       "      <td>flavor</td>\n",
       "      <td>-1.416820</td>\n",
       "      <td>tri</td>\n",
       "      <td>-1.477705</td>\n",
       "    </tr>\n",
       "    <tr>\n",
       "      <th>7</th>\n",
       "      <td>one</td>\n",
       "      <td>-1.463273</td>\n",
       "      <td>flavor</td>\n",
       "      <td>-1.551704</td>\n",
       "    </tr>\n",
       "    <tr>\n",
       "      <th>8</th>\n",
       "      <td>use</td>\n",
       "      <td>-1.483584</td>\n",
       "      <td>good</td>\n",
       "      <td>-1.557643</td>\n",
       "    </tr>\n",
       "    <tr>\n",
       "      <th>9</th>\n",
       "      <td>product</td>\n",
       "      <td>-1.527362</td>\n",
       "      <td>buy</td>\n",
       "      <td>-1.597572</td>\n",
       "    </tr>\n",
       "  </tbody>\n",
       "</table>\n",
       "</div>"
      ],
      "text/plain": [
       "  Pos_Words  Pos_Importance Neg_Words  Neg_Importance\n",
       "0       not       -1.119969       not       -0.578240\n",
       "1      like       -1.177280      tast       -0.988831\n",
       "2      tast       -1.203192      like       -1.006720\n",
       "3      love       -1.271797   product       -1.184695\n",
       "4      good       -1.276169       one       -1.363367\n",
       "5     great       -1.297450     would       -1.420311\n",
       "6    flavor       -1.416820       tri       -1.477705\n",
       "7       one       -1.463273    flavor       -1.551704\n",
       "8       use       -1.483584      good       -1.557643\n",
       "9   product       -1.527362       buy       -1.597572"
      ]
     },
     "execution_count": 46,
     "metadata": {},
     "output_type": "execute_result"
    }
   ],
   "source": [
    "#Top feature\n",
    "neg=b_nb_optimal_model.feature_log_prob_[0,:].argsort()\n",
    "pos=b_nb_optimal_model.feature_log_prob_[1,:].argsort()\n",
    "top_pos_words=np.take(tf_idf_vect.get_feature_names(),pos)\n",
    "top_neg_words=np.take(tf_idf_vect.get_feature_names(),neg)\n",
    "imp_df=pd.DataFrame(columns=['Pos_Words','Pos_Importance','Neg_Words','Neg_Importance'])\n",
    "imp_df['Pos_Words']=top_pos_words[::-1]\n",
    "imp_df['Pos_Importance']= np.take(b_nb_optimal_model.feature_log_prob_[1,:],pos)[::-1]\n",
    "imp_df['Neg_Words']=top_neg_words[::-1]\n",
    "imp_df['Neg_Importance']= np.take(b_nb_optimal_model.feature_log_prob_[0,:],neg)[::-1]\n",
    "imp_df.head(10)"
   ]
  },
  {
   "cell_type": "code",
   "execution_count": 47,
   "metadata": {
    "execution": {
     "iopub.execute_input": "2021-02-09T17:26:36.011951Z",
     "iopub.status.busy": "2021-02-09T17:26:36.011094Z",
     "iopub.status.idle": "2021-02-09T17:26:36.014400Z",
     "shell.execute_reply": "2021-02-09T17:26:36.014909Z"
    },
    "papermill": {
     "duration": 1.623574,
     "end_time": "2021-02-09T17:26:36.015090",
     "exception": false,
     "start_time": "2021-02-09T17:26:34.391516",
     "status": "completed"
    },
    "tags": []
   },
   "outputs": [
    {
     "name": "stdout",
     "output_type": "stream",
     "text": [
      "****Final Conclusion:****\n",
      "+------------+---------------+-----------------------------+--------------------+\n",
      "| Vectorizer |     Model     | Best hyper parameter(alpha) |   Test Auc Score   |\n",
      "+------------+---------------+-----------------------------+--------------------+\n",
      "|    BoW     | MultinomialNB |              1              | 0.9391294487384737 |\n",
      "|   Tf-Idf   | MultinomialNB |              1              | 0.9583785040231618 |\n",
      "|    BoW     |  BernoulliNB  |              1              | 0.9238908301539613 |\n",
      "|   Tf-Idf   |  BernoulliNB  |              1              | 0.9487151449429793 |\n",
      "+------------+---------------+-----------------------------+--------------------+\n"
     ]
    }
   ],
   "source": [
    "from prettytable import PrettyTable\n",
    "\n",
    "x = PrettyTable()\n",
    "x.field_names = [\"Vectorizer\", \"Model\", \"Best hyper parameter(alpha)\",\"Test Auc Score\"]\n",
    "x.add_row([\"BoW\",\"MultinomialNB\",1 , 0.9391294487384737])\n",
    "x.add_row([\"Tf-Idf\",\"MultinomialNB\",1,0.9583785040231618])\n",
    "x.add_row([\"BoW\",\"BernoulliNB\",1 , 0.9238908301539613])\n",
    "x.add_row([\"Tf-Idf\",\"BernoulliNB\",1,0.9487151449429793])\n",
    "print('****Final Conclusion:****')\n",
    "print(x)"
   ]
  },
  {
   "cell_type": "markdown",
   "metadata": {
    "papermill": {
     "duration": 1.612438,
     "end_time": "2021-02-09T17:26:39.234871",
     "exception": false,
     "start_time": "2021-02-09T17:26:37.622433",
     "status": "completed"
    },
    "tags": []
   },
   "source": [
    "1. **Naive bayes is much better model than Knn model for Text classification for Amazon fine food data**\n",
    "\n",
    "1. **When we are train Model with review and summary data as training data, then we are getting slightly higher accuracy than Only Review data as training data.So Feature engineering for Concatenating Summary data into review data work here**\n",
    "\n",
    "1. **Naive Bayes with Bow model has more accuracy than TfIdf model here.**\n",
    "\n",
    "1. **Naive Bayes with Bow model has optimal value of alpha 1.0 where as Naive Bayes with TfIdf model has optimal value of alpha is 0.1.So for diiferent vectorization of text optimal value may differ.**"
   ]
  },
  {
   "cell_type": "code",
   "execution_count": null,
   "metadata": {
    "papermill": {
     "duration": 1.612746,
     "end_time": "2021-02-09T17:26:42.501646",
     "exception": false,
     "start_time": "2021-02-09T17:26:40.888900",
     "status": "completed"
    },
    "tags": []
   },
   "outputs": [],
   "source": []
  }
 ],
 "metadata": {
  "kernelspec": {
   "display_name": "Python 3",
   "language": "python",
   "name": "python3"
  },
  "language_info": {
   "codemirror_mode": {
    "name": "ipython",
    "version": 3
   },
   "file_extension": ".py",
   "mimetype": "text/x-python",
   "name": "python",
   "nbconvert_exporter": "python",
   "pygments_lexer": "ipython3",
   "version": "3.7.9"
  },
  "papermill": {
   "default_parameters": {},
   "duration": 868.537961,
   "end_time": "2021-02-09T17:26:46.033288",
   "environment_variables": {},
   "exception": null,
   "input_path": "__notebook__.ipynb",
   "output_path": "__notebook__.ipynb",
   "parameters": {},
   "start_time": "2021-02-09T17:12:17.495327",
   "version": "2.2.2"
  }
 },
 "nbformat": 4,
 "nbformat_minor": 4
}
