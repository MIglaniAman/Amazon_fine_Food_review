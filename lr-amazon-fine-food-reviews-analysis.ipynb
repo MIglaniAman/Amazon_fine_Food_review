{
 "cells": [
  {
   "cell_type": "code",
   "execution_count": null,
   "metadata": {},
   "outputs": [],
   "source": [
    "%config Completer.use_jedi = False"
   ]
  },
  {
   "cell_type": "markdown",
   "metadata": {},
   "source": [
    "# Logistic Regression on  Amazon Fine food Review \n",
    "The Amazon fine food dataset consists of reviews of fine foods from amazon\n",
    "All data in one sqlite database. 568,454 food reviews Amazon users left up to October 2012\n",
    "Data includes:\n",
    "\n",
    "* Number of reviews :  568,454 reviews\n",
    "* Number of user : 256,059 users\n",
    "* Total Number of Producst : 74,258 products\n",
    "* Time Span of taking Reviews : from Oct 1999 - Oct 2012\n",
    "* Number of Columns/fields : 10\n",
    "\n",
    "***Attributes Information :***\n",
    "1. Id : Row Id\n",
    "1. ProductId :Unique identifier for the product (74258 unique values)\n",
    "1. UserId :Unqiue identifier for the user (256059 unique values)\n",
    "1. ProfileName : Profile name of the user (218418 unique values )\n",
    "1. HelpfulnessNumerator : Number of users who found the review helpful \n",
    "1. HelpfulnessDenominator : Number of users who indicated whether they found the review helpful or not \n",
    "1. Score : Rating between 1 and 5\n",
    "1. Time : Timestamp for the review\n",
    "1. Summary : Brief summary of the review (295744 unique values)\n",
    "1. Text : Text of the review (393579 unique values)\n",
    "\n",
    "> **Objective :** *Given a review ,determine whether a review is postive or negative*\n",
    "\n",
    "**Q].** *How to determine if a review is postive or negative?*\n",
    "\n",
    "**Ans.** We can use the Score/rating. A rating of 4 or 5 could be considered as positive review & A rating of 1 or 2 can be consider as negative review . A rating of 3 can be consider as neutral and can be ignored . This is the approximation and proxy way to approach way of determing the polarity(positivity/negativity) of reviews."
   ]
  },
  {
   "cell_type": "markdown",
   "metadata": {},
   "source": [
    "# Loadig the data \n",
    "The dataset is available in two forms\n",
    "1. .csv form\n",
    "2. Sqlite Database\n",
    "\n",
    "In order to load the database ,I have use the Sqlite Database as it easier to query the data and visualise the data sufficienlty . Here as we only want to get the global sentiment of the recommnedation(Positive/Negative), We will purposefully ignore all the scores equal to 3 ,If the Score is above 3 then the reviews will be \"Positive\",Otherwise it will \"Negative\"."
   ]
  },
  {
   "cell_type": "markdown",
   "metadata": {},
   "source": [
    "# Importing important library"
   ]
  },
  {
   "cell_type": "code",
   "execution_count": 1,
   "metadata": {},
   "outputs": [],
   "source": [
    "%matplotlib inline\n",
    "import warnings\n",
    "warnings.filterwarnings('ignore')\n",
    "\n",
    "import sqlite3\n",
    "import pandas as pd\n",
    "import numpy as np\n",
    "import seaborn as sns\n",
    "import matplotlib.pyplot as plt\n",
    "\n",
    "from sklearn.feature_extraction.text import TfidfVectorizer\n",
    "from sklearn.feature_extraction.text import CountVectorizer\n",
    "#mterics \n",
    "from sklearn import metrics\n",
    "from sklearn.metrics import accuracy_score\n",
    "from sklearn.metrics import confusion_matrix\n",
    "from sklearn.metrics import precision_score\n",
    "from sklearn.metrics import f1_score\n",
    "from sklearn.metrics import recall_score\n",
    "from sklearn.metrics import confusion_matrix \n",
    "from sklearn.metrics import roc_auc_score\n",
    "\n",
    "import string\n",
    "import nltk\n",
    "from nltk.stem import SnowballStemmer\n",
    "from nltk.stem import PorterStemmer\n",
    "from nltk.stem.wordnet import WordNetLemmatizer\n",
    "from nltk.corpus import stopwords\n",
    "\n",
    "import gensim\n",
    "from gensim.models import KeyedVectors\n",
    "from gensim.models import Word2Vec\n",
    "\n",
    "import os\n",
    "import pickle \n",
    "from tqdm import tqdm\n"
   ]
  },
  {
   "cell_type": "markdown",
   "metadata": {},
   "source": [
    "# Readind Data from Sqlite database"
   ]
  },
  {
   "cell_type": "code",
   "execution_count": 3,
   "metadata": {},
   "outputs": [
    {
     "name": "stdout",
     "output_type": "stream",
     "text": [
      "No. of data points in Dataset: (525814, 10)\n"
     ]
    },
    {
     "data": {
      "text/html": [
       "<div>\n",
       "<style scoped>\n",
       "    .dataframe tbody tr th:only-of-type {\n",
       "        vertical-align: middle;\n",
       "    }\n",
       "\n",
       "    .dataframe tbody tr th {\n",
       "        vertical-align: top;\n",
       "    }\n",
       "\n",
       "    .dataframe thead th {\n",
       "        text-align: right;\n",
       "    }\n",
       "</style>\n",
       "<table border=\"1\" class=\"dataframe\">\n",
       "  <thead>\n",
       "    <tr style=\"text-align: right;\">\n",
       "      <th></th>\n",
       "      <th>Id</th>\n",
       "      <th>ProductId</th>\n",
       "      <th>UserId</th>\n",
       "      <th>ProfileName</th>\n",
       "      <th>HelpfulnessNumerator</th>\n",
       "      <th>HelpfulnessDenominator</th>\n",
       "      <th>Score</th>\n",
       "      <th>Time</th>\n",
       "      <th>Summary</th>\n",
       "      <th>Text</th>\n",
       "    </tr>\n",
       "  </thead>\n",
       "  <tbody>\n",
       "    <tr>\n",
       "      <th>0</th>\n",
       "      <td>1</td>\n",
       "      <td>B001E4KFG0</td>\n",
       "      <td>A3SGXH7AUHU8GW</td>\n",
       "      <td>delmartian</td>\n",
       "      <td>1</td>\n",
       "      <td>1</td>\n",
       "      <td>1</td>\n",
       "      <td>1303862400</td>\n",
       "      <td>Good Quality Dog Food</td>\n",
       "      <td>I have bought several of the Vitality canned d...</td>\n",
       "    </tr>\n",
       "    <tr>\n",
       "      <th>1</th>\n",
       "      <td>2</td>\n",
       "      <td>B00813GRG4</td>\n",
       "      <td>A1D87F6ZCVE5NK</td>\n",
       "      <td>dll pa</td>\n",
       "      <td>0</td>\n",
       "      <td>0</td>\n",
       "      <td>0</td>\n",
       "      <td>1346976000</td>\n",
       "      <td>Not as Advertised</td>\n",
       "      <td>Product arrived labeled as Jumbo Salted Peanut...</td>\n",
       "    </tr>\n",
       "    <tr>\n",
       "      <th>2</th>\n",
       "      <td>3</td>\n",
       "      <td>B000LQOCH0</td>\n",
       "      <td>ABXLMWJIXXAIN</td>\n",
       "      <td>Natalia Corres \"Natalia Corres\"</td>\n",
       "      <td>1</td>\n",
       "      <td>1</td>\n",
       "      <td>1</td>\n",
       "      <td>1219017600</td>\n",
       "      <td>\"Delight\" says it all</td>\n",
       "      <td>This is a confection that has been around a fe...</td>\n",
       "    </tr>\n",
       "  </tbody>\n",
       "</table>\n",
       "</div>"
      ],
      "text/plain": [
       "   Id   ProductId          UserId                      ProfileName  \\\n",
       "0   1  B001E4KFG0  A3SGXH7AUHU8GW                       delmartian   \n",
       "1   2  B00813GRG4  A1D87F6ZCVE5NK                           dll pa   \n",
       "2   3  B000LQOCH0   ABXLMWJIXXAIN  Natalia Corres \"Natalia Corres\"   \n",
       "\n",
       "   HelpfulnessNumerator  HelpfulnessDenominator  Score        Time  \\\n",
       "0                     1                       1      1  1303862400   \n",
       "1                     0                       0      0  1346976000   \n",
       "2                     1                       1      1  1219017600   \n",
       "\n",
       "                 Summary                                               Text  \n",
       "0  Good Quality Dog Food  I have bought several of the Vitality canned d...  \n",
       "1      Not as Advertised  Product arrived labeled as Jumbo Salted Peanut...  \n",
       "2  \"Delight\" says it all  This is a confection that has been around a fe...  "
      ]
     },
     "execution_count": 3,
     "metadata": {},
     "output_type": "execute_result"
    }
   ],
   "source": [
    "#Using the sqlite table to read data\n",
    "con = sqlite3.connect('database.sqlite')\n",
    "# Filtering only Positive and Negative Reviews i.e not taking into consideration those reviews with score=3\n",
    "filtered_data= pd.read_sql_query(\"\"\"SELECT * FROM Reviews WHERE Score!=3\"\"\",con)\n",
    "#Given reviews with score>3 a postive rating \"1\" and reviews with score <3 a negative \"0\"\n",
    "#constucting a function\n",
    "def partition(x):\n",
    "    if x<3:\n",
    "        return 0\n",
    "    return 1\n",
    "#Changing reviews with score<3 to be negative \"0\" and score > 3 to be positive \"1\"\n",
    "actualscore=filtered_data['Score']\n",
    "Positve_Negative=actualscore.map(partition)\n",
    "filtered_data['Score']=Positve_Negative\n",
    "print(\"No. of data points in Dataset:\",filtered_data.shape)\n",
    "filtered_data.head(3)\n"
   ]
  },
  {
   "cell_type": "markdown",
   "metadata": {},
   "source": [
    "# Exploratory Data Analysis\n",
    "\n",
    "### Data Deduplication{The most important part of cleaning data}\n",
    "It was observes that(as shown in table below) that the reviews data had many deduplicates entries .Hence it is neccessary to remove the deduplication in order to get unbaised results for the Analysis of the data.\n",
    "Following is the example given below"
   ]
  },
  {
   "cell_type": "code",
   "execution_count": 4,
   "metadata": {},
   "outputs": [
    {
     "data": {
      "text/html": [
       "<div>\n",
       "<style scoped>\n",
       "    .dataframe tbody tr th:only-of-type {\n",
       "        vertical-align: middle;\n",
       "    }\n",
       "\n",
       "    .dataframe tbody tr th {\n",
       "        vertical-align: top;\n",
       "    }\n",
       "\n",
       "    .dataframe thead th {\n",
       "        text-align: right;\n",
       "    }\n",
       "</style>\n",
       "<table border=\"1\" class=\"dataframe\">\n",
       "  <thead>\n",
       "    <tr style=\"text-align: right;\">\n",
       "      <th></th>\n",
       "      <th>Id</th>\n",
       "      <th>ProductId</th>\n",
       "      <th>UserId</th>\n",
       "      <th>ProfileName</th>\n",
       "      <th>HelpfulnessNumerator</th>\n",
       "      <th>HelpfulnessDenominator</th>\n",
       "      <th>Score</th>\n",
       "      <th>Time</th>\n",
       "      <th>Summary</th>\n",
       "      <th>Text</th>\n",
       "    </tr>\n",
       "  </thead>\n",
       "  <tbody>\n",
       "    <tr>\n",
       "      <th>0</th>\n",
       "      <td>78445</td>\n",
       "      <td>B000HDL1RQ</td>\n",
       "      <td>AR5J8UI46CURR</td>\n",
       "      <td>Geetha Krishnan</td>\n",
       "      <td>2</td>\n",
       "      <td>2</td>\n",
       "      <td>5</td>\n",
       "      <td>1199577600</td>\n",
       "      <td>LOACKER QUADRATINI VANILLA WAFERS</td>\n",
       "      <td>DELICIOUS WAFERS. I FIND THAT EUROPEAN WAFERS ...</td>\n",
       "    </tr>\n",
       "    <tr>\n",
       "      <th>1</th>\n",
       "      <td>138317</td>\n",
       "      <td>B000HDOPYC</td>\n",
       "      <td>AR5J8UI46CURR</td>\n",
       "      <td>Geetha Krishnan</td>\n",
       "      <td>2</td>\n",
       "      <td>2</td>\n",
       "      <td>5</td>\n",
       "      <td>1199577600</td>\n",
       "      <td>LOACKER QUADRATINI VANILLA WAFERS</td>\n",
       "      <td>DELICIOUS WAFERS. I FIND THAT EUROPEAN WAFERS ...</td>\n",
       "    </tr>\n",
       "    <tr>\n",
       "      <th>2</th>\n",
       "      <td>138277</td>\n",
       "      <td>B000HDOPYM</td>\n",
       "      <td>AR5J8UI46CURR</td>\n",
       "      <td>Geetha Krishnan</td>\n",
       "      <td>2</td>\n",
       "      <td>2</td>\n",
       "      <td>5</td>\n",
       "      <td>1199577600</td>\n",
       "      <td>LOACKER QUADRATINI VANILLA WAFERS</td>\n",
       "      <td>DELICIOUS WAFERS. I FIND THAT EUROPEAN WAFERS ...</td>\n",
       "    </tr>\n",
       "    <tr>\n",
       "      <th>3</th>\n",
       "      <td>73791</td>\n",
       "      <td>B000HDOPZG</td>\n",
       "      <td>AR5J8UI46CURR</td>\n",
       "      <td>Geetha Krishnan</td>\n",
       "      <td>2</td>\n",
       "      <td>2</td>\n",
       "      <td>5</td>\n",
       "      <td>1199577600</td>\n",
       "      <td>LOACKER QUADRATINI VANILLA WAFERS</td>\n",
       "      <td>DELICIOUS WAFERS. I FIND THAT EUROPEAN WAFERS ...</td>\n",
       "    </tr>\n",
       "    <tr>\n",
       "      <th>4</th>\n",
       "      <td>155049</td>\n",
       "      <td>B000PAQ75C</td>\n",
       "      <td>AR5J8UI46CURR</td>\n",
       "      <td>Geetha Krishnan</td>\n",
       "      <td>2</td>\n",
       "      <td>2</td>\n",
       "      <td>5</td>\n",
       "      <td>1199577600</td>\n",
       "      <td>LOACKER QUADRATINI VANILLA WAFERS</td>\n",
       "      <td>DELICIOUS WAFERS. I FIND THAT EUROPEAN WAFERS ...</td>\n",
       "    </tr>\n",
       "  </tbody>\n",
       "</table>\n",
       "</div>"
      ],
      "text/plain": [
       "       Id   ProductId         UserId      ProfileName  HelpfulnessNumerator  \\\n",
       "0   78445  B000HDL1RQ  AR5J8UI46CURR  Geetha Krishnan                     2   \n",
       "1  138317  B000HDOPYC  AR5J8UI46CURR  Geetha Krishnan                     2   \n",
       "2  138277  B000HDOPYM  AR5J8UI46CURR  Geetha Krishnan                     2   \n",
       "3   73791  B000HDOPZG  AR5J8UI46CURR  Geetha Krishnan                     2   \n",
       "4  155049  B000PAQ75C  AR5J8UI46CURR  Geetha Krishnan                     2   \n",
       "\n",
       "   HelpfulnessDenominator  Score        Time  \\\n",
       "0                       2      5  1199577600   \n",
       "1                       2      5  1199577600   \n",
       "2                       2      5  1199577600   \n",
       "3                       2      5  1199577600   \n",
       "4                       2      5  1199577600   \n",
       "\n",
       "                             Summary  \\\n",
       "0  LOACKER QUADRATINI VANILLA WAFERS   \n",
       "1  LOACKER QUADRATINI VANILLA WAFERS   \n",
       "2  LOACKER QUADRATINI VANILLA WAFERS   \n",
       "3  LOACKER QUADRATINI VANILLA WAFERS   \n",
       "4  LOACKER QUADRATINI VANILLA WAFERS   \n",
       "\n",
       "                                                Text  \n",
       "0  DELICIOUS WAFERS. I FIND THAT EUROPEAN WAFERS ...  \n",
       "1  DELICIOUS WAFERS. I FIND THAT EUROPEAN WAFERS ...  \n",
       "2  DELICIOUS WAFERS. I FIND THAT EUROPEAN WAFERS ...  \n",
       "3  DELICIOUS WAFERS. I FIND THAT EUROPEAN WAFERS ...  \n",
       "4  DELICIOUS WAFERS. I FIND THAT EUROPEAN WAFERS ...  "
      ]
     },
     "execution_count": 4,
     "metadata": {},
     "output_type": "execute_result"
    }
   ],
   "source": [
    "display= pd.read_sql_query(\"\"\"SELECT * FROM Reviews WHERE Score !=3 AND UserId ='AR5J8UI46CURR' ORDER BY ProductId \"\"\",con)\n",
    "display"
   ]
  },
  {
   "cell_type": "markdown",
   "metadata": {},
   "source": [
    "**As it can be seen above the same user has multiple reviews of the same values for HelpfulnessNumerator, HelpfulnessDenominator, Score, Time, Summary and Text and on doing analysis it was found that ProductId=B000HDOPZG was Loacker Quadratini Vanilla Wafer Cookies, 8.82-Ounce Packages (Pack of 8)**\n",
    "\n",
    "**ProductId=B000HDL1RQ was Loacker Quadratini Lemon Wafer Cookies, 8.82-Ounce Packages (Pack of 8) and so on**\n",
    "\n",
    "**It was inferred after analysis that reviews with same parameters other than ProductId belonged to the same product just having different flavour or quantity. Hence in order to reduce redundancy it was decided to eliminate the rows having same parameters.**\n",
    "\n",
    "**The method used for the same was that we first sort the data according to ProductId and then just keep the first similar product review and delelte the others. for eg. in the above just the review for ProductId=B000HDL1RQ remains. This method ensures that there is only one representative for each product and deduplication without sorting would lead to possibility of different representatives still existing for the same product**"
   ]
  },
  {
   "cell_type": "code",
   "execution_count": 5,
   "metadata": {},
   "outputs": [],
   "source": [
    "#Sorting data according to ProductId in ascending order\n",
    "sorted_data=filtered_data.sort_values(\"ProductId\",axis=0,ascending=True,inplace=False,kind='quicksort',na_position='last')"
   ]
  },
  {
   "cell_type": "code",
   "execution_count": 6,
   "metadata": {},
   "outputs": [
    {
     "data": {
      "text/plain": [
       "(364173, 10)"
      ]
     },
     "execution_count": 6,
     "metadata": {},
     "output_type": "execute_result"
    }
   ],
   "source": [
    "#Deduplication entries\n",
    "final_data=sorted_data.drop_duplicates(subset={\"UserId\",\"ProfileName\",\"Time\",\"Text\"},keep='first',inplace=False)\n",
    "final_data.shape"
   ]
  },
  {
   "cell_type": "code",
   "execution_count": 7,
   "metadata": {},
   "outputs": [
    {
     "name": "stdout",
     "output_type": "stream",
     "text": [
      "The total data remain after cleaning data  69.25890143662969\n"
     ]
    }
   ],
   "source": [
    "#Checking to see how much % of data still remains\n",
    "print('The total data remain after cleaning data ',(final_data['Id'].size*1.0)/(filtered_data['Id'].size*1.0)*100)"
   ]
  },
  {
   "cell_type": "code",
   "execution_count": 8,
   "metadata": {},
   "outputs": [
    {
     "data": {
      "text/html": [
       "<div>\n",
       "<style scoped>\n",
       "    .dataframe tbody tr th:only-of-type {\n",
       "        vertical-align: middle;\n",
       "    }\n",
       "\n",
       "    .dataframe tbody tr th {\n",
       "        vertical-align: top;\n",
       "    }\n",
       "\n",
       "    .dataframe thead th {\n",
       "        text-align: right;\n",
       "    }\n",
       "</style>\n",
       "<table border=\"1\" class=\"dataframe\">\n",
       "  <thead>\n",
       "    <tr style=\"text-align: right;\">\n",
       "      <th></th>\n",
       "      <th>Id</th>\n",
       "      <th>ProductId</th>\n",
       "      <th>UserId</th>\n",
       "      <th>ProfileName</th>\n",
       "      <th>HelpfulnessNumerator</th>\n",
       "      <th>HelpfulnessDenominator</th>\n",
       "      <th>Score</th>\n",
       "      <th>Time</th>\n",
       "      <th>Summary</th>\n",
       "      <th>Text</th>\n",
       "    </tr>\n",
       "  </thead>\n",
       "  <tbody>\n",
       "    <tr>\n",
       "      <th>59301</th>\n",
       "      <td>64422</td>\n",
       "      <td>B000MIDROQ</td>\n",
       "      <td>A161DK06JJMCYF</td>\n",
       "      <td>J. E. Stephens \"Jeanne\"</td>\n",
       "      <td>3</td>\n",
       "      <td>1</td>\n",
       "      <td>1</td>\n",
       "      <td>1224892800</td>\n",
       "      <td>Bought This for My Son at College</td>\n",
       "      <td>My son loves spaghetti so I didn't hesitate or...</td>\n",
       "    </tr>\n",
       "    <tr>\n",
       "      <th>41159</th>\n",
       "      <td>44737</td>\n",
       "      <td>B001EQ55RW</td>\n",
       "      <td>A2V0I904FH7ABY</td>\n",
       "      <td>Ram</td>\n",
       "      <td>3</td>\n",
       "      <td>2</td>\n",
       "      <td>1</td>\n",
       "      <td>1212883200</td>\n",
       "      <td>Pure cocoa taste with crunchy almonds inside</td>\n",
       "      <td>It was almost a 'love at first bite' - the per...</td>\n",
       "    </tr>\n",
       "  </tbody>\n",
       "</table>\n",
       "</div>"
      ],
      "text/plain": [
       "          Id   ProductId          UserId              ProfileName  \\\n",
       "59301  64422  B000MIDROQ  A161DK06JJMCYF  J. E. Stephens \"Jeanne\"   \n",
       "41159  44737  B001EQ55RW  A2V0I904FH7ABY                      Ram   \n",
       "\n",
       "       HelpfulnessNumerator  HelpfulnessDenominator  Score        Time  \\\n",
       "59301                     3                       1      1  1224892800   \n",
       "41159                     3                       2      1  1212883200   \n",
       "\n",
       "                                            Summary  \\\n",
       "59301             Bought This for My Son at College   \n",
       "41159  Pure cocoa taste with crunchy almonds inside   \n",
       "\n",
       "                                                    Text  \n",
       "59301  My son loves spaghetti so I didn't hesitate or...  \n",
       "41159  It was almost a 'love at first bite' - the per...  "
      ]
     },
     "execution_count": 8,
     "metadata": {},
     "output_type": "execute_result"
    }
   ],
   "source": [
    "final_data[final_data['HelpfulnessNumerator']>final_data['HelpfulnessDenominator']]"
   ]
  },
  {
   "cell_type": "code",
   "execution_count": 9,
   "metadata": {},
   "outputs": [
    {
     "data": {
      "text/html": [
       "<div>\n",
       "<style scoped>\n",
       "    .dataframe tbody tr th:only-of-type {\n",
       "        vertical-align: middle;\n",
       "    }\n",
       "\n",
       "    .dataframe tbody tr th {\n",
       "        vertical-align: top;\n",
       "    }\n",
       "\n",
       "    .dataframe thead th {\n",
       "        text-align: right;\n",
       "    }\n",
       "</style>\n",
       "<table border=\"1\" class=\"dataframe\">\n",
       "  <thead>\n",
       "    <tr style=\"text-align: right;\">\n",
       "      <th></th>\n",
       "      <th>Id</th>\n",
       "      <th>ProductId</th>\n",
       "      <th>UserId</th>\n",
       "      <th>ProfileName</th>\n",
       "      <th>HelpfulnessNumerator</th>\n",
       "      <th>HelpfulnessDenominator</th>\n",
       "      <th>Score</th>\n",
       "      <th>Time</th>\n",
       "      <th>Summary</th>\n",
       "      <th>Text</th>\n",
       "    </tr>\n",
       "  </thead>\n",
       "  <tbody>\n",
       "    <tr>\n",
       "      <th>0</th>\n",
       "      <td>64422</td>\n",
       "      <td>B000MIDROQ</td>\n",
       "      <td>A161DK06JJMCYF</td>\n",
       "      <td>J. E. Stephens \"Jeanne\"</td>\n",
       "      <td>3</td>\n",
       "      <td>1</td>\n",
       "      <td>5</td>\n",
       "      <td>1224892800</td>\n",
       "      <td>Bought This for My Son at College</td>\n",
       "      <td>My son loves spaghetti so I didn't hesitate or...</td>\n",
       "    </tr>\n",
       "    <tr>\n",
       "      <th>1</th>\n",
       "      <td>44737</td>\n",
       "      <td>B001EQ55RW</td>\n",
       "      <td>A2V0I904FH7ABY</td>\n",
       "      <td>Ram</td>\n",
       "      <td>3</td>\n",
       "      <td>2</td>\n",
       "      <td>4</td>\n",
       "      <td>1212883200</td>\n",
       "      <td>Pure cocoa taste with crunchy almonds inside</td>\n",
       "      <td>It was almost a 'love at first bite' - the per...</td>\n",
       "    </tr>\n",
       "  </tbody>\n",
       "</table>\n",
       "</div>"
      ],
      "text/plain": [
       "      Id   ProductId          UserId              ProfileName  \\\n",
       "0  64422  B000MIDROQ  A161DK06JJMCYF  J. E. Stephens \"Jeanne\"   \n",
       "1  44737  B001EQ55RW  A2V0I904FH7ABY                      Ram   \n",
       "\n",
       "   HelpfulnessNumerator  HelpfulnessDenominator  Score        Time  \\\n",
       "0                     3                       1      5  1224892800   \n",
       "1                     3                       2      4  1212883200   \n",
       "\n",
       "                                        Summary  \\\n",
       "0             Bought This for My Son at College   \n",
       "1  Pure cocoa taste with crunchy almonds inside   \n",
       "\n",
       "                                                Text  \n",
       "0  My son loves spaghetti so I didn't hesitate or...  \n",
       "1  It was almost a 'love at first bite' - the per...  "
      ]
     },
     "execution_count": 9,
     "metadata": {},
     "output_type": "execute_result"
    }
   ],
   "source": [
    "display=pd.read_sql_query(\"\"\"SELECT * FROM Reviews WHERE Score!=3 AND Id=44737 OR Id=64422\n",
    "ORDER BY ProductID\"\"\",con)\n",
    "display.head()"
   ]
  },
  {
   "cell_type": "markdown",
   "metadata": {},
   "source": [
    "**Observation:** It was seen that in 2 rows given above the value of HelpfullnessNumerator is Greater than HelpfullnessDenominator which is not practically hence such rows are too removed from dataset"
   ]
  },
  {
   "cell_type": "code",
   "execution_count": 10,
   "metadata": {},
   "outputs": [
    {
     "data": {
      "text/plain": [
       "(364171, 10)"
      ]
     },
     "execution_count": 10,
     "metadata": {},
     "output_type": "execute_result"
    }
   ],
   "source": [
    "final_data=final_data[final_data['HelpfulnessNumerator']<=final_data['HelpfulnessDenominator']]\n",
    "final_data.shape"
   ]
  },
  {
   "cell_type": "code",
   "execution_count": 11,
   "metadata": {},
   "outputs": [
    {
     "name": "stdout",
     "output_type": "stream",
     "text": [
      "(364171, 10)\n"
     ]
    },
    {
     "data": {
      "image/png": "[encoded data removed]",
      "text/plain": [
       "<Figure size 432x288 with 1 Axes>"
      ]
     },
     "metadata": {
      "needs_background": "light"
     },
     "output_type": "display_data"
    },
    {
     "data": {
      "text/plain": [
       "<matplotlib.axes._subplots.AxesSubplot at 0x23bf9cd8b08>"
      ]
     },
     "execution_count": 11,
     "metadata": {},
     "output_type": "execute_result"
    },
    {
     "data": {
      "image/png": "[encoded data removed]",
      "text/plain": [
       "<Figure size 432x288 with 1 Axes>"
      ]
     },
     "metadata": {
      "needs_background": "light"
     },
     "output_type": "display_data"
    }
   ],
   "source": [
    "# before starting the next phase of text preprocessing lets see the no. of entries left\n",
    "print(final_data.shape)\n",
    "#How many positive and negative reviews are present in our dataset?\n",
    "final_data['Score'].value_counts()\n",
    "sns.countplot(final_data['Score'])\n",
    "plt.show()\n",
    "sns.countplot(data=final_data,y='Score')"
   ]
  },
  {
   "cell_type": "markdown",
   "metadata": {},
   "source": [
    "# Text Preprocessing\n",
    "**Now we have finished deduplication. Now our data requires some preprocessing before we go on futher anlysis and make the prediction model Hence in the preprocessing phase we do the following steps given below**\n",
    "\n",
    "1. Begin by removing html tags\n",
    "1. Removing any punctution or limited set of special character:like ,or . or # etc\n",
    "1. Check the words is made up of english letters and is not alpha-numeric\n",
    "1. Check to see if the length of the words is greater than 2 (as it was research that there is no adjective in 2 letter)\n",
    "1. Convert the words to lowercase\n",
    "1. Remove stopwords\n",
    "1. Snowball stemming the word(it is observed that Snoball stemming is better that Porter stemming)\n",
    "\n",
    "***After this we will collect the words and will use to describe positive and negative reviews.***"
   ]
  },
  {
   "cell_type": "code",
   "execution_count": 12,
   "metadata": {},
   "outputs": [
    {
     "name": "stdout",
     "output_type": "stream",
     "text": [
      "I set aside at least an hour each day to read to my son (3 y/o). At this point, I consider myself a connoisseur of children's books and this is one of the best. Santa Clause put this under the tree. Since then, we've read it perpetually and he loves it.<br /><br />First, this book taught him the months of the year.<br /><br />Second, it's a pleasure to read. Well suited to 1.5 y/o old to 4+.<br /><br />Very few children's books are worth owning. Most should be borrowed from the library. This book, however, deserves a permanent spot on your shelf. Sendak's best.\n",
      "6\n"
     ]
    }
   ],
   "source": [
    "#finding HTML tags in sentences\n",
    "import re\n",
    "i=0\n",
    "for review in final_data['Text'].values:\n",
    "    if (len(re.findall('<.*?>',review))):\n",
    "        print(review)\n",
    "        break\n",
    "    i=i+1\n",
    "print(i)"
   ]
  },
  {
   "cell_type": "code",
   "execution_count": 13,
   "metadata": {},
   "outputs": [
    {
     "name": "stdout",
     "output_type": "stream",
     "text": [
      "{'mightn', 'had', 'further', 'off', 'can', \"won't\", \"you've\", \"wasn't\", 'from', 'ours', 'shouldn', 'weren', 'or', \"doesn't\", 'herself', 'having', 'been', 'more', \"mustn't\", \"you'll\", 'is', 'than', 'are', 'doing', 're', 'an', 'over', 'both', 'not', 'yourself', 'hadn', 'again', 'up', 'those', 'them', 'until', 'its', 'whom', 'same', 'only', 'doesn', 'his', 'where', 'which', \"you'd\", 'once', 'being', 'her', 'other', 'now', 'theirs', 'for', 'some', \"mightn't\", 'no', 'your', 'before', \"needn't\", 'didn', 'down', 'needn', 'who', 'does', \"aren't\", \"hadn't\", \"haven't\", 'about', 'out', 'their', 'how', 'we', 'each', 'too', 'aren', 'has', 't', 'wouldn', 'of', 'through', 'should', 'a', 'against', 'that', 'why', 'was', \"it's\", 'between', 'nor', 'hasn', 'ain', 'wasn', 'haven', 'isn', 'what', 'our', 'do', 'me', 'you', \"isn't\", 'myself', 'yours', \"wouldn't\", 'i', 'have', 'during', 'ourselves', 'him', 'to', 'd', \"didn't\", \"shan't\", 'they', 'but', 'my', 'will', \"you're\", 'he', 'such', \"she's\", 'below', 'above', 'don', 'be', 's', 'most', 'few', 'the', 'were', 'll', 'very', 'this', 'on', 'am', \"that'll\", 'so', 'm', 'o', 'won', 'just', \"hasn't\", \"should've\", 'did', 'these', \"don't\", 'while', 'all', 'couldn', 'mustn', 'under', \"weren't\", 'as', \"shouldn't\", 'and', 'yourselves', 'there', 'by', 'then', 'because', 'ma', 'in', \"couldn't\", 've', 'it', 'himself', 'if', 'at', 'own', 'y', 'themselves', 'here', 'shan', 'hers', 'into', 'any', 'after', 'when', 'itself', 'with', 'she'}\n",
      "************************************************************\n",
      " \n",
      "['had', 'further', 'off', 'can', \"you've\", 'from', 'ours', 'or', 'herself', 'having', 'been', 'more', \"you'll\", 'is', 'than', 'are', 'doing', 're', 'an', 'over', 'both', 'yourself', 'again', 'up', 'those', 'them', 'until', 'its', 'whom', 'same', 'only', 'his', 'where', 'which', \"you'd\", 'once', 'being', 'her', 'other', 'now', 'theirs', 'for', 'some', 'no', 'your', 'before', 'down', 'who', 'does', 'about', 'out', 'their', 'how', 'we', 'each', 'too', 'has', 't', 'of', 'through', 'should', 'a', 'that', 'why', 'was', \"it's\", 'between', 'nor', 'what', 'our', 'do', 'me', 'you', 'myself', 'yours', 'i', 'have', 'during', 'ourselves', 'him', 'to', 'd', \"shan't\", 'they', 'but', 'my', 'will', \"you're\", 'he', 'such', \"she's\", 'below', 'above', 'be', 's', 'most', 'few', 'the', 'were', 'll', 'very', 'this', 'on', 'am', \"that'll\", 'so', 'm', 'o', 'just', \"should've\", 'did', 'these', 'while', 'all', 'under', 'as', 'and', 'yourselves', 'there', 'by', 'then', 'because', 'ma', 'in', 've', 'it', 'himself', 'if', 'at', 'own', 'y', 'themselves', 'here', 'shan', 'hers', 'into', 'any', 'after', 'when', 'itself', 'with', 'she']\n",
      " \n",
      "************************************************************\n",
      "base_word of tasty: tasti\n"
     ]
    }
   ],
   "source": [
    "import re\n",
    "import string\n",
    "from nltk.corpus import stopwords\n",
    "from nltk.stem import PorterStemmer\n",
    "from nltk.stem.wordnet import WordNetLemmatizer\n",
    "\n",
    "stop = set(stopwords.words('english')) # creating set of stopwords\n",
    "print(stop) # it will to show all the stopwords in NLTK\n",
    "excluding_stop = ['against','not','don', \"don't\",'ain', 'aren', \"aren't\", 'couldn', \"couldn't\", 'didn', \"didn't\",\n",
    "             'doesn', \"doesn't\", 'hadn', \"hadn't\", 'hasn', \"hasn't\", 'haven', \"haven't\", 'isn', \"isn't\", \n",
    "             'mightn', \"mightn't\", 'mustn', \"mustn't\", 'needn', \"needn't\",'shouldn', \"shouldn't\", 'wasn',\n",
    "             \"wasn't\", 'weren', \"weren't\", 'won', \"won't\", 'wouldn', \"wouldn't\"]\n",
    "print('****'*15)\n",
    "\n",
    "stop = [word for word in stop if word not in excluding_stop]\n",
    "print(' ')\n",
    "print(stop)\n",
    "snowstem=nltk.stem.SnowballStemmer('english') # intialising the snowball stemmer\n",
    "print(' ')\n",
    "print('****'*15)\n",
    "print(\"base_word of tasty:\", snowstem.stem('tasty')) # it will tell us the base word or do stemming\n",
    "\n",
    "# creating a function to clean the word of any html-tags. The function will remove the html tag and evrything between them with \"1\" space \n",
    "def cleanhtml(sentence):\n",
    "    cleanr = re.compile('<.*?>')\n",
    "    cleantext = re.sub(cleanr, ' ', sentence)\n",
    "    return cleantext\n",
    "# creating a function to clean the punctuation or special characters .The function will create the punctuation with empty string\n",
    "def cleanpunc(sentence):\n",
    "    cleaned= re.sub(r'[?|!|\\'|\"|#]',r'',sentence)\n",
    "    cleaned= re.sub(r'[.|,|)|(|\\|/]',r'',cleaned)\n",
    "    return cleaned\n",
    " "
   ]
  },
  {
   "cell_type": "code",
   "execution_count": 14,
   "metadata": {},
   "outputs": [
    {
     "name": "stdout",
     "output_type": "stream",
     "text": [
      "I set aside at least an hour each day to read to my son (3 y/o). At this point, I consider myself a connoisseur of children's books and this is one of the best. Santa Clause put this under the tree. Since then, we've read it perpetually and he loves it.<br /><br />First, this book taught him the months of the year.<br /><br />Second, it's a pleasure to read. Well suited to 1.5 y/o old to 4+.<br /><br />Very few children's books are worth owning. Most should be borrowed from the library. This book, however, deserves a permanent spot on your shelf. Sendak's best.\n",
      "==================================================\n",
      "I was really looking forward to these pods based on the reviews.  Starbucks is good, but I prefer bolder taste.... imagine my surprise when I ordered 2 boxes - both were expired! One expired back in 2005 for gosh sakes.  I admit that Amazon agreed to credit me for cost plus part of shipping, but geez, 2 years expired!!!  I'm hoping to find local San Diego area shoppe that carries pods so that I can try something different than starbucks.\n",
      "==================================================\n",
      "Great ingredients although, chicken should have been 1st rather than chicken broth, the only thing I do not think belongs in it is Canola oil. Canola or rapeseed is not someting a dog would ever find in nature and if it did find rapeseed in nature and eat it, it would poison them. Today's Food industries have convinced the masses that Canola oil is a safe and even better oil than olive or virgin coconut, facts though say otherwise. Until the late 70's it was poisonous until they figured out a way to fix that. I still like it but it could be better.\n",
      "==================================================\n",
      "Can't do sugar.  Have tried scores of SF Syrups.  NONE of them can touch the excellence of this product.<br /><br />Thick, delicious.  Perfect.  3 ingredients: Water, Maltitol, Natural Maple Flavor.  PERIOD.  No chemicals.  No garbage.<br /><br />Have numerous friends & family members hooked on this stuff.  My husband & son, who do NOT like \"sugar free\" prefer this over major label regular syrup.<br /><br />I use this as my SWEETENER in baking: cheesecakes, white brownies, muffins, pumpkin pies, etc... Unbelievably delicious...<br /><br />Can you tell I like it? :)\n",
      "==================================================\n"
     ]
    }
   ],
   "source": [
    "# printing some random reviews\n",
    "sent_0 = final_data['Text'].values[6]\n",
    "print(sent_0)\n",
    "print(\"=\"*50)\n",
    "\n",
    "sent_1000 = final_data['Text'].values[1000]\n",
    "print(sent_1000)\n",
    "print(\"=\"*50)\n",
    "\n",
    "sent_1500 = final_data['Text'].values[1500]\n",
    "print(sent_1500)\n",
    "print(\"=\"*50)\n",
    "\n",
    "sent_4900 = final_data['Text'].values[4900]\n",
    "print(sent_4900)\n",
    "print(\"=\"*50)"
   ]
  },
  {
   "cell_type": "code",
   "execution_count": 15,
   "metadata": {},
   "outputs": [
    {
     "name": "stdout",
     "output_type": "stream",
     "text": [
      "I set aside at least an hour each day to read to my son (3 y/o). At this point, I consider myself a connoisseur of children's books and this is one of the best. Santa Clause put this under the tree. Since then, we've read it perpetually and he loves it.<br /><br />First, this book taught him the months of the year.<br /><br />Second, it's a pleasure to read. Well suited to 1.5 y/o old to 4+.<br /><br />Very few children's books are worth owning. Most should be borrowed from the library. This book, however, deserves a permanent spot on your shelf. Sendak's best.\n"
     ]
    }
   ],
   "source": [
    "import re    #Tutorial about Python regular expressions: https://pymotw.com/2/re/\n",
    "# remove urls from text python : *https://stackoverflow.com/a/40823105/4084039*\n",
    "sent_0=re.sub(r'https\\S+','',sent_0)\n",
    "sent_1000=re.sub(r'https\\S+','',sent_1000)\n",
    "sent_1500=re.sub(r'https\\S+','',sent_1500)\n",
    "sent_4900=re.sub(r'http\\S+', '', sent_4900)\n",
    "\n",
    "print(sent_0)"
   ]
  },
  {
   "cell_type": "code",
   "execution_count": 16,
   "metadata": {},
   "outputs": [
    {
     "name": "stdout",
     "output_type": "stream",
     "text": [
      "Requirement already satisfied: beautifulsoup4 in c:\\users\\rainbowcomputer\\anaconda3\\envs\\tensml\\lib\\site-packages (4.9.3)\n",
      "Requirement already satisfied: soupsieve>1.2; python_version >= \"3.0\" in c:\\users\\rainbowcomputer\\anaconda3\\envs\\tensml\\lib\\site-packages (from beautifulsoup4) (2.0.1)\n",
      "Note: you may need to restart the kernel to use updated packages.\n"
     ]
    }
   ],
   "source": [
    "pip install beautifulsoup4"
   ]
  },
  {
   "cell_type": "code",
   "execution_count": null,
   "metadata": {},
   "outputs": [],
   "source": [
    "pip install lxml"
   ]
  },
  {
   "cell_type": "code",
   "execution_count": 17,
   "metadata": {},
   "outputs": [
    {
     "name": "stdout",
     "output_type": "stream",
     "text": [
      "I set aside at least an hour each day to read to my son (3 y/o). At this point, I consider myself a connoisseur of children's books and this is one of the best. Santa Clause put this under the tree. Since then, we've read it perpetually and he loves it.First, this book taught him the months of the year.Second, it's a pleasure to read. Well suited to 1.5 y/o old to 4+.Very few children's books are worth owning. Most should be borrowed from the library. This book, however, deserves a permanent spot on your shelf. Sendak's best.\n",
      "==================================================\n",
      "I was really looking forward to these pods based on the reviews.  Starbucks is good, but I prefer bolder taste.... imagine my surprise when I ordered 2 boxes - both were expired! One expired back in 2005 for gosh sakes.  I admit that Amazon agreed to credit me for cost plus part of shipping, but geez, 2 years expired!!!  I'm hoping to find local San Diego area shoppe that carries pods so that I can try something different than starbucks.\n",
      "==================================================\n",
      "Great ingredients although, chicken should have been 1st rather than chicken broth, the only thing I do not think belongs in it is Canola oil. Canola or rapeseed is not someting a dog would ever find in nature and if it did find rapeseed in nature and eat it, it would poison them. Today's Food industries have convinced the masses that Canola oil is a safe and even better oil than olive or virgin coconut, facts though say otherwise. Until the late 70's it was poisonous until they figured out a way to fix that. I still like it but it could be better.\n",
      "==================================================\n",
      "Can't do sugar.  Have tried scores of SF Syrups.  NONE of them can touch the excellence of this product.Thick, delicious.  Perfect.  3 ingredients: Water, Maltitol, Natural Maple Flavor.  PERIOD.  No chemicals.  No garbage.Have numerous friends & family members hooked on this stuff.  My husband & son, who do NOT like \"sugar free\" prefer this over major label regular syrup.I use this as my SWEETENER in baking: cheesecakes, white brownies, muffins, pumpkin pies, etc... Unbelievably delicious...Can you tell I like it? :)\n",
      "==================================================\n"
     ]
    }
   ],
   "source": [
    "from bs4 import BeautifulSoup\n",
    "soup=BeautifulSoup(sent_0,'lxml')\n",
    "text=soup.get_text()\n",
    "print(text)\n",
    "print(\"=\"*50)\n",
    "\n",
    "soup=BeautifulSoup(sent_1000,'lxml')\n",
    "text=soup.get_text()\n",
    "print(text)\n",
    "print(\"=\"*50)\n",
    "\n",
    "soup=BeautifulSoup(sent_1500,'lxml')\n",
    "text=soup.get_text()\n",
    "print(text)\n",
    "print(\"=\"*50)\n",
    "\n",
    "soup=BeautifulSoup(sent_4900,'lxml')\n",
    "text=soup.get_text()\n",
    "print(text)\n",
    "print(\"=\"*50)\n"
   ]
  },
  {
   "cell_type": "code",
   "execution_count": 18,
   "metadata": {},
   "outputs": [],
   "source": [
    "import os\n",
    "import re\n",
    "def decontracted(phrase):\n",
    "    phrase=re.sub(r\"won't\",'will not',phrase)\n",
    "    phrase=re.sub(r\"can\\'t\",'can not',phrase)\n",
    "    phrase=re.sub(r\"n\\'t\",'not',phrase)\n",
    "    phrase=re.sub(r\"\\'re\",'are',phrase)\n",
    "    phrase = re.sub(r\"\\'s\", \" is\", phrase)\n",
    "    phrase = re.sub(r\"\\'d\", \" would\", phrase)\n",
    "    phrase = re.sub(r\"\\'ll\", \" will\", phrase)\n",
    "    phrase = re.sub(r\"\\'t\", \" not\", phrase)\n",
    "    phrase = re.sub(r\"\\'ve\", \" have\", phrase)\n",
    "    phrase = re.sub(r\"\\'m\", \" am\", phrase)\n",
    "    return phrase"
   ]
  },
  {
   "cell_type": "code",
   "execution_count": 19,
   "metadata": {},
   "outputs": [
    {
     "name": "stdout",
     "output_type": "stream",
     "text": [
      "I set aside at least an hour each day to read to my son (3 y/o). At this point, I consider myself a connoisseur of children's books and this is one of the best. Santa Clause put this under the tree. Since then, we've read it perpetually and he loves it.<br /><br />First, this book taught him the months of the year.<br /><br />Second, it's a pleasure to read. Well suited to 1.5 y/o old to 4+.<br /><br />Very few children's books are worth owning. Most should be borrowed from the library. This book, however, deserves a permanent spot on your shelf. Sendak's best.\n",
      "==================================================\n",
      "Great ingredients although chicken should have been 1st rather than chicken broth the only thing I do not think belongs in it is Canola oil Canola or rapeseed is not someting a dog would ever find in nature and if it did find rapeseed in nature and eat it it would poison them Today s Food industries have convinced the masses that Canola oil is a safe and even better oil than olive or virgin coconut facts though say otherwise Until the late 70 s it was poisonous until they figured out a way to fix that I still like it but it could be better \n"
     ]
    }
   ],
   "source": [
    "#rremove words with no. python  # https://stackoverflow.com/a/18082370/4084039\n",
    "sent_0=re.sub(\"\\S\\d\\S\",\"\",sent_0).strip()\n",
    "print(sent_0)\n",
    "print(\"=\"*50)\n",
    "\n",
    "#remove specail charachter # https://stackoverflow.com/a/5843547/4084039\n",
    "sent_1500=re.sub('[^A-Za-z0-9]+',' ',sent_1500)\n",
    "print(sent_1500)\n"
   ]
  },
  {
   "cell_type": "code",
   "execution_count": 20,
   "metadata": {},
   "outputs": [
    {
     "name": "stderr",
     "output_type": "stream",
     "text": [
      "100%|█████████████████████████████████████████████████████████████████████████| 364171/364171 [06:18<00:00, 963.28it/s]\n"
     ]
    }
   ],
   "source": [
    "#Combining all the statement above\n",
    "from tqdm import tqdm\n",
    "preprocessed_review=[]\n",
    "for sentence in tqdm(final_data['Text'].values):\n",
    "    sentence=re.sub(r\"http\\S+\", \"\",sentence)\n",
    "    sentence=BeautifulSoup(sentence,'lxml').get_text()\n",
    "    sentence=decontracted(sentence)\n",
    "    sentence=re.sub(\"\\S*\\d\\S*\",\"\",sentence).strip()\n",
    "    sentence=re.sub('[^A-Za-z]+', ' ', sentence)\n",
    "    # https://gist.github.com/sebleier/554280\n",
    "    sentence=' '.join(e.lower() for e in sentence.split() if e.lower() not in stop)\n",
    "    preprocessed_review.append(sentence.strip())\n",
    "    "
   ]
  },
  {
   "cell_type": "code",
   "execution_count": 21,
   "metadata": {},
   "outputs": [
    {
     "name": "stderr",
     "output_type": "stream",
     "text": [
      "100%|████████████████████████████████████████████████████████████████████████| 364171/364171 [03:59<00:00, 1523.17it/s]\n"
     ]
    }
   ],
   "source": [
    "from tqdm import tqdm\n",
    "preprocessed_summary=[]\n",
    "for sentence in tqdm(final_data['Summary'].values):\n",
    "    sentence=re.sub(r\"http\\S+\", \"\",sentence)\n",
    "    sentence=BeautifulSoup(sentence,'lxml').get_text()\n",
    "    sentence=decontracted(sentence)\n",
    "    sentence=re.sub(\"\\S*\\d\\S*\",\"\",sentence).strip()\n",
    "    sentence=re.sub('[^A-Za-z]+', ' ', sentence)\n",
    "    # https://gist.github.com/sebleier/554280\n",
    "    sentence=' '.join(e.lower() for e in sentence.split() if e.lower() not in stop)\n",
    "    preprocessed_summary.append(sentence.strip())\n",
    "    "
   ]
  },
  {
   "cell_type": "code",
   "execution_count": 22,
   "metadata": {},
   "outputs": [
    {
     "name": "stdout",
     "output_type": "stream",
     "text": [
      "Requirement already satisfied: bs4 in c:\\users\\rainbowcomputer\\anaconda3\\envs\\tensml\\lib\\site-packages (0.0.1)Note: you may need to restart the kernel to use updated packages.\n",
      "Requirement already satisfied: beautifulsoup4 in c:\\users\\rainbowcomputer\\anaconda3\\envs\\tensml\\lib\\site-packages (from bs4) (4.9.3)\n",
      "Requirement already satisfied: soupsieve>1.2; python_version >= \"3.0\" in c:\\users\\rainbowcomputer\\anaconda3\\envs\\tensml\\lib\\site-packages (from beautifulsoup4->bs4) (2.0.1)\n",
      "\n"
     ]
    }
   ],
   "source": [
    "pip install bs4"
   ]
  },
  {
   "cell_type": "code",
   "execution_count": 23,
   "metadata": {},
   "outputs": [
    {
     "name": "stdout",
     "output_type": "stream",
     "text": [
      "==================================================\n",
      "0 )>> this witty little book makes my son laugh at loud. i recite it in the car as we're driving along and he always can sing the refrain. he's learned about whales, India, drooping roses:  i love all the new words this book  introduces and the silliness of it all.  this is a classic book i am  willing to bet my son will STILL be able to recite from memory when he is  in college\n",
      "==================================================\n",
      "1 )>> I grew up reading these Sendak books, and watching the Really Rosie movie that incorporates them, and love them. My son loves them too. I do however, miss the hard cover version. The paperbacks seem kind of flimsy and it takes two hands to keep the pages open.\n",
      "==================================================\n",
      "2 )>> This is a fun way for children to learn their months of the year!  We will learn all of the poems throughout the school year.  they like the handmotions which I invent for each poem.\n",
      "==================================================\n",
      "3 )>> This is a great little book to read aloud- it has a nice rhythm as well as good repetition that little ones like, in the lines about \"chicken soup with rice\".  The child gets to go through the months of the year and go to wonderful places like Bombay and down the Nile, all the while, eating, well, you know what they get to eat.  Some kids will have Maurice Sendak's version of ice skating or how to treat roses in their heads for a long time and they won't even know where it came from.  Surprise!  It came from this little witty book.  :-)\n",
      "==================================================\n",
      "4 )>> This is a book of poetry about the months of the year.  It goes through each month and has a cute little poem to go along with it.  I love this book because it is a really fun way to learn the months and the poems are very creative. The author's purpose for writing this book was to give children a fun way to learn the months.  The children can also learn things about poetry and rhythm through reading this book.\n",
      "==================================================\n",
      "5 )>> A charming, rhyming book that describes the circumstances under which you eat (or don't) chicken soup with rice, month-by-month. This sounds like the kind of thing kids would make up while they're out of recess and sing over and over until they drive the teachers crazy. It's cute and catchy and sounds really childlike but is skillfully written.\n",
      "==================================================\n"
     ]
    }
   ],
   "source": [
    "#SENTENCES Containing HTML tags\n",
    "import re\n",
    "i=0;\n",
    "for sentence in final_data['Text'].values:\n",
    "    if (len(re.findall('<.*?>',sentence))):\n",
    "        break;\n",
    "    print(\"=\"*50)\n",
    "    print(i,\")>>\",sentence)\n",
    "    i=i+1\n",
    "print(\"=\"*50)"
   ]
  },
  {
   "cell_type": "markdown",
   "metadata": {},
   "source": [
    "\n",
    "\n",
    "print(\"Total no. of sentences containing html tags\",i)\n",
    "#Set of stopwords\n",
    "#stop_words=set(stopwords.word('english'))\n",
    "\n",
    "# we are removing the words from the stop words list: 'no', 'nor', 'not' for semantic meanig in bigrams and trigram\n",
    "stopwords= set(['br', 'the', 'i', 'me', 'my', 'myself', 'we', 'our', 'ours', 'ourselves', 'you', \"you're\", \"you've\",\\\n",
    "            \"you'll\", \"you'd\", 'your', 'yours', 'yourself', 'yourselves', 'he', 'him', 'his', 'himself', \\\n",
    "            'she', \"she's\", 'her', 'hers', 'herself', 'it', \"it's\", 'its', 'itself', 'they', 'them', 'their',\\\n",
    "            'theirs', 'themselves', 'what', 'which', 'who', 'whom', 'this', 'that', \"that'll\", 'these', 'those', \\\n",
    "            'am', 'is', 'are', 'was', 'were', 'be', 'been', 'being', 'have', 'has', 'had', 'having', 'do', 'does', \\\n",
    "            'did', 'doing', 'a', 'an', 'the', 'and', 'but', 'if', 'or', 'because', 'as', 'until', 'while', 'of', \\\n",
    "            'at', 'by', 'for', 'with', 'about', 'against', 'between', 'into', 'through', 'during', 'before', 'after',\\\n",
    "            'above', 'below', 'to', 'from', 'up', 'down', 'in', 'out', 'on', 'off', 'over', 'under', 'again', 'further',\\\n",
    "            'then', 'once', 'here', 'there', 'when', 'where', 'why', 'how', 'all', 'any', 'both', 'each', 'few', 'more',\\\n",
    "            'most', 'other', 'some', 'such', 'only', 'own', 'same', 'so', 'than', 'too', 'very', \\\n",
    "            's', 't', 'can', 'will', 'just', 'don', \"don't\", 'should', \"should've\", 'now', 'd', 'll', 'm', 'o', 're', \\\n",
    "            've', 'y', 'ain', 'aren', \"aren't\", 'couldn', \"couldn't\", 'didn', \"didn't\", 'doesn',  'hadn',\\\n",
    "            \"hadn't\", 'hasn', \"hasn't\", 'haven', \"haven't\", 'isn', \"isn't\", 'ma', 'mightn', \"mightn't\", 'mustn',\\\n",
    "            \"mustn't\", 'needn', \"needn't\", 'shan', \"shan't\", 'shouldn', \"shouldn't\", 'wasn',  'weren', \\\n",
    "            'won', \"won't\", 'wouldn'])\n",
    "stemming=nltk.stem.SnowballStemmer('english')\n",
    "\n",
    "#creating funtion to remove html tags from words \n",
    "#https://stackoverflow.com/questions/9662346/python-code-to-remove-html-tags-from-a-string\n",
    "#1st:Using regrex\n",
    "def cleanhtml(sentencs):\n",
    "    cleanr = re.compile('<.*?>')\n",
    "    cleantext = re.sub(cleanr, '', sentencs)\n",
    "    return cleantext\n",
    "#OR\n",
    "#2ndUsing Beautiful\n",
    "from bs4 import BeautifulSoup\n",
    "cleantext=BeautifulSoup(sentence,\"lxml\").text\n",
    "\n",
    "##function to clean the word of any punctuation or special characters\n",
    "def cleanpunc(sentence):\n",
    "    #clean =re.sub('[^A-Za-z0-9]+', '', sentence)\n",
    "    cleanp=re.sub(r'[?|!|\\'|\"|#]',r'',sentence)\n",
    "    clean_punc=re.sub(r'[.|,|)|(|\\|/]',r' ',cleanp)\n",
    "    return clean_punc\n",
    "print('stop words are :',stopwords)\n",
    "print(\"*********************\")\n",
    "print('base word for tasty is :',stemming.stem('tasty'))\n"
   ]
  },
  {
   "cell_type": "markdown",
   "metadata": {},
   "source": [
    "# \n",
    "#the code will take time to run \n",
    "if not os.path.isfile('finalsqlite'):\n",
    "    final_string=[]\n",
    "    all_postive_words=[]\n",
    "    all_negative_words=[]\n",
    "    for i , sentence in enumerate(tqdm(final_data['Text'].values)):\n",
    "        filter_sentence=[]\n",
    "        sent=cleanhtml(sentence)\n",
    "        for words in sent.split():\n",
    "            # we have used cleanpunc(w).split(), one more split function here because consider w=\"abc.def\", cleanpunc(w) will return \"abc def\"\n",
    "            # if we dont use .split() function then we will be considring \"abc def\" as a single word, but if you use .split() function we will get \"abc\", \"def\"\n",
    "            for clean_words in cleanpunc(words).split():\n",
    "                if ((clean_words.isalpha())&(len(clean_words)>2)):\n",
    "                    if (clean_words.lower() not in stopwords):\n",
    "                        s = (stemming.stem(clean_words.lower())).encode(encoding='UTF-8')\n",
    "                        filter_sentence.append(s)\n",
    "                        if (final_data['Score'].values)[i]==1:\n",
    "                            #list of all words used to describe positive reviews\n",
    "                            all_postive_words.append(s)  \n",
    "                            \n",
    "                        if (final_data['Score'].values)[i]==0:\n",
    "                            #list of all words used to describe negative reviews\n",
    "                            all_negative_words.append(s)  \n",
    "                    else:\n",
    "                        continue\n",
    "                else:\n",
    "                    continue\n",
    "        str1=b\" \".join(filter_sentence)#final string of cleaned words\n",
    "        #print(\"***********************************************************************\")\n",
    "        final_string.append(str1)\n",
    "        i+=1\n",
    "     "
   ]
  },
  {
   "cell_type": "code",
   "execution_count": 24,
   "metadata": {},
   "outputs": [],
   "source": [
    "#adding a column of CleanedText which displays the data after pre-processing of the review\n",
    "final_data['Cleaned Text']=preprocessed_review\n",
    "final_data['Cleaned_Summary']=preprocessed_summary\n",
    "\n",
    "#print(final_data[['Text','Clean_text']])\n",
    "#final_data['Cleaned Text']=final_data['Cleaned Text'].str.decode('UTF-8')"
   ]
  },
  {
   "cell_type": "code",
   "execution_count": 25,
   "metadata": {},
   "outputs": [
    {
     "data": {
      "text/html": [
       "<div>\n",
       "<style scoped>\n",
       "    .dataframe tbody tr th:only-of-type {\n",
       "        vertical-align: middle;\n",
       "    }\n",
       "\n",
       "    .dataframe tbody tr th {\n",
       "        vertical-align: top;\n",
       "    }\n",
       "\n",
       "    .dataframe thead th {\n",
       "        text-align: right;\n",
       "    }\n",
       "</style>\n",
       "<table border=\"1\" class=\"dataframe\">\n",
       "  <thead>\n",
       "    <tr style=\"text-align: right;\">\n",
       "      <th></th>\n",
       "      <th>Id</th>\n",
       "      <th>ProductId</th>\n",
       "      <th>UserId</th>\n",
       "      <th>ProfileName</th>\n",
       "      <th>HelpfulnessNumerator</th>\n",
       "      <th>HelpfulnessDenominator</th>\n",
       "      <th>Score</th>\n",
       "      <th>Time</th>\n",
       "      <th>Summary</th>\n",
       "      <th>Text</th>\n",
       "      <th>Cleaned Text</th>\n",
       "      <th>Cleaned_Summary</th>\n",
       "    </tr>\n",
       "  </thead>\n",
       "  <tbody>\n",
       "    <tr>\n",
       "      <th>138706</th>\n",
       "      <td>150524</td>\n",
       "      <td>0006641040</td>\n",
       "      <td>ACITT7DI6IDDL</td>\n",
       "      <td>shari zychinski</td>\n",
       "      <td>0</td>\n",
       "      <td>0</td>\n",
       "      <td>1</td>\n",
       "      <td>1999-10-08</td>\n",
       "      <td>EVERY book is educational</td>\n",
       "      <td>this witty little book makes my son laugh at l...</td>\n",
       "      <td>witty little book makes son laugh loud recite ...</td>\n",
       "      <td>every book educational</td>\n",
       "    </tr>\n",
       "    <tr>\n",
       "      <th>138688</th>\n",
       "      <td>150506</td>\n",
       "      <td>0006641040</td>\n",
       "      <td>A2IW4PEEKO2R0U</td>\n",
       "      <td>Tracy</td>\n",
       "      <td>1</td>\n",
       "      <td>1</td>\n",
       "      <td>1</td>\n",
       "      <td>2007-11-11</td>\n",
       "      <td>Love the book, miss the hard cover version</td>\n",
       "      <td>I grew up reading these Sendak books, and watc...</td>\n",
       "      <td>grew reading sendak books watching really rosi...</td>\n",
       "      <td>love book miss hard cover version</td>\n",
       "    </tr>\n",
       "    <tr>\n",
       "      <th>138689</th>\n",
       "      <td>150507</td>\n",
       "      <td>0006641040</td>\n",
       "      <td>A1S4A3IQ2MU7V4</td>\n",
       "      <td>sally sue \"sally sue\"</td>\n",
       "      <td>1</td>\n",
       "      <td>1</td>\n",
       "      <td>1</td>\n",
       "      <td>2007-10-04</td>\n",
       "      <td>chicken soup with rice months</td>\n",
       "      <td>This is a fun way for children to learn their ...</td>\n",
       "      <td>fun way children learn months year learn poems...</td>\n",
       "      <td>chicken soup rice months</td>\n",
       "    </tr>\n",
       "    <tr>\n",
       "      <th>138690</th>\n",
       "      <td>150508</td>\n",
       "      <td>0006641040</td>\n",
       "      <td>AZGXZ2UUK6X</td>\n",
       "      <td>Catherine Hallberg \"(Kate)\"</td>\n",
       "      <td>1</td>\n",
       "      <td>1</td>\n",
       "      <td>1</td>\n",
       "      <td>2004-02-06</td>\n",
       "      <td>a good swingy rhythm for reading aloud</td>\n",
       "      <td>This is a great little book to read aloud- it ...</td>\n",
       "      <td>great little book read aloud nice rhythm well ...</td>\n",
       "      <td>good swingy rhythm reading aloud</td>\n",
       "    </tr>\n",
       "    <tr>\n",
       "      <th>138691</th>\n",
       "      <td>150509</td>\n",
       "      <td>0006641040</td>\n",
       "      <td>A3CMRKGE0P909G</td>\n",
       "      <td>Teresa</td>\n",
       "      <td>3</td>\n",
       "      <td>4</td>\n",
       "      <td>1</td>\n",
       "      <td>2002-04-10</td>\n",
       "      <td>A great way to learn the months</td>\n",
       "      <td>This is a book of poetry about the months of t...</td>\n",
       "      <td>book poetry months year goes month cute little...</td>\n",
       "      <td>great way learn months</td>\n",
       "    </tr>\n",
       "  </tbody>\n",
       "</table>\n",
       "</div>"
      ],
      "text/plain": [
       "            Id   ProductId          UserId                  ProfileName  \\\n",
       "138706  150524  0006641040   ACITT7DI6IDDL              shari zychinski   \n",
       "138688  150506  0006641040  A2IW4PEEKO2R0U                        Tracy   \n",
       "138689  150507  0006641040  A1S4A3IQ2MU7V4        sally sue \"sally sue\"   \n",
       "138690  150508  0006641040     AZGXZ2UUK6X  Catherine Hallberg \"(Kate)\"   \n",
       "138691  150509  0006641040  A3CMRKGE0P909G                       Teresa   \n",
       "\n",
       "        HelpfulnessNumerator  HelpfulnessDenominator  Score       Time  \\\n",
       "138706                     0                       0      1 1999-10-08   \n",
       "138688                     1                       1      1 2007-11-11   \n",
       "138689                     1                       1      1 2007-10-04   \n",
       "138690                     1                       1      1 2004-02-06   \n",
       "138691                     3                       4      1 2002-04-10   \n",
       "\n",
       "                                           Summary  \\\n",
       "138706                   EVERY book is educational   \n",
       "138688  Love the book, miss the hard cover version   \n",
       "138689               chicken soup with rice months   \n",
       "138690      a good swingy rhythm for reading aloud   \n",
       "138691             A great way to learn the months   \n",
       "\n",
       "                                                     Text  \\\n",
       "138706  this witty little book makes my son laugh at l...   \n",
       "138688  I grew up reading these Sendak books, and watc...   \n",
       "138689  This is a fun way for children to learn their ...   \n",
       "138690  This is a great little book to read aloud- it ...   \n",
       "138691  This is a book of poetry about the months of t...   \n",
       "\n",
       "                                             Cleaned Text  \\\n",
       "138706  witty little book makes son laugh loud recite ...   \n",
       "138688  grew reading sendak books watching really rosi...   \n",
       "138689  fun way children learn months year learn poems...   \n",
       "138690  great little book read aloud nice rhythm well ...   \n",
       "138691  book poetry months year goes month cute little...   \n",
       "\n",
       "                          Cleaned_Summary  \n",
       "138706             every book educational  \n",
       "138688  love book miss hard cover version  \n",
       "138689           chicken soup rice months  \n",
       "138690   good swingy rhythm reading aloud  \n",
       "138691             great way learn months  "
      ]
     },
     "execution_count": 25,
     "metadata": {},
     "output_type": "execute_result"
    }
   ],
   "source": [
    "# converting time in unit=sec\n",
    "final_data['Time']=pd.to_datetime(final_data['Time'],unit='s')\n",
    "final_data.head()"
   ]
  },
  {
   "cell_type": "markdown",
   "metadata": {},
   "source": [
    "# Sorting dataset based on 'Time' feature"
   ]
  },
  {
   "cell_type": "code",
   "execution_count": 26,
   "metadata": {},
   "outputs": [
    {
     "data": {
      "text/html": [
       "<div>\n",
       "<style scoped>\n",
       "    .dataframe tbody tr th:only-of-type {\n",
       "        vertical-align: middle;\n",
       "    }\n",
       "\n",
       "    .dataframe tbody tr th {\n",
       "        vertical-align: top;\n",
       "    }\n",
       "\n",
       "    .dataframe thead th {\n",
       "        text-align: right;\n",
       "    }\n",
       "</style>\n",
       "<table border=\"1\" class=\"dataframe\">\n",
       "  <thead>\n",
       "    <tr style=\"text-align: right;\">\n",
       "      <th></th>\n",
       "      <th>Id</th>\n",
       "      <th>ProductId</th>\n",
       "      <th>UserId</th>\n",
       "      <th>ProfileName</th>\n",
       "      <th>HelpfulnessNumerator</th>\n",
       "      <th>HelpfulnessDenominator</th>\n",
       "      <th>Score</th>\n",
       "      <th>Time</th>\n",
       "      <th>Summary</th>\n",
       "      <th>Text</th>\n",
       "      <th>Cleaned Text</th>\n",
       "      <th>Cleaned_Summary</th>\n",
       "    </tr>\n",
       "  </thead>\n",
       "  <tbody>\n",
       "    <tr>\n",
       "      <th>138706</th>\n",
       "      <td>150524</td>\n",
       "      <td>0006641040</td>\n",
       "      <td>ACITT7DI6IDDL</td>\n",
       "      <td>shari zychinski</td>\n",
       "      <td>0</td>\n",
       "      <td>0</td>\n",
       "      <td>1</td>\n",
       "      <td>1999-10-08</td>\n",
       "      <td>EVERY book is educational</td>\n",
       "      <td>this witty little book makes my son laugh at l...</td>\n",
       "      <td>witty little book makes son laugh loud recite ...</td>\n",
       "      <td>every book educational</td>\n",
       "    </tr>\n",
       "    <tr>\n",
       "      <th>138683</th>\n",
       "      <td>150501</td>\n",
       "      <td>0006641040</td>\n",
       "      <td>AJ46FKXOVC7NR</td>\n",
       "      <td>Nicholas A Mesiano</td>\n",
       "      <td>2</td>\n",
       "      <td>2</td>\n",
       "      <td>1</td>\n",
       "      <td>1999-10-25</td>\n",
       "      <td>This whole series is great way to spend time w...</td>\n",
       "      <td>I can remember seeing the show when it aired o...</td>\n",
       "      <td>remember seeing show aired television years ag...</td>\n",
       "      <td>whole series great way spend time child</td>\n",
       "    </tr>\n",
       "    <tr>\n",
       "      <th>417839</th>\n",
       "      <td>451856</td>\n",
       "      <td>B00004CXX9</td>\n",
       "      <td>AIUWLEQ1ADEG5</td>\n",
       "      <td>Elizabeth Medina</td>\n",
       "      <td>0</td>\n",
       "      <td>0</td>\n",
       "      <td>1</td>\n",
       "      <td>1999-12-02</td>\n",
       "      <td>Entertainingl Funny!</td>\n",
       "      <td>Beetlejuice is a well written movie ..... ever...</td>\n",
       "      <td>beetlejuice well written movie everything exce...</td>\n",
       "      <td>entertainingl funny</td>\n",
       "    </tr>\n",
       "    <tr>\n",
       "      <th>346055</th>\n",
       "      <td>374359</td>\n",
       "      <td>B00004CI84</td>\n",
       "      <td>A344SMIA5JECGM</td>\n",
       "      <td>Vincent P. Ross</td>\n",
       "      <td>1</td>\n",
       "      <td>2</td>\n",
       "      <td>1</td>\n",
       "      <td>1999-12-06</td>\n",
       "      <td>A modern day fairy tale</td>\n",
       "      <td>A twist of rumplestiskin captured on film, sta...</td>\n",
       "      <td>twist rumplestiskin captured film starring mic...</td>\n",
       "      <td>modern day fairy tale</td>\n",
       "    </tr>\n",
       "    <tr>\n",
       "      <th>417838</th>\n",
       "      <td>451855</td>\n",
       "      <td>B00004CXX9</td>\n",
       "      <td>AJH6LUC1UT1ON</td>\n",
       "      <td>The Phantom of the Opera</td>\n",
       "      <td>0</td>\n",
       "      <td>0</td>\n",
       "      <td>1</td>\n",
       "      <td>2000-01-03</td>\n",
       "      <td>FANTASTIC!</td>\n",
       "      <td>Beetlejuice is an excellent and funny movie. K...</td>\n",
       "      <td>beetlejuice excellent funny movie keaton hilar...</td>\n",
       "      <td>fantastic</td>\n",
       "    </tr>\n",
       "  </tbody>\n",
       "</table>\n",
       "</div>"
      ],
      "text/plain": [
       "            Id   ProductId          UserId               ProfileName  \\\n",
       "138706  150524  0006641040   ACITT7DI6IDDL           shari zychinski   \n",
       "138683  150501  0006641040   AJ46FKXOVC7NR        Nicholas A Mesiano   \n",
       "417839  451856  B00004CXX9   AIUWLEQ1ADEG5          Elizabeth Medina   \n",
       "346055  374359  B00004CI84  A344SMIA5JECGM           Vincent P. Ross   \n",
       "417838  451855  B00004CXX9   AJH6LUC1UT1ON  The Phantom of the Opera   \n",
       "\n",
       "        HelpfulnessNumerator  HelpfulnessDenominator  Score       Time  \\\n",
       "138706                     0                       0      1 1999-10-08   \n",
       "138683                     2                       2      1 1999-10-25   \n",
       "417839                     0                       0      1 1999-12-02   \n",
       "346055                     1                       2      1 1999-12-06   \n",
       "417838                     0                       0      1 2000-01-03   \n",
       "\n",
       "                                                  Summary  \\\n",
       "138706                          EVERY book is educational   \n",
       "138683  This whole series is great way to spend time w...   \n",
       "417839                               Entertainingl Funny!   \n",
       "346055                            A modern day fairy tale   \n",
       "417838                                         FANTASTIC!   \n",
       "\n",
       "                                                     Text  \\\n",
       "138706  this witty little book makes my son laugh at l...   \n",
       "138683  I can remember seeing the show when it aired o...   \n",
       "417839  Beetlejuice is a well written movie ..... ever...   \n",
       "346055  A twist of rumplestiskin captured on film, sta...   \n",
       "417838  Beetlejuice is an excellent and funny movie. K...   \n",
       "\n",
       "                                             Cleaned Text  \\\n",
       "138706  witty little book makes son laugh loud recite ...   \n",
       "138683  remember seeing show aired television years ag...   \n",
       "417839  beetlejuice well written movie everything exce...   \n",
       "346055  twist rumplestiskin captured film starring mic...   \n",
       "417838  beetlejuice excellent funny movie keaton hilar...   \n",
       "\n",
       "                                Cleaned_Summary  \n",
       "138706                   every book educational  \n",
       "138683  whole series great way spend time child  \n",
       "417839                      entertainingl funny  \n",
       "346055                    modern day fairy tale  \n",
       "417838                                fantastic  "
      ]
     },
     "execution_count": 26,
     "metadata": {},
     "output_type": "execute_result"
    }
   ],
   "source": [
    "final_data=final_data.sort_values('Time',axis=0, ascending=True, inplace=False, kind='quicksort', na_position='last')\n",
    "final_data.head()"
   ]
  },
  {
   "cell_type": "code",
   "execution_count": 27,
   "metadata": {},
   "outputs": [],
   "source": [
    "#Store the final table into an SQLITE table for future\n",
    "connection=sqlite3.connect('final12.sqlite')\n",
    "c=connection.cursor\n",
    "connection.text_factory=str\n",
    "final_data.to_sql('Reviews',connection,schema=None,if_exists='replace',index=True,index_label=True,chunksize=None,dtype=None)\n",
    "connection.close()"
   ]
  },
  {
   "cell_type": "markdown",
   "metadata": {},
   "source": [
    "# Assignment 5: Apply Logistic Regression\n",
    "1. Apply Logistic Regression on these feature sets\n",
    "    * Review text, preprocessed one converted into vectors using (BOW)\n",
    "    * Review text, preprocessed one converted into vectors using (TFIDF)\n",
    "    * Review text, preprocessed one converted into vectors using (AVG W2v)\n",
    "    * Review text, preprocessed one converted into vectors using (TFIDF W2v)\n",
    "\n",
    "1. Hyper paramter tuning (find best hyper parameters corresponding the algorithm that you choose)\n",
    "    * Finding the best hyper parameter which will give the maximum AUC value\n",
    "                OR\n",
    "    * Finding the best hyper paramter using k-fold cross validation or simple cross validation data\n",
    "                OR\n",
    "    * Use gridsearch cv or randomsearch cv or you can also write your own for loops to do this task of hyperparameter tuning\n",
    "\n",
    "1. Pertubation Test\n",
    "    * Get the weights W after fit your model with the data X.\n",
    "    * Add a noise to the X (X' = X + e) and get the new data set X' (if X is a sparse matrix, X.data+=e)\n",
    "    * Fit the model again on data X' and get the weights W'\n",
    "    * Add a small eps value(to eliminate the divisible by zero error) to W and W’ i.e W=W+10^-6 and W’ = W’+10^-6\n",
    "    * Now find the % change between W and W' (| (W-W') / (W) |)*100)\n",
    "    * Calculate the 0th, 10th, 20th, 30th, ...100th percentiles, and observe any sudden rise in the values of percentage_change_vector\n",
    "    * Ex: consider your 99th percentile is 1.3 and your 100th percentiles are 34.6, there is sudden rise from 1.3 to 34.6, now calculate the 99.1, 99.2, 99.3,..., 100th percentile values and get the proper value after which there is sudden rise the values, assume it is 2.5\n",
    "    * Printing the feature names whose % change is more than a threshold x(in our example it's 2.5)\n",
    "\n",
    "1. Sparsity\n",
    "    * Calculate sparsity on weight vector obtained after using L1 regularization\n",
    "    \n",
    "1. Feature importance\n",
    "    * Get top 10 important features for both positive and negative classes separately.\n",
    "\n",
    "1. Feature engineering\n",
    "    * To increase the performance of your model, we can also experiment with with feature engineering like :\n",
    "        * Taking length of reviews as another feature.\n",
    "        * Considering some features from review summary as well.\n",
    "\n",
    "1. Representation of results\n",
    "    * ploting the performance of model both on train data and cross validation data for each hyper parameter, like shown in the figure.\n",
    "    * Once after you found the best hyper parameter, you need to train your model with it, and find the AUC on test data and plot the ROC curve on both train and test.\n",
    "    * Along with plotting ROC curve, you need to print the confusion matrix with predicted and original labels of test data points. Please visualize your confusion matrices using seaborn heatmaps.\n",
    "\n",
    "1. Conclusion\n",
    "    * summarize the results at the end of the notebook, summarize it in the table format. To print out a table please refer to this prettytable library link\n",
    "\n",
    "\n",
    "1. There will be an issue of data-leakage if you vectorize the entire data and then split it into train/cv/test.\n",
    "2. To avoid the issue of data-leakag, make sure to split your data first and then vectorize it.\n",
    "3. While vectorizing your data, apply the method fit_transform() on you train data, and apply the method transform() on cv/test data.\n"
   ]
  },
  {
   "cell_type": "code",
   "execution_count": 28,
   "metadata": {},
   "outputs": [
    {
     "data": {
      "text/html": [
       "<div>\n",
       "<style scoped>\n",
       "    .dataframe tbody tr th:only-of-type {\n",
       "        vertical-align: middle;\n",
       "    }\n",
       "\n",
       "    .dataframe tbody tr th {\n",
       "        vertical-align: top;\n",
       "    }\n",
       "\n",
       "    .dataframe thead th {\n",
       "        text-align: right;\n",
       "    }\n",
       "</style>\n",
       "<table border=\"1\" class=\"dataframe\">\n",
       "  <thead>\n",
       "    <tr style=\"text-align: right;\">\n",
       "      <th></th>\n",
       "      <th>Id</th>\n",
       "      <th>ProductId</th>\n",
       "      <th>UserId</th>\n",
       "      <th>ProfileName</th>\n",
       "      <th>HelpfulnessNumerator</th>\n",
       "      <th>HelpfulnessDenominator</th>\n",
       "      <th>Score</th>\n",
       "      <th>Time</th>\n",
       "      <th>Summary</th>\n",
       "      <th>Text</th>\n",
       "      <th>Cleaned Text</th>\n",
       "      <th>Cleaned_Summary</th>\n",
       "    </tr>\n",
       "  </thead>\n",
       "  <tbody>\n",
       "    <tr>\n",
       "      <th>347035</th>\n",
       "      <td>375393</td>\n",
       "      <td>B000V4ZY6U</td>\n",
       "      <td>A1QH882X58XK9T</td>\n",
       "      <td>Patrick Purdy</td>\n",
       "      <td>1</td>\n",
       "      <td>2</td>\n",
       "      <td>0</td>\n",
       "      <td>2009-07-09</td>\n",
       "      <td>not Plain salt !!!</td>\n",
       "      <td>They should mention somewhere in the descripti...</td>\n",
       "      <td>mention somewhere description flavored salt ar...</td>\n",
       "      <td>not plain salt</td>\n",
       "    </tr>\n",
       "    <tr>\n",
       "      <th>6034</th>\n",
       "      <td>6533</td>\n",
       "      <td>B00008O36H</td>\n",
       "      <td>A2M9PWAYQIYD0B</td>\n",
       "      <td>Ross</td>\n",
       "      <td>0</td>\n",
       "      <td>0</td>\n",
       "      <td>0</td>\n",
       "      <td>2009-10-23</td>\n",
       "      <td>unless you want to pick dog poop off the floor...</td>\n",
       "      <td>We have two dogs and after a few weeks of swit...</td>\n",
       "      <td>two dogs weeks switching beneful healthy weigh...</td>\n",
       "      <td>unless want pick dog poop floor donot recommend</td>\n",
       "    </tr>\n",
       "    <tr>\n",
       "      <th>345178</th>\n",
       "      <td>373411</td>\n",
       "      <td>B001BM62T4</td>\n",
       "      <td>A7Y9MP7H8LYUE</td>\n",
       "      <td>K. E. Steelman \"mommarock\"</td>\n",
       "      <td>0</td>\n",
       "      <td>0</td>\n",
       "      <td>0</td>\n",
       "      <td>2009-07-16</td>\n",
       "      <td>This drink doesn't fit in either category.</td>\n",
       "      <td>I am both an avid tea drinker and sort of a ma...</td>\n",
       "      <td>avid tea drinker sort manic coffee person defi...</td>\n",
       "      <td>drink doesnot fit either category</td>\n",
       "    </tr>\n",
       "    <tr>\n",
       "      <th>378900</th>\n",
       "      <td>409688</td>\n",
       "      <td>B007NPQRW0</td>\n",
       "      <td>AXLXE8WL6JFY6</td>\n",
       "      <td>Mswilk</td>\n",
       "      <td>0</td>\n",
       "      <td>1</td>\n",
       "      <td>0</td>\n",
       "      <td>2012-09-27</td>\n",
       "      <td>These are ok</td>\n",
       "      <td>I wasn't 100% satisfied with these suckers, th...</td>\n",
       "      <td>wasnot satisfied suckers really flavor ended t...</td>\n",
       "      <td>ok</td>\n",
       "    </tr>\n",
       "    <tr>\n",
       "      <th>222758</th>\n",
       "      <td>241554</td>\n",
       "      <td>B000PJF7BS</td>\n",
       "      <td>A33LUVJZ98CMNK</td>\n",
       "      <td>Elle \"jadesong86\"</td>\n",
       "      <td>1</td>\n",
       "      <td>2</td>\n",
       "      <td>0</td>\n",
       "      <td>2009-11-12</td>\n",
       "      <td>Overly sweet, and flavor doesn't last</td>\n",
       "      <td>The point of this gum is to take one of the so...</td>\n",
       "      <td>point gum take one sours one sweets mix togeth...</td>\n",
       "      <td>overly sweet flavor doesnot last</td>\n",
       "    </tr>\n",
       "  </tbody>\n",
       "</table>\n",
       "</div>"
      ],
      "text/plain": [
       "            Id   ProductId          UserId                 ProfileName  \\\n",
       "347035  375393  B000V4ZY6U  A1QH882X58XK9T               Patrick Purdy   \n",
       "6034      6533  B00008O36H  A2M9PWAYQIYD0B                        Ross   \n",
       "345178  373411  B001BM62T4   A7Y9MP7H8LYUE  K. E. Steelman \"mommarock\"   \n",
       "378900  409688  B007NPQRW0   AXLXE8WL6JFY6                      Mswilk   \n",
       "222758  241554  B000PJF7BS  A33LUVJZ98CMNK           Elle \"jadesong86\"   \n",
       "\n",
       "        HelpfulnessNumerator  HelpfulnessDenominator  Score       Time  \\\n",
       "347035                     1                       2      0 2009-07-09   \n",
       "6034                       0                       0      0 2009-10-23   \n",
       "345178                     0                       0      0 2009-07-16   \n",
       "378900                     0                       1      0 2012-09-27   \n",
       "222758                     1                       2      0 2009-11-12   \n",
       "\n",
       "                                                  Summary  \\\n",
       "347035                                 not Plain salt !!!   \n",
       "6034    unless you want to pick dog poop off the floor...   \n",
       "345178         This drink doesn't fit in either category.   \n",
       "378900                                       These are ok   \n",
       "222758              Overly sweet, and flavor doesn't last   \n",
       "\n",
       "                                                     Text  \\\n",
       "347035  They should mention somewhere in the descripti...   \n",
       "6034    We have two dogs and after a few weeks of swit...   \n",
       "345178  I am both an avid tea drinker and sort of a ma...   \n",
       "378900  I wasn't 100% satisfied with these suckers, th...   \n",
       "222758  The point of this gum is to take one of the so...   \n",
       "\n",
       "                                             Cleaned Text  \\\n",
       "347035  mention somewhere description flavored salt ar...   \n",
       "6034    two dogs weeks switching beneful healthy weigh...   \n",
       "345178  avid tea drinker sort manic coffee person defi...   \n",
       "378900  wasnot satisfied suckers really flavor ended t...   \n",
       "222758  point gum take one sours one sweets mix togeth...   \n",
       "\n",
       "                                        Cleaned_Summary  \n",
       "347035                                   not plain salt  \n",
       "6034    unless want pick dog poop floor donot recommend  \n",
       "345178                drink doesnot fit either category  \n",
       "378900                                               ok  \n",
       "222758                 overly sweet flavor doesnot last  "
      ]
     },
     "execution_count": 28,
     "metadata": {},
     "output_type": "execute_result"
    }
   ],
   "source": [
    "# taking equal no. of negative and positive data points\n",
    "data_pos=final_data[final_data['Score']==1].sample(n=60000)\n",
    "data_neg=final_data[final_data['Score']==0].sample(n=57000)\n",
    "final=pd.concat([data_pos,data_neg])\n",
    "final.tail()"
   ]
  },
  {
   "cell_type": "markdown",
   "metadata": {},
   "source": [
    "# Apply Logistic Regression on BOW"
   ]
  },
  {
   "cell_type": "code",
   "execution_count": 29,
   "metadata": {},
   "outputs": [
    {
     "name": "stdout",
     "output_type": "stream",
     "text": [
      "Shape of X (117000,)\n",
      "Shape of y (117000,)\n"
     ]
    }
   ],
   "source": [
    "y= final['Score']\n",
    "X = final['Cleaned Text']\n",
    "print(\"Shape of X\",X.shape)\n",
    "print(\"Shape of y\",y.shape)"
   ]
  },
  {
   "cell_type": "code",
   "execution_count": 30,
   "metadata": {},
   "outputs": [
    {
     "name": "stdout",
     "output_type": "stream",
     "text": [
      "Shape of X_train is : (57330,)\n",
      "Shape of y_train is : (57330,)\n",
      "************************\n",
      "Shape of X_Cv is : (24570,)\n",
      "Shape of y_cv is : (24570,)\n",
      "************************\n",
      "Shape of X_test is : (35100,)\n",
      "Shape of y_test is : (35100,)\n",
      "************************\n",
      "Shape of X_tr is : (81900,)\n",
      "Shape of y_tr is : (81900,)\n"
     ]
    }
   ],
   "source": [
    "from sklearn.model_selection import train_test_split\n",
    "X_tr ,X_test,y_tr,y_test = train_test_split(X,y,test_size=.30,random_state=0)\n",
    "X_train, X_cv, y_train, y_cv = train_test_split(X_tr, y_tr, test_size=.30, random_state=0)\n",
    "print('Shape of X_train is :',X_train.shape)\n",
    "print('Shape of y_train is :',y_train.shape)\n",
    "print(\"****\"*6)\n",
    "print('Shape of X_Cv is :',X_cv.shape)\n",
    "print('Shape of y_cv is :',y_cv.shape)\n",
    "print(\"****\"*6)\n",
    "print('Shape of X_test is :',X_test.shape)\n",
    "print('Shape of y_test is :',y_test.shape)\n",
    "print(\"****\"*6)\n",
    "print('Shape of X_tr is :',X_tr.shape)\n",
    "print('Shape of y_tr is :',y_tr.shape)"
   ]
  },
  {
   "cell_type": "markdown",
   "metadata": {},
   "source": [
    "## 1. Apply Logistic Regression with L2 regularization on BOW "
   ]
  },
  {
   "cell_type": "code",
   "execution_count": 31,
   "metadata": {},
   "outputs": [
    {
     "name": "stdout",
     "output_type": "stream",
     "text": [
      "After vectorizations\n",
      "(57330, 46695) (57330,)\n",
      "(24570, 46695) (24570,)\n",
      "(35100, 46695) (35100,)\n"
     ]
    }
   ],
   "source": [
    "from sklearn.feature_extraction.text import CountVectorizer\n",
    "# *Converting text into vectors using BOW\n",
    "bow_count_vect=CountVectorizer()\n",
    "bow_count_vect.fit(X_train)\n",
    "# Using the fited CountVectorizer to convert text to vectors\n",
    "Xtrain_bow=bow_count_vect.transform(X_train)\n",
    "Xcv_bow=bow_count_vect.transform(X_cv)\n",
    "Xtest_bow=bow_count_vect.transform(X_test)\n",
    "print(\"After vectorizations\")\n",
    "print(Xtrain_bow.shape, y_train.shape)\n",
    "print(Xcv_bow.shape, y_cv.shape)\n",
    "print(Xtest_bow.shape, y_test.shape)\n",
    "#print(X_tr_bow.shape, y_tr.shape)"
   ]
  },
  {
   "cell_type": "markdown",
   "metadata": {},
   "source": [
    "YOU SHOULD NOT DO LIKE THIS\n",
    "1. THE VOCABULARY SHOULD BUILT ONLY WITH THE WORDS OF TRAIN DATA\n",
    "    * vectorizer = CountVectorizer()\n",
    "    * x_train_bow = vectorizer.fit_transform(X_train)\n",
    "    * x_cv_bow = vectorizer.fit_transform(X_cv)\n",
    "    * x_test_bow = vectorizer.fit_transform(X_test)\n",
    "    \n",
    "2. DATA LEAKAGE PROBLEM: IF WE DO LIKE THIS WE ARE LOOKING AT THE TEST DATA BEFORE MODELING\n",
    "    * vectorizer = CountVectorizer()\n",
    "    * X_bow = vectorizer.fit_transfomr(X)\n",
    "    * X_train, X_test, y_train, y_test = train_test_split(X_bow, Y, test_size=0.33)\n",
    "    \n",
    "3. YOU SHOULD PASS THE PROBABILITY SCORES NOT THE PREDICTED VALUES\n",
    "    * y_pred = neigh.predict(X)\n",
    "    * roc_auc_score(y_ture,y_pred)"
   ]
  },
  {
   "cell_type": "code",
   "execution_count": 32,
   "metadata": {},
   "outputs": [
    {
     "name": "stdout",
     "output_type": "stream",
     "text": [
      "After standardising\n",
      "(57330, 46695) (57330,)\n",
      "(24570, 46695) (24570,)\n",
      "(35100, 46695) (35100,)\n"
     ]
    }
   ],
   "source": [
    "from sklearn import preprocessing\n",
    "from sklearn.preprocessing import StandardScaler\n",
    "from sklearn.linear_model import LogisticRegression\n",
    "from sklearn.preprocessing import StandardScaler\n",
    "scaler=StandardScaler(with_mean=False)\n",
    "scaler.fit(Xtrain_bow)\n",
    "X_tr_bow=scaler.transform(Xtrain_bow)\n",
    "X_test_bow=scaler.transform(Xtest_bow)\n",
    "X_cv_bow=scaler.transform(Xcv_bow)\n",
    "print(\"After standardising\")\n",
    "print(X_tr_bow.shape, y_train.shape)\n",
    "print(X_cv_bow.shape, y_cv.shape)\n",
    "print(X_test_bow.shape, y_test.shape)\n",
    "#print(X_tr_bow.shape, y_tr.shape)"
   ]
  },
  {
   "cell_type": "code",
   "execution_count": 33,
   "metadata": {},
   "outputs": [
    {
     "name": "stdout",
     "output_type": "stream",
     "text": [
      "1e-05 --------> 0.9352553259446112\n",
      "0.0001 --------> 0.9374820200525456\n",
      "0.001 --------> 0.9285772127091058\n",
      "0.01 --------> 0.9093103898082111\n",
      "0.1 --------> 0.8820152988878794\n",
      "1 --------> 0.8610216684244261\n",
      "2.1 --------> 0.8575608399388124\n",
      "10 --------> 0.8541230007248167\n",
      "100 --------> 0.8473005340903385\n",
      "1000 --------> 0.846381460470138\n",
      "10000 --------> 0.8454457324734981\n",
      "100000 --------> 0.8436618478700282\n",
      "Optimal C  is : 0.0001\n"
     ]
    },
    {
     "data": {
      "image/png": "[encoded data removed]",
      "text/plain": [
       "<Figure size 432x288 with 1 Axes>"
      ]
     },
     "metadata": {
      "needs_background": "light"
     },
     "output_type": "display_data"
    }
   ],
   "source": [
    "import math\n",
    "from sklearn.model_selection import cross_val_score\n",
    "C =[0.00001,0.0001,0.001,0.01,0.1,1,2.1,10,100,1000,10000,100000]#C=1/lambda\n",
    "auc_train=[]\n",
    "auc_cv=[]\n",
    "for c in C:\n",
    "    model_logreg=LogisticRegression(penalty='l2',C=c)\n",
    "    model_logreg.fit(X_tr_bow,y_train)\n",
    "    \n",
    "    y_pred_train=model_logreg.predict_proba(X_tr_bow)[:,1]\n",
    "    auc_train.append(roc_auc_score(y_train,y_pred_train))\n",
    "    \n",
    "    y_pred_cv=model_logreg.predict_proba(X_cv_bow)[:,1]\n",
    "    auc_cv.append(roc_auc_score(y_cv,y_pred_cv))\n",
    "    \n",
    "    auc_score_cv =roc_auc_score(y_cv,y_pred_cv)\n",
    "    print(c,\"-------->\",auc_score_cv )\n",
    "    \n",
    "optimal_C=C[auc_cv.index(max(auc_cv))]\n",
    "c=[math.log(x) for x in C]\n",
    "print('Optimal C  is :',optimal_C)\n",
    "fig =plt.figure()\n",
    "plt.plot(c,auc_train,color='green',label='AUC train')\n",
    "plt.plot(c,auc_cv,color='red',label='AUC test')\n",
    "plt.legend(loc='best')\n",
    "plt.xlabel('log(alpha')\n",
    "plt.ylabel('AUC')\n",
    "plt.show()"
   ]
  },
  {
   "cell_type": "markdown",
   "metadata": {},
   "source": [
    "                           Or"
   ]
  },
  {
   "cell_type": "code",
   "execution_count": 34,
   "metadata": {},
   "outputs": [
    {
     "name": "stderr",
     "output_type": "stream",
     "text": [
      "100%|██████████████████████████████████████████████████████████████████████████████████| 12/12 [04:01<00:00, 20.11s/it]\n"
     ]
    },
    {
     "name": "stdout",
     "output_type": "stream",
     "text": [
      "\n",
      "The optimal number of alpha is  0.0001\n"
     ]
    },
    {
     "data": {
      "image/png": "[encoded data removed]",
      "text/plain": [
       "<Figure size 432x288 with 1 Axes>"
      ]
     },
     "metadata": {
      "needs_background": "light"
     },
     "output_type": "display_data"
    }
   ],
   "source": [
    "#Finding optimal_alpha by using 10-fold_cv\n",
    "from sklearn.model_selection import cross_val_score\n",
    "alpha_C=[0.00001,0.0001,0.001,0.01,0.1,1,2.1,10,100,1000,10000,100000]\n",
    "cv_scores=[]\n",
    "#perfrom 10-fold cv\n",
    "for i in tqdm(alpha_C):\n",
    "    model_logreg=LogisticRegression(penalty='l2',C=i)\n",
    "    scores=cross_val_score(model_logreg,X_tr_bow,y_train,cv=10)\n",
    "    cv_scores.append(scores.mean())\n",
    "#Changing to misclassification error\n",
    "MSE=[1 - x for x in cv_scores]\n",
    "\n",
    "#determing best alpha\n",
    "optimal_C=alpha_C[MSE.index(min(MSE))]\n",
    "aplha_C=[math.log(x) for x in alpha_C]\n",
    "print('\\nThe optimal number of alpha is ',optimal_C)\n",
    "#Plot the misclassfication error vs alpha\n",
    "plt.plot(aplha_C,MSE,marker='*')\n",
    "plt.title(\"Misclassification Error vs alpha\")\n",
    "plt.xlabel('value of alpha')\n",
    "plt.ylabel('Misclassification Error')\n",
    "plt.show()"
   ]
  },
  {
   "cell_type": "code",
   "execution_count": 35,
   "metadata": {},
   "outputs": [
    {
     "data": {
      "text/plain": [
       "0.0001"
      ]
     },
     "execution_count": 35,
     "metadata": {},
     "output_type": "execute_result"
    }
   ],
   "source": [
    "optimal_C"
   ]
  },
  {
   "cell_type": "code",
   "execution_count": 36,
   "metadata": {},
   "outputs": [
    {
     "data": {
      "image/png": "[encoded data removed]",
      "text/plain": [
       "<Figure size 432x288 with 1 Axes>"
      ]
     },
     "metadata": {
      "needs_background": "light"
     },
     "output_type": "display_data"
    }
   ],
   "source": [
    "#ROC for labmda=\n",
    "lr=LogisticRegression(penalty='l2',C=optimal_C)\n",
    "lr.fit(X_tr_bow,y_train)\n",
    "predi=lr.predict_proba(X_test_bow)[:,1]\n",
    "fpr1, tpr1, thresholds1 = metrics.roc_curve(y_test, predi)\n",
    "pred=lr.predict_proba(X_tr_bow)[:,1]\n",
    "fpr2,tpr2,thresholds2=metrics.roc_curve(y_train,pred)\n",
    "fig = plt.figure()\n",
    "ax = plt.subplot(111)\n",
    "ax.plot(fpr1, tpr1, label='Test ROC ,auc='+str(roc_auc_score(y_test,predi)))\n",
    "ax.plot(fpr2, tpr2, label='Train ROC ,auc='+str(roc_auc_score(y_train,pred)))\n",
    "plt.title('ROC')\n",
    "plt.xlabel('FPR')\n",
    "plt.ylabel('TPR')\n",
    "ax.legend()\n",
    "plt.show()"
   ]
  },
  {
   "cell_type": "code",
   "execution_count": 37,
   "metadata": {},
   "outputs": [
    {
     "data": {
      "image/png": "[encoded data removed]",
      "text/plain": [
       "<Figure size 432x288 with 2 Axes>"
      ]
     },
     "metadata": {
      "needs_background": "light"
     },
     "output_type": "display_data"
    }
   ],
   "source": [
    "#Confusion matrix using heat map for test data\n",
    "from sklearn.metrics import  confusion_matrix\n",
    "logreg=LogisticRegression(penalty='l2',C=optimal_C)\n",
    "logreg.fit(X_tr_bow,y_train)\n",
    "pred=logreg.predict(X_test_bow)\n",
    "import seaborn as sns\n",
    "conf_mat=confusion_matrix(y_test,pred)\n",
    "class_label = [\"negative\", \"positive\"]\n",
    "df=pd.DataFrame(conf_mat,columns=class_label,index=class_label)\n",
    "sns.heatmap(df,annot=True,fmt='d')\n",
    "plt.title(\"Confusion Matrix\")\n",
    "plt.xlabel(\"Predicted Label\")\n",
    "plt.ylabel(\"True Label\")\n",
    "plt.show()"
   ]
  },
  {
   "cell_type": "markdown",
   "metadata": {},
   "source": [
    "#  Performing pertubation test (multicollinearity check) on BOW"
   ]
  },
  {
   "cell_type": "code",
   "execution_count": null,
   "metadata": {},
   "outputs": [],
   "source": [
    "Weights_before=logreg.coef_\n",
    "\n",
    "X_e=X_tr_bow\n",
    "print('Shape of X_e before adding noise ',X_e.shape)\n",
    "X_e.data=X_e.data+np.random.normal(loc=0,scale=0.0001,size=X_e.data.shape)\n",
    "print('Shape of X_e.data',X_e.data.shape)\n",
    "print('Shape of X_e after adding noise',X_e.shape)"
   ]
  },
  {
   "cell_type": "code",
   "execution_count": null,
   "metadata": {},
   "outputs": [],
   "source": [
    "#Training Logistic regression With X_e\n",
    "lr_e=LogisticRegression(penalty='l2',C=optimal_C)\n",
    "lr_e.fit(X_e,y_train)\n",
    "W_after=lr_e.coef_"
   ]
  },
  {
   "cell_type": "code",
   "execution_count": null,
   "metadata": {},
   "outputs": [],
   "source": [
    "#list(Weights_before[0])"
   ]
  },
  {
   "cell_type": "code",
   "execution_count": null,
   "metadata": {},
   "outputs": [],
   "source": [
    "#to eliminate divisible by zero error we will add 10^-6 to W_before and W_after\n",
    "Weights_before+=10**-6\n",
    "W_after+=10**-6\n",
    "\n",
    "per_vectors=[]\n",
    "\n",
    "print(len(Weights_before[0]))\n",
    "\n",
    "for i in range(len(Weights_before[0])):\n",
    "    val=W_after[0][i]-Weights_before[0][i]\n",
    "    val/=Weights_before[0][i]\n",
    "    per_vectors.append(val)\n",
    "    \n",
    "Original_per_vect=np.absolute(per_vectors)\n",
    "per_vectors=sorted(np.absolute(per_vectors))[::-1]\n",
    "#percentage change iin vectors \n",
    "per_vectors[:10]\n",
    "    "
   ]
  },
  {
   "cell_type": "code",
   "execution_count": null,
   "metadata": {},
   "outputs": [],
   "source": [
    "type(per_vectors)"
   ]
  },
  {
   "cell_type": "code",
   "execution_count": null,
   "metadata": {},
   "outputs": [],
   "source": [
    "#calculating percentile from 0 to 100:\n",
    "for i in range(11): #https://www.geeksforgeeks.org/numpy-percentile-in-python/ \n",
    "    print(str(i*10)+'th percentile = '+str(np.percentile(per_vectors,i*10)))"
   ]
  },
  {
   "cell_type": "code",
   "execution_count": null,
   "metadata": {},
   "outputs": [],
   "source": [
    "#there is sudden rise in percentile from 90 to 100\n",
    "#calculating percentile from 9 to 100:\n",
    "\n",
    "for i in range(90,101): #https://www.geeksforgeeks.org/numpy-percentile-in-python/ \n",
    "    print(str(i)+'th percentile = '+str(np.percentile(per_vectors,i)))"
   ]
  },
  {
   "cell_type": "code",
   "execution_count": null,
   "metadata": {},
   "outputs": [],
   "source": [
    "#there is sudden rise in percentile from 99 to 100\n",
    "#calculating percentile from 99 to 100:\n",
    "\n",
    "for i in range(1,11): #https://www.geeksforgeeks.org/numpy-percentile-in-python/ \n",
    "    print(str(99+(10**-1)*i)+'th percentile = '+str(np.percentile(per_vectors,99+(10**-1)*i)))"
   ]
  },
  {
   "cell_type": "code",
   "execution_count": null,
   "metadata": {},
   "outputs": [],
   "source": [
    "#finding features from 99.9th percentile to 100th percentile\n",
    "print('features from 99.9th percentile to 100th percentile')\n",
    "original_per_vect=Original_per_vect.tolist()\n",
    "all_features=bow_count_vect.get_feature_names()\n",
    "#for i in range(1,11): #https://www.geeksforgeeks.org/numpy-percentile-in-python/ \n",
    "    #index=original_per_vect.index(np.percentile(per_vectors,99.9+(10**-2)*i))\n",
    "    #print(all_features[index])\n",
    "#indx=original_per_vect.index(index)\n",
    "#print(all_features[indx])"
   ]
  },
  {
   "cell_type": "markdown",
   "metadata": {},
   "source": [
    "# Feature Importance on BOW,"
   ]
  },
  {
   "cell_type": "code",
   "execution_count": null,
   "metadata": {},
   "outputs": [],
   "source": [
    "weight=logreg.coef_\n",
    "#x = np.array([3, 1, 2])\n",
    "#np.argsort(x)\n",
    "#array([1, 2, 0])\n",
    "pos_index=np.argsort(weight)[:,::-1]\n",
    "neg_index=np.argsort(weight)\n"
   ]
  },
  {
   "cell_type": "code",
   "execution_count": null,
   "metadata": {},
   "outputs": [],
   "source": [
    "### Top 10 important features of positive class from\n",
    "print('Top 10 important features of positive class ')\n",
    "for i in list(pos_index[0][:10]):\n",
    "    print(all_features[i])"
   ]
  },
  {
   "cell_type": "code",
   "execution_count": null,
   "metadata": {},
   "outputs": [],
   "source": [
    "### Top 10 important features of positive class from\n",
    "print('Top 10 important features of neagtive class ')\n",
    "for i in list(neg_index[0][:10]):\n",
    "    print(all_features[i])"
   ]
  },
  {
   "cell_type": "markdown",
   "metadata": {},
   "source": [
    "# 1. Apply Logistic Regression with L2 regularization on Tfidf"
   ]
  },
  {
   "cell_type": "code",
   "execution_count": null,
   "metadata": {},
   "outputs": [],
   "source": [
    "from sklearn.feature_extraction.text import TfidfVectorizer\n",
    "# Conveting text into vectors using Tf_idf\n",
    "\n",
    "tf_idf_vect=TfidfVectorizer(ngram_range=(1,2))  #taking both unigram and bigram\n",
    "tf_idf_vect.fit(X_train)\n",
    "# Using the transrom fucntion TfidfVectorizer  convert text to vectors\n",
    "Xtrain_tf_idf=tf_idf_vect.transform(X_train)\n",
    "Xcv_tf_idf   =tf_idf_vect.transform(X_cv)\n",
    "Xtest_tf_idf =tf_idf_vect.transform(X_test)\n",
    "print(\"After vectorizations\")\n",
    "print(Xtrain_tf_idf.shape, y_train.shape)\n",
    "print(Xcv_tf_idf.shape, y_cv.shape)\n",
    "print(Xtest_tf_idf.shape, y_test.shape)"
   ]
  },
  {
   "cell_type": "code",
   "execution_count": null,
   "metadata": {},
   "outputs": [],
   "source": [
    "import math\n",
    "from sklearn.model_selection import  cross_val_score\n",
    "C =[0.00001,0.0001,0.001,0.01,0.1,1,2.1,10,100,1000,10000,100000]#C=1/lambda\n",
    "auc_train=[]\n",
    "auc_cv=[]\n",
    "for c in C:\n",
    "    model_logreg=LogisticRegression(penalty='l2',C=c)\n",
    "    model_logreg.fit(Xtrain_tf_idf,y_train)\n",
    "    \n",
    "    y_pred_train=model_logreg.predict_proba(Xtrain_tf_idf)[:,1]  #[:,1] its used for saving ony positve class\n",
    "    auc_train.append(roc_auc_score(y_train,y_pred_train))\n",
    "    \n",
    "    y_pred_cv=model_logreg.predict_proba(Xcv_tf_idf)[:,1]\n",
    "    auc_cv.append(roc_auc_score(y_cv,y_pred_cv))\n",
    "    \n",
    "    auc_score_cv=roc_auc_score(y_cv,y_pred_cv)\n",
    "    print(c,\"-------->\",auc_score_cv )\n",
    "\n",
    "optimal_c=C[auc_cv.index(max(auc_cv))]\n",
    "c=[math.log(x) for x in C]\n",
    "print(\"Optimal c:\",optimal_c)\n",
    "fig=plt.figure()\n",
    "plt.plot(c,auc_train,color='green',label='Auc_Train')\n",
    "plt.plot(c,auc_cv,color='red',label='Auc_Test')\n",
    "plt.legend(loc='best')\n",
    "plt.xlabel('log(alpha')\n",
    "plt.ylabel('AUC')\n",
    "plt.show()\n"
   ]
  },
  {
   "cell_type": "markdown",
   "metadata": {},
   "source": [
    "   Another way of finding optimal_C"
   ]
  },
  {
   "cell_type": "code",
   "execution_count": null,
   "metadata": {},
   "outputs": [],
   "source": [
    "#Finding optimal_alpha by using 10-fold_cv\n",
    "from sklearn.model_selection import cross_val_score\n",
    "alpha_C=[0.00001,0.0001,0.001,0.01,0.1,1,2.1,10,100,1000,10000,100000]\n",
    "cv_score_tfidf=[]\n",
    "#perform 10-foldcv\n",
    "for i in tqdm(alpha_C):\n",
    "    model_logreg_tfidf=LogisticRegression(penalty='l2',C=i)\n",
    "    score_tfidf=cross_val_score(model_logreg_tfidf,Xtrain_tf_idf,y_train,cv=10)\n",
    "    cv_score_tfidf.append(score_tfidf.mean())\n",
    "    \n",
    "#Changing to misclassification error\n",
    "MSE=[1-x for x in cv_score_tfidf]\n",
    "\n",
    "#determine  best alpha\n",
    "optimal_C_tfidf=alpha_C[MSE.index(min(MSE))]\n",
    "print(\"Optimal c:\",optimal_C_tfidf)\n",
    "alpha_C=[math.log(x) for x in alpha_C]\n",
    "#Plot the misclassfication error vs alpha\n",
    "plt.plot(alpha_C,MSE,marker='*')\n",
    "plt.title(\"Misclassification Error vs alpha\")\n",
    "plt.xlabel('value of alpha')\n",
    "plt.ylabel('Misclassification Error')\n",
    "plt.show()"
   ]
  },
  {
   "cell_type": "code",
   "execution_count": null,
   "metadata": {},
   "outputs": [],
   "source": [
    "# Roc for allpha =1000\n",
    "model=LogisticRegression(penalty='l2',C=optimal_C_tfidf)\n",
    "model.fit(Xtrain_tf_idf,y_train)\n",
    "\n",
    "y_test_pred=model.predict_proba(Xtest_tf_idf)[:,1]\n",
    "fpr1,tpr1,thresholds1=metrics.roc_curve(y_test,y_test_pred)\n",
    "\n",
    "y_train_pred=model.predict_proba(Xtrain_tf_idf)[:,1]\n",
    "fpr2,tpr2,thresholds2=metrics.roc_curve(y_train,y_train_pred)\n",
    "\n",
    "fig=plt.figure()\n",
    "ax=plt.subplot(111)\n",
    "ax.plot(fpr1,tpr1,label=\"Test Roc,auc=\"+str(roc_auc_score(y_test,y_test_pred)))\n",
    "ax.plot(fpr2,tpr2,label=\"Train Roc,Auc=\"+str(roc_auc_score(y_train,y_train_pred)))\n",
    "plt.title('ROC')\n",
    "plt.xlabel('FPR')\n",
    "plt.ylabel('TPR')\n",
    "ax.legend()\n",
    "plt.show()\n"
   ]
  },
  {
   "cell_type": "code",
   "execution_count": null,
   "metadata": {},
   "outputs": [],
   "source": [
    "#Confusion matrix using heat map for test data\n",
    "from sklearn.metrics import  confusion_matrix\n",
    "lr=LogisticRegression(penalty='l2',C=optimal_C_tfidf)\n",
    "lr.fit(Xtrain_tf_idf,y_train)\n",
    "pred=lr.predict(Xtest_tf_idf)\n",
    "\n",
    "import seaborn as sns\n",
    "con_mat=confusion_matrix(y_test,pred)\n",
    "class_label=['negative','positive']\n",
    "df=pd.DataFrame(con_mat,index=class_label,columns=class_label)\n",
    "sns.heatmap(df,annot=True,fmt='d')\n",
    "plt.title(\"Confusion Matrix\")\n",
    "plt.xlabel(\"Predicted Label\")\n",
    "plt.ylabel(\"True Label\")\n",
    "plt.show()"
   ]
  },
  {
   "cell_type": "markdown",
   "metadata": {},
   "source": [
    "# Feature Importance on TFIDF"
   ]
  },
  {
   "cell_type": "code",
   "execution_count": null,
   "metadata": {},
   "outputs": [],
   "source": [
    "all_features = tf_idf_vect.get_feature_names()\n",
    "weight=lr.coef_\n",
    "#x = np.array([3, 1, 2])\n",
    "#np.argsort(x)\n",
    "#output >> array([1, 2, 0])\n",
    "pos_index=np.argsort(weight)[:,::-1]\n",
    "neg_index=np.argsort(weight)"
   ]
  },
  {
   "cell_type": "code",
   "execution_count": null,
   "metadata": {},
   "outputs": [],
   "source": [
    "### Top 10 important features of positive class from\n",
    "print('Top 10 important features of positive class ')\n",
    "for i in list(pos_index[0][:10]):\n",
    "    print(all_features[i])"
   ]
  },
  {
   "cell_type": "code",
   "execution_count": null,
   "metadata": {},
   "outputs": [],
   "source": [
    "#Top 10 important features of negative class -=\n",
    "print(\"top 10 negative features:\")\n",
    "for i in list(neg_index[0][0:10]):\n",
    "    print(all_features[i])"
   ]
  },
  {
   "cell_type": "markdown",
   "metadata": {},
   "source": [
    "# Word2Vec"
   ]
  },
  {
   "cell_type": "code",
   "execution_count": null,
   "metadata": {},
   "outputs": [],
   "source": [
    "i=0\n",
    "list_of_Xtr=[]\n",
    "for sent in X_train:\n",
    "    list_of_Xtr.append(sent.split())\n",
    "print(\"len of list_of_Xtr :\",len(list_of_Xtr))\n",
    "\n",
    "i=0\n",
    "list_of_Xtest=[]\n",
    "for sent in X_test:\n",
    "    list_of_Xtest.append(sent.split())\n",
    "print(\"len of list_of_Xtest :\",len(list_of_Xtest))\n",
    "\n",
    "i=0\n",
    "list_of_Xcv=[]\n",
    "for sent in X_cv:\n",
    "    list_of_Xcv.append(sent.split())\n",
    "print(\"len of list_of_Xcv :\",len(list_of_Xcv))\n"
   ]
  },
  {
   "cell_type": "code",
   "execution_count": null,
   "metadata": {},
   "outputs": [],
   "source": [
    "# To Train the word2vec model using train data\n",
    "w2v_model=Word2Vec(list_of_Xtr,min_count=2,size=50,workers=4)\n",
    "\n",
    "#min_count :means if a word doesnt occur atleast 5 times don't create word2vec\n",
    "# vector_size :is the number of dimensions (N) of the N-dimensional space that gensim Word2Vec maps the words onto.\n",
    "#workers : the last of the major parameters (full list here) is for training parallelization, to speed up training:"
   ]
  },
  {
   "cell_type": "code",
   "execution_count": null,
   "metadata": {},
   "outputs": [],
   "source": [
    "w2v_words=list(w2v_model.wv.vocab)\n",
    "print(\"number of words that occured minimum 2 times \",len(w2v_words))\n",
    "print('='*50)\n",
    "print(\"sample words \", w2v_words[0:50])"
   ]
  },
  {
   "cell_type": "code",
   "execution_count": null,
   "metadata": {},
   "outputs": [],
   "source": [
    "print(w2v_model.wv['great'])\n",
    "print('='*50)\n",
    "print(len(w2v_model.wv['great']))"
   ]
  },
  {
   "cell_type": "code",
   "execution_count": null,
   "metadata": {},
   "outputs": [],
   "source": [
    "print(w2v_model.wv.most_similar('great'))\n",
    "print('='*50)\n",
    "print(w2v_model.wv.most_similar('worst'))"
   ]
  },
  {
   "cell_type": "markdown",
   "metadata": {},
   "source": [
    "# Converting text into vectors using Avg W2V"
   ]
  },
  {
   "cell_type": "code",
   "execution_count": null,
   "metadata": {},
   "outputs": [],
   "source": [
    "#Avg W2Vec on train data \n",
    "#computing average word2vec for each reviews\n",
    "sent_vectors_train=[]\n",
    "for sent in tqdm(list_of_Xtr):\n",
    "    sent_vec=np.zeros(50)\n",
    "    count_words=0\n",
    "    for word in sent:\n",
    "        if word in w2v_words:\n",
    "            vec=w2v_model.wv[word]\n",
    "            sent_vec+=vec\n",
    "            count_words+=1\n",
    "    if count_words!=0:\n",
    "        sent_vec/=count_words\n",
    "    sent_vectors_train.append(sent_vec)\n",
    "print(len(sent_vectors_train))\n",
    "print(len(sent_vectors_train[0]))\n"
   ]
  },
  {
   "cell_type": "code",
   "execution_count": null,
   "metadata": {},
   "outputs": [],
   "source": [
    "#Avg W2Vec on test data \n",
    "#computing average word2vec for each reviews\n",
    "sent_vectors_test=[]\n",
    "for sent in tqdm(list_of_Xtest):\n",
    "    sent_vec=np.zeros(50)\n",
    "    count_words=0\n",
    "    for word in sent:\n",
    "        if word in w2v_words:\n",
    "            vec=w2v_model.wv[word]\n",
    "            sent_vec+=vec\n",
    "            count_words+=1\n",
    "    if count_words!=0:\n",
    "        sent_vec/=count_words\n",
    "    sent_vectors_test.append(sent_vec)\n",
    "print(len(sent_vectors_test))\n",
    "print(len(sent_vectors_test[0]))"
   ]
  },
  {
   "cell_type": "code",
   "execution_count": null,
   "metadata": {},
   "outputs": [],
   "source": [
    "#Avg W2Vec on cv data \n",
    "#computing average word2vec for each reviews\n",
    "sent_vectors_cv=[]\n",
    "for sent in tqdm(list_of_Xcv):\n",
    "    sent_vec=np.zeros(50)\n",
    "    count_words=0\n",
    "    for word in sent:\n",
    "        if word in w2v_words:\n",
    "            vec=w2v_model.wv[word]\n",
    "            sent_vec+=vec\n",
    "            count_words+=1\n",
    "    if count_words!=0:\n",
    "        sent_vec/=count_words\n",
    "    sent_vectors_cv.append(sent_vec)\n",
    "print(len(sent_vectors_cv))\n",
    "print(len(sent_vectors_cv[0]))"
   ]
  },
  {
   "cell_type": "code",
   "execution_count": null,
   "metadata": {},
   "outputs": [],
   "source": [
    "x_train_avg=sent_vectors_train\n",
    "x_test_avg=sent_vectors_test\n",
    "x_cv_avg=sent_vectors_cv\n",
    "\n",
    "scaler =StandardScaler(with_mean=False)\n",
    "scaler.fit(x_train_avg)\n",
    "\n",
    "x_train_avg=scaler.transform(x_train_avg)\n",
    "x_test_avg=scaler.transform(x_test_avg)\n",
    "x_cv_avg=scaler.transform(x_cv_avg)\n",
    "\n",
    "print(len(x_train_avg))\n",
    "print(len(x_train_avg[0]))\n",
    "\n",
    "print(len(x_test_avg))\n",
    "print(len(x_test_avg[0]))\n",
    "\n",
    "print(len(x_cv_avg))\n",
    "print(len(x_cv_avg[0]))"
   ]
  },
  {
   "cell_type": "code",
   "execution_count": null,
   "metadata": {},
   "outputs": [],
   "source": [
    "#Finding optimal_alpha by using 10-fold_cv\n",
    "from sklearn.model_selection import cross_val_score\n",
    "alpha_C=[0.00001,0.0001,0.001,0.01,0.1,1,10,100,1000,10000,100000]\n",
    "cv_score_avg_w2v=[]\n",
    "#perform 10-foldcv\n",
    "for i in tqdm(alpha_C):\n",
    "    lr=LogisticRegression(penalty='l2',C=i)\n",
    "    score_avg_W2v=cross_val_score(lr,x_train_avg,y_train,cv=10)\n",
    "    cv_score_avg_w2v.append(score_avg_W2v.mean())\n",
    "    \n",
    "#Changing to misclassification error\n",
    "MSE=[1-x for x in cv_score_avg_w2v]\n",
    "\n",
    "#determine  best alpha\n",
    "optimal_C_avg_W2v=alpha_C[MSE.index(min(MSE))]\n",
    "print(\"Optimal c:\",optimal_C_avg_W2v)\n",
    "alpha_C=[math.log(x) for x in alpha_C]\n",
    "#Plot the misclassfication error vs alpha\n",
    "plt.plot(alpha_C,MSE,marker='*')\n",
    "plt.title(\"Misclassification Error vs alpha\")\n",
    "plt.xlabel('value of alpha')\n",
    "plt.ylabel('Misclassification Error')\n",
    "plt.show()"
   ]
  },
  {
   "cell_type": "code",
   "execution_count": null,
   "metadata": {},
   "outputs": [],
   "source": [
    "# Roc \n",
    "lr =LogisticRegression(penalty='l2',C=optimal_C_avg_W2v)\n",
    "lr.fit(x_train_avg,y_train)\n",
    "\n",
    "y_test_pred=lr.predict_proba(x_test_avg)[:,1]\n",
    "fpr1,tpr1,thresholds1=metrics.roc_curve(y_test,y_test_pred)\n",
    "\n",
    "y_train_pred=lr.predict_proba(x_train_avg)[:,1]\n",
    "fpr2,tpr2,thresholds2=metrics.roc_curve(y_train,y_train_pred)\n",
    "\n",
    "fig = plt.figure()\n",
    "ax = plt.subplot(111)\n",
    "ax.plot(fpr1, tpr1, label='Test ROC ,auc='+str(roc_auc_score(y_test,y_test_pred)))\n",
    "ax.plot(fpr2, tpr2, label='Train ROC ,auc='+str(roc_auc_score(y_train,y_train_pred)))\n",
    "plt.title('ROC')\n",
    "plt.xlabel('FPR')\n",
    "plt.ylabel('TPR')\n",
    "ax.legend()\n",
    "plt.show()"
   ]
  },
  {
   "cell_type": "code",
   "execution_count": null,
   "metadata": {},
   "outputs": [],
   "source": [
    "#Confusion matrix using heatmap for test data\n",
    "from sklearn.metrics import confusion_matrix\n",
    "lr=LogisticRegression(penalty='l2',C=optimal_C_avg_W2v)\n",
    "lr.fit(x_train_avg,y_train)\n",
    "y_predict=lr.predict(x_test_avg)\n",
    "\n",
    "con_matrix=confusion_matrix(y_test,y_predict)\n",
    "class_label=[\"negative\", \"positive\"]\n",
    "df=pd.DataFrame(con_matrix,index=class_label,columns=class_label)\n",
    "sns.heatmap(df,annot=True,fmt='d')\n",
    "plt.title(\"Confusion Matrix\")\n",
    "plt.xlabel(\"Predicted Label\")\n",
    "plt.ylabel(\"True Label\")\n",
    "plt.show()"
   ]
  },
  {
   "cell_type": "markdown",
   "metadata": {},
   "source": [
    "# Applying Logistic Regression with L2 regularization on TFIDF W2V,"
   ]
  },
  {
   "cell_type": "code",
   "execution_count": null,
   "metadata": {},
   "outputs": [],
   "source": [
    "from sklearn.model_selection import train_test_split\n",
    "X_tr ,X_test,y_tr,y_test = train_test_split(X,y,test_size=.30,random_state=0)\n",
    "X_train, X_cv, y_train, y_cv = train_test_split(X_tr, y_tr, test_size=.30, random_state=0)\n",
    "print('Shape of X_train is :',X_train.shape)\n",
    "print('Shape of y_train is :',y_train.shape)\n",
    "print(\"****\"*6)\n",
    "print('Shape of X_Cv is :',X_cv.shape)\n",
    "print('Shape of y_cv is :',y_cv.shape)\n",
    "print(\"****\"*6)\n",
    "print('Shape of X_test is :',X_test.shape)\n",
    "print('Shape of y_test is :',y_test.shape)\n",
    "print(\"****\"*6)\n",
    "print('Shape of X_tr is :',X_tr.shape)\n",
    "print('Shape of y_tr is :',y_tr.shape)"
   ]
  },
  {
   "cell_type": "code",
   "execution_count": null,
   "metadata": {},
   "outputs": [],
   "source": [
    "i=0\n",
    "list_of_Xtr=[]\n",
    "for sent in X_train:\n",
    "    list_of_Xtr.append(sent.split())\n",
    "print(\"len of list_of_Xtr :\",len(list_of_Xtr))\n",
    "\n",
    "i=0\n",
    "list_of_Xtest=[]\n",
    "for sent in X_test:\n",
    "    list_of_Xtest.append(sent.split())\n",
    "print(\"len of list_of_Xtest :\",len(list_of_Xtest))\n",
    "\n",
    "i=0\n",
    "list_of_Xcv=[]\n",
    "for sent in X_cv:\n",
    "    list_of_Xcv.append(sent.split())\n",
    "print(\"len of list_of_Xcv :\",len(list_of_Xcv))\n"
   ]
  },
  {
   "cell_type": "code",
   "execution_count": null,
   "metadata": {},
   "outputs": [],
   "source": [
    "# To Train the word2vec model\n",
    "w2v_model=gensim.models.Word2Vec(list_of_Xtr,min_count=5,size=50,workers=4)\n",
    "#min_count :means if a word doesnt occur atleast 5 times don't create word2vec\n",
    "# vector_size :is the number of dimensions (N) of the N-dimensional space that gensim Word2Vec maps the words onto.\n",
    "#workers : the last of the major parameters (full list here) is for training parallelization, to speed up training:\n",
    "w2vwords=list(w2v_model.wv.vocab)"
   ]
  },
  {
   "cell_type": "code",
   "execution_count": null,
   "metadata": {},
   "outputs": [],
   "source": [
    "tf_idf_model=TfidfVectorizer()\n",
    "tf_idf_model.fit_transform(X_train)\n",
    "#creating a dictinory with a word  as a key and the idf as value\n",
    "dictionary=dict(zip(tf_idf_model.get_feature_names(),list(tf_idf_model.idf_)))\n",
    "\n",
    "dictionary"
   ]
  },
  {
   "cell_type": "code",
   "execution_count": null,
   "metadata": {},
   "outputs": [],
   "source": [
    "tfidf_feat=tf_idf_model.get_feature_names()\n",
    "\n",
    "tf_idf_sent_vect_train=[]\n",
    "row=0\n",
    "for sent in tqdm(list_of_Xtr):\n",
    "    sent_vec=np.zeros(50)\n",
    "    weight_sum=0\n",
    "    for word in sent:\n",
    "        if word in w2vwords and word in tfidf_feat:\n",
    "            vec=w2v_model.wv[word]\n",
    "            #tf_idf=final_tf_idf[row,tfidf_feat.index(word)]\n",
    "            # to reduce the computation we are computing \n",
    "            #dictionary[word]:idf value of the word in whole corpus \n",
    "            #dictionary['aberfoyl get'] output:>>11.263449588064944\n",
    "            #sent.count(word):tfvalues of word in this reviews\n",
    "            tf_idf=dictionary[word]*(sent.count(word)/len(sent))\n",
    "            #sent.count(word) gives us the count of word in sentence and\n",
    "            #then we're dividing this term by total number of words in sent that gives us tf value.\n",
    "            sent_vec+=(vec*tf_idf)\n",
    "            weight_sum+=tf_idf\n",
    "    if weight_sum!=0:\n",
    "        sent_vec/=weight_sum\n",
    "    tf_idf_sent_vect_train.append(sent_vec)\n",
    "    row+=1\n",
    "            "
   ]
  },
  {
   "cell_type": "code",
   "execution_count": null,
   "metadata": {},
   "outputs": [],
   "source": [
    "print(len(tf_idf_sent_vect_train))\n",
    "print(len(tf_idf_sent_vect_train[0]))"
   ]
  },
  {
   "cell_type": "code",
   "execution_count": null,
   "metadata": {},
   "outputs": [],
   "source": [
    "tfidf_feat=tf_idf_model.get_feature_names()\n",
    "\n",
    "tf_idf_sent_vect_test=[]\n",
    "row=0\n",
    "for sent in tqdm(list_of_Xtest):\n",
    "    sent_vec=np.zeros(50)\n",
    "    weight_sum=0\n",
    "    for word in sent:\n",
    "        if word in w2vwords and word in tfidf_feat:\n",
    "            vec=w2v_model.wv[word]\n",
    "            #tf_idf=final_tf_idf[row,tfidf_feat.index(word)]\n",
    "            # to reduce the computation we are computing \n",
    "            #dictionary[word]:idf value of the word in whole corpus \n",
    "            #dictionary['aberfoyl get'] output:>>11.263449588064944\n",
    "            #sent.count(word):tfvalues of word in this reviews\n",
    "            tf_idf=dictionary[word]*(sent.count(word)/len(sent))\n",
    "            #sent.count(word) gives us the count of word in sentence and\n",
    "            #then we're dividing this term by total number of words in sent that gives us tf value.\n",
    "            sent_vec+=(vec*tf_idf)\n",
    "            weight_sum+=tf_idf\n",
    "    if weight_sum!=0:\n",
    "        sent_vec/=weight_sum\n",
    "    tf_idf_sent_vect_test.append(sent_vec)\n",
    "    row+=1\n",
    "            "
   ]
  },
  {
   "cell_type": "code",
   "execution_count": null,
   "metadata": {},
   "outputs": [],
   "source": [
    "print(len(tf_idf_sent_vect_test))\n",
    "print(len(tf_idf_sent_vect_test[0]))"
   ]
  },
  {
   "cell_type": "code",
   "execution_count": null,
   "metadata": {},
   "outputs": [],
   "source": [
    "tf_idf_sent_vect_cv=[]\n",
    "row=0\n",
    "for sent in tqdm(list_of_Xcv):\n",
    "    sent_vec=np.zeros(50)\n",
    "    weight_sum=0\n",
    "    for word in sent:\n",
    "        if word in w2vwords and word in tfidf_feat:\n",
    "            vec=w2v_model.wv[word]\n",
    "            #tf_idf=final_tf_idf[row,tfidf_feat.index(word)]\n",
    "            # to reduce the computation we are computing \n",
    "            #dictionary[word]:idf value of the word in whole corpus \n",
    "            #dictionary['aberfoyl get'] output:>>11.263449588064944\n",
    "            #sent.count(word):tfvalues of word in this reviews\n",
    "            tf_idf=dictionary[word]*(sent.count(word)/len(sent))\n",
    "            #sent.count(word) gives us the count of word in sentence and\n",
    "            #then we're dividing this term by total number of words in sent that gives us tf value.\n",
    "            sent_vec+=(vec*tf_idf)\n",
    "            weight_sum+=tf_idf\n",
    "    if weight_sum!=0:\n",
    "        sent_vec/=weight_sum\n",
    "    tf_idf_sent_vect_cv.append(sent_vec)\n",
    "    row+=1"
   ]
  },
  {
   "cell_type": "code",
   "execution_count": null,
   "metadata": {},
   "outputs": [],
   "source": [
    "print(len(tf_idf_sent_vect_cv))\n",
    "print(len(tf_idf_sent_vect_cv[0]))"
   ]
  },
  {
   "cell_type": "code",
   "execution_count": null,
   "metadata": {},
   "outputs": [],
   "source": [
    "X_train_tf_df_w2vec=tf_idf_sent_vect_train\n",
    "X_test_tf_df_w2vec=tf_idf_sent_vect_test\n",
    "X_cv_tf_df_w2vec=tf_idf_sent_vect_cv\n",
    "\n",
    "C_ = [10**-3, 10**-2, 10**0, 10**2,10**3,10**4]#C=1/lambda\n",
    "auc_train=[]\n",
    "auc_cv=[]\n",
    "for c in C_:\n",
    "    lr=LogisticRegression(penalty='l2',C=c)\n",
    "    lr.fit(X_train_tf_df_w2vec,y_train)\n",
    "    \n",
    "    y_pred_cv=lr.predict_proba(X_cv_tf_df_w2vec)[:,1]\n",
    "    auc_cv.append(roc_auc_score(y_cv,y_pred_cv))\n",
    "    \n",
    "    y_pred_train=lr.predict_proba(X_train_tf_df_w2vec)[:,1]\n",
    "    auc_train.append(roc_auc_score(y_train,y_pred_train))\n",
    "    \n",
    "    auc_score_cv=roc_auc_score(y_cv,y_pred_cv)\n",
    "    print(c,\"-------->\",auc_score_cv )\n",
    "\n",
    "optimal_c_tfidf_w2v=C_[auc_cv.index(max(auc_cv))]\n",
    "c=[math.log(x) for x in C_]\n",
    "print(\"Optimal c:\",optimal_c_tfidf_w2v)\n",
    "fig=plt.figure()\n",
    "plt.plot(c,auc_train,color='green',label='Auc_Train')\n",
    "plt.plot(c,auc_cv,color='red',label='Auc_Test')\n",
    "plt.legend(loc='best')\n",
    "plt.xlabel('log(alpha')\n",
    "plt.ylabel('AUC')\n",
    "plt.show()\n",
    "    "
   ]
  },
  {
   "cell_type": "code",
   "execution_count": null,
   "metadata": {},
   "outputs": [],
   "source": [
    "#Roc \n",
    "lr=LogisticRegression(penalty='l2',C=optimal_c_tfidf_w2v)\n",
    "lr.fit(X_train_tf_df_w2vec,y_train)\n",
    "    \n",
    "y_pred_test=lr.predict_proba(X_test_tf_df_w2vec)[:,1]\n",
    "fpr1,tpr1,thresholds1=metrics.roc_curve(y_test,y_pred_test)\n",
    "\n",
    "y_pred_train=lr.predict_proba(X_train_tf_df_w2vec)[:,1]\n",
    "fpr2,tpr2,thresholds2=metrics.roc_curve(y_train,y_pred_train)\n",
    "\n",
    "fig = plt.figure()\n",
    "ax = plt.subplot(111)\n",
    "ax.plot(fpr1, tpr1, label='Test ROC ,auc='+str(roc_auc_score(y_test,y_pred_test)))\n",
    "ax.plot(fpr2, tpr2, label='Train ROC ,auc='+str(roc_auc_score(y_train,y_pred_train)))\n",
    "plt.title('ROC')\n",
    "plt.xlabel('FPR')\n",
    "plt.ylabel('TPR')\n",
    "ax.legend()\n",
    "plt.show()"
   ]
  },
  {
   "cell_type": "code",
   "execution_count": null,
   "metadata": {},
   "outputs": [],
   "source": [
    "#Confusion matrix using Heat map for test data\n",
    "#Confusion matrix using heatmap for test data\n",
    "from sklearn.metrics import confusion_matrix\n",
    "lr=LogisticRegression(penalty='l2',C=optimal_c_tfidf_w2v)\n",
    "lr.fit(X_train_tf_df_w2vec,y_train)\n",
    "y_predic=lr.predict(X_test_tf_df_w2vec)\n",
    "\n",
    "from sklearn.metrics import confusion_matrix\n",
    "import seaborn as sns    \n",
    "conf_matrix=confusion_matrix(y_test,y_predic)\n",
    "class_label=['negative','postive']\n",
    "df=pd.DataFrame(conf_matrix,index=class_label,columns=class_label)\n",
    "sns.heatmap(df,annot=True,fmt='d')\n",
    "plt.title(\"Confusion Matrix\")\n",
    "plt.xlabel(\"Predicted Label\")\n",
    "plt.ylabel(\"True Label\")\n",
    "plt.show()"
   ]
  },
  {
   "cell_type": "code",
   "execution_count": null,
   "metadata": {},
   "outputs": [],
   "source": [
    "# Please compare all your models using Prettytable library\n",
    "from prettytable import PrettyTable    \n",
    "x = PrettyTable()\n",
    "x.field_names = [\"Vectorizer\",\"Regularization\", \"Feature engineering\", \"Hyperameter\", \"AUC\"]\n",
    "x.add_row([\"BOW\",\"l2\",\"Not featured\",0.0001,0.9398])\n",
    "x.add_row([\"TFIDF\",\"l2\",\"Not featured\",10000,0.9688])\n",
    "x.add_row([\"Avg W2v\",\"l2\",\"Not featured\",10,0.9184])\n",
    "x.add_row([\"TFIDF Avg W2v\",\"l2\",\"Not featured\",1,0.8971])\n",
    "\n",
    "print(x)"
   ]
  },
  {
   "cell_type": "markdown",
   "metadata": {},
   "source": [
    "1. First we split whole preprocessed review data to train ,cross validation and test \n",
    "2. Then we applied logistic regression on Bag of Words vectoriser for l2 regularisation then measured best hyperparameter and plotted ROC curve and heatmap on test data \n",
    "3. After that we wrote down top 10 postive and negative features \n",
    "4. Second we applied logistic regression on TFIDF vectoriser for l2 regularisation ,then measured best lambda value and performed same process like Bag of words. \n",
    "5. For Avg Word 2 vec we perform w2v on train data and used models and words of train data to cv and test data \n",
    "6. Then after we applied logistic regression on Avg Word2vec for l2 regularisation \n",
    "7. Just like Avg word2vec we applied logistic regression on TFIDF avgW2vec \n"
   ]
  },
  {
   "cell_type": "code",
   "execution_count": null,
   "metadata": {},
   "outputs": [],
   "source": []
  }
 ],
 "metadata": {
  "kernelspec": {
   "display_name": "Python 3",
   "language": "python",
   "name": "python3"
  },
  "language_info": {
   "codemirror_mode": {
    "name": "ipython",
    "version": 3
   },
   "file_extension": ".py",
   "mimetype": "text/x-python",
   "name": "python",
   "nbconvert_exporter": "python",
   "pygments_lexer": "ipython3",
   "version": "3.7.7"
  }
 },
 "nbformat": 4,
 "nbformat_minor": 4
}
